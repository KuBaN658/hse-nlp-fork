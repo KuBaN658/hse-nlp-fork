{
 "cells": [
  {
   "cell_type": "markdown",
   "metadata": {
    "colab_type": "text",
    "id": "HmsFABwClrsS"
   },
   "source": [
    "### Семинар 4. Seq2seq\n",
    "\n",
    "В этом семинаре мы будем учить рекуррентную модель машинного перевода. Работать будем с описаниями отелей на русском и английском языке.\n",
    "\n",
    "![img](https://esciencegroup.files.wordpress.com/2016/03/seq2seq.jpg)"
   ]
  },
  {
   "cell_type": "markdown",
   "metadata": {},
   "source": [
    "Для скачивания данных запустите код ниже."
   ]
  },
  {
   "cell_type": "code",
   "execution_count": 1,
   "metadata": {},
   "outputs": [],
   "source": [
    "from datasets import load_dataset\n",
    "\n",
    "\n",
    "data = load_dataset('ascolda/ru_en_Crystallography_and_Spectroscopy')"
   ]
  },
  {
   "cell_type": "code",
   "execution_count": 2,
   "metadata": {},
   "outputs": [],
   "source": [
    "def save_texts(lang: str):\n",
    "    texts = '\\n'.join([dic[lang].replace('\\r', '').replace('\\n', '') for dic in data['train']['translation']])\n",
    "    with open(f'data/{lang}_texts.txt', 'w', encoding='utf-8') as f:\n",
    "        print(texts, file=f)"
   ]
  },
  {
   "cell_type": "code",
   "execution_count": 3,
   "metadata": {},
   "outputs": [],
   "source": [
    "save_texts('ru')\n",
    "save_texts('en')"
   ]
  },
  {
   "cell_type": "markdown",
   "metadata": {},
   "source": [
    "### Токенизация\n",
    "\n",
    "Токенизировать наш текст будем с помощью BPE. Все необходимые функции для обучения своего токенизатора можно импортировать из библиотеки `huggingface`. Заметьте, что нам понадобится два токенизатора: для английского и русского языков. Конечно, можно обучить один для всего, но, так как английский текст никогда не пересекается с русским, в этом нет смысла (мы только ухудшим качество токенов)."
   ]
  },
  {
   "cell_type": "code",
   "execution_count": 4,
   "metadata": {},
   "outputs": [],
   "source": [
    "from tokenizers import Tokenizer, processors\n",
    "from tokenizers.pre_tokenizers import Whitespace\n",
    "from tokenizers.models import BPE\n",
    "from tokenizers.trainers import BpeTrainer\n",
    "from transformers import PreTrainedTokenizerFast, PreTrainedTokenizer, BertTokenizer, BertTokenizerFast, GPT2TokenizerFast"
   ]
  },
  {
   "cell_type": "code",
   "execution_count": 5,
   "metadata": {},
   "outputs": [],
   "source": [
    "def train_tokenizer(files):\n",
    "    unk_token = '[UNK]'  # token for unknown words\n",
    "    spl_tokens = ['[UNK]', '[SEP]', '[CLS]', '[PAD]']  # special tokens\n",
    "\n",
    "    tokenizer = Tokenizer(BPE(unk_token=unk_token))\n",
    "    trainer = BpeTrainer(special_tokens=spl_tokens, vocab_size=30000)\n",
    "\n",
    "    tokenizer.pre_tokenizer = Whitespace()\n",
    "    tokenizer.train(files, trainer)\n",
    "\n",
    "    bos_token_id = tokenizer.token_to_id('[CLS]')\n",
    "    eos_token_id = tokenizer.token_to_id('[SEP]')\n",
    "    unk_token_id = tokenizer.token_to_id('[UNK]')\n",
    "    pad_token_id = tokenizer.token_to_id('[PAD]')\n",
    "    \n",
    "    tokenizer.post_processor = processors.TemplateProcessing(\n",
    "        single=f\"[CLS]:0 $A:0 [SEP]:0\",\n",
    "        pair=f\"[CLS]:0 $A:0 [SEP]:0 $B:1 [SEP]:1\",\n",
    "        special_tokens=[(\"[CLS]\", bos_token_id), (\"[SEP]\", eos_token_id)],\n",
    "    )\n",
    "\n",
    "    tokenizer = PreTrainedTokenizerFast(\n",
    "        tokenizer_object=tokenizer,\n",
    "        bos_token='[CLS]',\n",
    "        eos_token='[SEP]',\n",
    "        unk_token='[UNK]',\n",
    "        pad_token='[PAD]'\n",
    "    )\n",
    "    return tokenizer"
   ]
  },
  {
   "cell_type": "code",
   "execution_count": 6,
   "metadata": {},
   "outputs": [],
   "source": [
    "en_tokenizer = train_tokenizer(['data/en_texts.txt'])\n",
    "ru_tokenizer = train_tokenizer(['data/ru_texts.txt'])"
   ]
  },
  {
   "cell_type": "markdown",
   "metadata": {},
   "source": [
    "### Датасет\n",
    "\n",
    "Тут ничего сильно интересного. Читаем наши тексты, делим на тренировочную и тестовую выборки, а затем кладем все в `DataLoader` для дальнейшего удобства."
   ]
  },
  {
   "cell_type": "code",
   "execution_count": 7,
   "metadata": {},
   "outputs": [],
   "source": [
    "with open('data/en_texts.txt', encoding='utf-8') as f:\n",
    "    en_texts = f.read().strip().split('\\n')\n",
    "\n",
    "with open('data/ru_texts.txt', encoding='utf-8') as f:\n",
    "    ru_texts = f.read().strip().split('\\n')\n",
    "\n",
    "texts = list(zip(en_texts, ru_texts))"
   ]
  },
  {
   "cell_type": "code",
   "execution_count": 8,
   "metadata": {},
   "outputs": [],
   "source": [
    "from sklearn.model_selection import train_test_split\n",
    "\n",
    "train_texts, test_texts = train_test_split(texts, test_size=0.05)"
   ]
  },
  {
   "cell_type": "code",
   "execution_count": 9,
   "metadata": {},
   "outputs": [],
   "source": [
    "from torch.utils.data import DataLoader\n",
    "\n",
    "batch_size = 64\n",
    "\n",
    "train_loader = DataLoader(train_texts, batch_size=batch_size, shuffle=True, pin_memory=True)\n",
    "test_loader = DataLoader(test_texts, batch_size=batch_size, shuffle=False, pin_memory=True)"
   ]
  },
  {
   "cell_type": "code",
   "execution_count": 10,
   "metadata": {},
   "outputs": [
    {
     "data": {
      "text/plain": [
       "['СТРУКТУРА НЕОРГАНИЧЕСКИХ СОЕДИНЕНИЙ',\n",
       " 'Методами рентгеноструктурного анализа и электронно-зондового микроанализа исследована новая высокониобиевая разновидность ломоносовита с высокой степенью упорядочения атомов Ti и Nb.',\n",
       " 'Упрощенная формула: Na10Ti2(Nb,Fe,Ti)2(Si2O7)2(PO4)2O4.',\n",
       " 'Параметры триклинной элементарной ячейки: a = 5.411(1), b = 7.108(1), c = 14.477(2) Å, α = 99.78(1)\\uf0b0, β = 96.59 (1)\\uf0b0, γ = 90.26(1)\\uf0b0, V = 544.94(5) Å3, Z = 1, пр. гр. P1.',\n",
       " 'Обсуждается проблема распределения ниобия в минералах со структурным типом ломоносовита и родственными ему типами.']"
      ]
     },
     "execution_count": 10,
     "metadata": {},
     "output_type": "execute_result"
    }
   ],
   "source": [
    "ru_texts[:5]"
   ]
  },
  {
   "cell_type": "code",
   "execution_count": 11,
   "metadata": {},
   "outputs": [],
   "source": [
    "tokenized = ru_tokenizer(ru_texts[:5], padding=True, return_tensors='pt')"
   ]
  },
  {
   "cell_type": "code",
   "execution_count": 12,
   "metadata": {},
   "outputs": [
    {
     "name": "stdout",
     "output_type": "stream",
     "text": [
      "tensor([[    2,  7009,  2657, 24535, 16570,     1,     3,     3,     3,     3,\n",
      "             3,     3,     3,     3,     3,     3,     3,     3,     3,     3,\n",
      "             3,     3,     3,     3,     3,     3,     3,     3,     3,     3,\n",
      "             3,     3,     3,     3,     3,     3,     3,     3,     3,     3,\n",
      "             3,     3,     3,     3,     3,     3,     3,     3,     3,     3,\n",
      "             3,     3,     3,     3,     3,     3,     3,     3,     3,     3,\n",
      "             3,     3,     3,     3,     3,     3,     3,     3,     3,     3,\n",
      "             3,     3,     3,     3,     3,     3,     3,     3],\n",
      "        [    2,  8505,  5200,  1223,   214,  4934,    14, 14998,  8181,  5536,\n",
      "          8000, 24566,  1143, 13807,  7126,   223,  1697,  5115,  3654,   887,\n",
      "          1536,   214,  1941,    15,     1,     3,     3,     3,     3,     3,\n",
      "             3,     3,     3,     3,     3,     3,     3,     3,     3,     3,\n",
      "             3,     3,     3,     3,     3,     3,     3,     3,     3,     3,\n",
      "             3,     3,     3,     3,     3,     3,     3,     3,     3,     3,\n",
      "             3,     3,     3,     3,     3,     3,     3,     3,     3,     3,\n",
      "             3,     3,     3,     3,     3,     3,     3,     3],\n",
      "        [    2, 24492,  4361,    27, 21545, 25561,     9,  1941,    13,   997,\n",
      "            13,  1536,    10,    19,     9, 10899,    10,    19,     9,  3395,\n",
      "            10,  6894,    15,     1,     3,     3,     3,     3,     3,     3,\n",
      "             3,     3,     3,     3,     3,     3,     3,     3,     3,     3,\n",
      "             3,     3,     3,     3,     3,     3,     3,     3,     3,     3,\n",
      "             3,     3,     3,     3,     3,     3,     3,     3,     3,     3,\n",
      "             3,     3,     3,     3,     3,     3,     3,     3,     3,     3,\n",
      "             3,     3,     3,     3,     3,     3,     3,     3],\n",
      "        [    2,  3476, 11060,  2352,  1565,    27,    64,    30,    22,    15,\n",
      "         24654,     9,    18,   551,    65,    30,    24,    15,  9572,     9,\n",
      "            18,   551,    66,    30,   890,    15, 23673,     9,    19,    10,\n",
      "           110,    13,   145,    30,  2540,    15,  4679,     9,    18, 18428,\n",
      "           146,    30,  4827,    15,  5516,     9,    18, 18428,   147,    30,\n",
      "          1987,    15,  1571,     9,    18, 18428,    55,    30,    22,  3051,\n",
      "            15,  4680,     9,    22,    10,  4032,    13,    59,    30,    18,\n",
      "            13,  1660,    15,  2067,    15,  6047,    15,     1],\n",
      "        [    2, 22280,  7696,  1720, 12043,   208,  9420,   416,  6461,  6953,\n",
      "          7126,   214, 23162,  5096, 12277,    15,     1,     3,     3,     3,\n",
      "             3,     3,     3,     3,     3,     3,     3,     3,     3,     3,\n",
      "             3,     3,     3,     3,     3,     3,     3,     3,     3,     3,\n",
      "             3,     3,     3,     3,     3,     3,     3,     3,     3,     3,\n",
      "             3,     3,     3,     3,     3,     3,     3,     3,     3,     3,\n",
      "             3,     3,     3,     3,     3,     3,     3,     3,     3,     3,\n",
      "             3,     3,     3,     3,     3,     3,     3,     3]])\n"
     ]
    }
   ],
   "source": [
    "print(tokenized['input_ids'])"
   ]
  },
  {
   "cell_type": "code",
   "execution_count": 13,
   "metadata": {},
   "outputs": [
    {
     "data": {
      "text/plain": [
       "['[CLS] СТРУКТУРА НЕ ОРГАНИЧЕСКИХ СОЕДИНЕНИЙ [SEP] [PAD] [PAD] [PAD] [PAD] [PAD] [PAD] [PAD] [PAD] [PAD] [PAD] [PAD] [PAD] [PAD] [PAD] [PAD] [PAD] [PAD] [PAD] [PAD] [PAD] [PAD] [PAD] [PAD] [PAD] [PAD] [PAD] [PAD] [PAD] [PAD] [PAD] [PAD] [PAD] [PAD] [PAD] [PAD] [PAD] [PAD] [PAD] [PAD] [PAD] [PAD] [PAD] [PAD] [PAD] [PAD] [PAD] [PAD] [PAD] [PAD] [PAD] [PAD] [PAD] [PAD] [PAD] [PAD] [PAD] [PAD] [PAD] [PAD] [PAD] [PAD] [PAD] [PAD] [PAD] [PAD] [PAD] [PAD] [PAD] [PAD] [PAD] [PAD] [PAD]',\n",
       " '[CLS] Методами рентгеноструктурного анализа и электронно - зондового микроанализа исследована новая высокониобие вая разновидность ломоносовита с высокой степенью упорядочения атомов Ti и Nb. [SEP] [PAD] [PAD] [PAD] [PAD] [PAD] [PAD] [PAD] [PAD] [PAD] [PAD] [PAD] [PAD] [PAD] [PAD] [PAD] [PAD] [PAD] [PAD] [PAD] [PAD] [PAD] [PAD] [PAD] [PAD] [PAD] [PAD] [PAD] [PAD] [PAD] [PAD] [PAD] [PAD] [PAD] [PAD] [PAD] [PAD] [PAD] [PAD] [PAD] [PAD] [PAD] [PAD] [PAD] [PAD] [PAD] [PAD] [PAD] [PAD] [PAD] [PAD] [PAD] [PAD] [PAD]',\n",
       " '[CLS] Упрощенная формула : Na10 Ti2 ( Nb, Fe, Ti ) 2 ( Si2O7 ) 2 ( PO4 ) 2O4. [SEP] [PAD] [PAD] [PAD] [PAD] [PAD] [PAD] [PAD] [PAD] [PAD] [PAD] [PAD] [PAD] [PAD] [PAD] [PAD] [PAD] [PAD] [PAD] [PAD] [PAD] [PAD] [PAD] [PAD] [PAD] [PAD] [PAD] [PAD] [PAD] [PAD] [PAD] [PAD] [PAD] [PAD] [PAD] [PAD] [PAD] [PAD] [PAD] [PAD] [PAD] [PAD] [PAD] [PAD] [PAD] [PAD] [PAD] [PAD] [PAD] [PAD] [PAD] [PAD] [PAD] [PAD] [PAD]',\n",
       " '[CLS] Параметры триклинной элементарной ячейки : a = 5. 411 ( 1 ), b = 7. 108 ( 1 ), c = 14. 477 ( 2 ) Å, α = 99. 78 ( 1 )\\uf0b0, β = 96. 59 ( 1 )\\uf0b0, γ = 90. 26 ( 1 )\\uf0b0, V = 5 44. 94 ( 5 ) Å3, Z = 1, пр. гр. P1. [SEP]',\n",
       " '[CLS] Обсуждается проблема распределения ниобия в минералах со структурным типом ломоносовита и родственными ему типами. [SEP] [PAD] [PAD] [PAD] [PAD] [PAD] [PAD] [PAD] [PAD] [PAD] [PAD] [PAD] [PAD] [PAD] [PAD] [PAD] [PAD] [PAD] [PAD] [PAD] [PAD] [PAD] [PAD] [PAD] [PAD] [PAD] [PAD] [PAD] [PAD] [PAD] [PAD] [PAD] [PAD] [PAD] [PAD] [PAD] [PAD] [PAD] [PAD] [PAD] [PAD] [PAD] [PAD] [PAD] [PAD] [PAD] [PAD] [PAD] [PAD] [PAD] [PAD] [PAD] [PAD] [PAD] [PAD] [PAD] [PAD] [PAD] [PAD] [PAD] [PAD] [PAD]']"
      ]
     },
     "execution_count": 13,
     "metadata": {},
     "output_type": "execute_result"
    }
   ],
   "source": [
    "ru_tokenizer.batch_decode(tokenized['input_ids'])"
   ]
  },
  {
   "cell_type": "code",
   "execution_count": 14,
   "metadata": {},
   "outputs": [
    {
     "name": "stdout",
     "output_type": "stream",
     "text": [
      "tensor([[1, 1, 1, 1, 1, 1, 0, 0, 0, 0, 0, 0, 0, 0, 0, 0, 0, 0, 0, 0, 0, 0, 0, 0,\n",
      "         0, 0, 0, 0, 0, 0, 0, 0, 0, 0, 0, 0, 0, 0, 0, 0, 0, 0, 0, 0, 0, 0, 0, 0,\n",
      "         0, 0, 0, 0, 0, 0, 0, 0, 0, 0, 0, 0, 0, 0, 0, 0, 0, 0, 0, 0, 0, 0, 0, 0,\n",
      "         0, 0, 0, 0, 0, 0],\n",
      "        [1, 1, 1, 1, 1, 1, 1, 1, 1, 1, 1, 1, 1, 1, 1, 1, 1, 1, 1, 1, 1, 1, 1, 1,\n",
      "         1, 0, 0, 0, 0, 0, 0, 0, 0, 0, 0, 0, 0, 0, 0, 0, 0, 0, 0, 0, 0, 0, 0, 0,\n",
      "         0, 0, 0, 0, 0, 0, 0, 0, 0, 0, 0, 0, 0, 0, 0, 0, 0, 0, 0, 0, 0, 0, 0, 0,\n",
      "         0, 0, 0, 0, 0, 0],\n",
      "        [1, 1, 1, 1, 1, 1, 1, 1, 1, 1, 1, 1, 1, 1, 1, 1, 1, 1, 1, 1, 1, 1, 1, 1,\n",
      "         0, 0, 0, 0, 0, 0, 0, 0, 0, 0, 0, 0, 0, 0, 0, 0, 0, 0, 0, 0, 0, 0, 0, 0,\n",
      "         0, 0, 0, 0, 0, 0, 0, 0, 0, 0, 0, 0, 0, 0, 0, 0, 0, 0, 0, 0, 0, 0, 0, 0,\n",
      "         0, 0, 0, 0, 0, 0],\n",
      "        [1, 1, 1, 1, 1, 1, 1, 1, 1, 1, 1, 1, 1, 1, 1, 1, 1, 1, 1, 1, 1, 1, 1, 1,\n",
      "         1, 1, 1, 1, 1, 1, 1, 1, 1, 1, 1, 1, 1, 1, 1, 1, 1, 1, 1, 1, 1, 1, 1, 1,\n",
      "         1, 1, 1, 1, 1, 1, 1, 1, 1, 1, 1, 1, 1, 1, 1, 1, 1, 1, 1, 1, 1, 1, 1, 1,\n",
      "         1, 1, 1, 1, 1, 1],\n",
      "        [1, 1, 1, 1, 1, 1, 1, 1, 1, 1, 1, 1, 1, 1, 1, 1, 1, 0, 0, 0, 0, 0, 0, 0,\n",
      "         0, 0, 0, 0, 0, 0, 0, 0, 0, 0, 0, 0, 0, 0, 0, 0, 0, 0, 0, 0, 0, 0, 0, 0,\n",
      "         0, 0, 0, 0, 0, 0, 0, 0, 0, 0, 0, 0, 0, 0, 0, 0, 0, 0, 0, 0, 0, 0, 0, 0,\n",
      "         0, 0, 0, 0, 0, 0]])\n"
     ]
    }
   ],
   "source": [
    "print(tokenized['attention_mask'])"
   ]
  },
  {
   "cell_type": "markdown",
   "metadata": {
    "colab_type": "text",
    "id": "BHWgx34flrsn"
   },
   "source": [
    "### Encoder-decoder model\n",
    "\n",
    "Ниже написан код для модели, которую нам предстоит обучать. В качестве и энкодера, и декодера мы берем базовую однослойную версию GRU. При желании вы можете усложнить модель (учеличить размер, добавить механизм внимания и тд) и посмотреть, улучшает ли это результат."
   ]
  },
  {
   "cell_type": "code",
   "execution_count": 15,
   "metadata": {
    "colab": {},
    "colab_type": "code",
    "id": "pd_rDRm9lrso"
   },
   "outputs": [],
   "source": [
    "import numpy as np\n",
    "import torch\n",
    "import torch.nn as nn\n",
    "import torch.nn.functional as F\n",
    "\n",
    "device = torch.device('cuda' if torch.cuda.is_available() else 'cpu')"
   ]
  },
  {
   "cell_type": "code",
   "execution_count": 16,
   "metadata": {
    "colab": {},
    "colab_type": "code",
    "id": "wgfN5-F7lrst"
   },
   "outputs": [],
   "source": [
    "class Encoder(nn.Module):\n",
    "    def __init__(self, vocab_size, hidden_size=128):\n",
    "        super().__init__()\n",
    "        self.hidden_size = hidden_size\n",
    "\n",
    "        self.embedding = nn.Embedding(vocab_size, hidden_size)\n",
    "\n",
    "        self.gru = nn.GRU(input_size=hidden_size, hidden_size=hidden_size, batch_first=True)\n",
    "        \n",
    "        self.fc = nn.Linear(hidden_size, hidden_size)\n",
    "    \n",
    "    def forward(self, x, attention_mask):\n",
    "        embed = self.embedding(x)\n",
    "\n",
    "        output, h = self.gru(embed)\n",
    "\n",
    "        # take output of the last token\n",
    "        lens = attention_mask.sum(1)  # [bs]\n",
    "        idx = (lens - 1).unsqueeze(1).expand(output.size(0), output.size(2)).unsqueeze(1) \n",
    "        # [bs, 1, d]\n",
    "\n",
    "        # [bs, seq_len, d]\n",
    "        output = output.gather(1, idx.to(device)).squeeze()\n",
    "\n",
    "        # [1, bs, d]\n",
    "        return self.fc(output).unsqueeze(0)\n",
    "\n",
    "\n",
    "class Decoder(nn.Module):\n",
    "    def __init__(self, vocab_size, hidden_size=128):\n",
    "        super().__init__()\n",
    "        self.hidden_size = hidden_size\n",
    "        self.embedding = nn.Embedding(vocab_size, hidden_size)\n",
    "\n",
    "        self.gru = nn.GRU(input_size=hidden_size, hidden_size=hidden_size, batch_first=True)\n",
    "\n",
    "        self.fc = nn.Linear(hidden_size, vocab_size)\n",
    "\n",
    "    def forward(self, x, init_state):\n",
    "        embed = self.embedding(x)\n",
    "\n",
    "        output, h = self.gru(embed, init_state)\n",
    "\n",
    "        output = self.fc(output)\n",
    "\n",
    "        return output, h\n",
    "\n",
    "class Model(nn.Module):\n",
    "    def __init__(self, in_vocab_size, out_vocab_size, hidden_size=128):\n",
    "        super().__init__()\n",
    "        self.encoder = Encoder(in_vocab_size, hidden_size)\n",
    "        self.decoder = Decoder(out_vocab_size, hidden_size)\n",
    "\n",
    "    def forward(self, input_ids, output_ids, attention_mask):\n",
    "        encoded = self.encoder(input_ids, attention_mask)\n",
    "        logits, _ = self.decoder(output_ids, encoded)\n",
    "        return logits\n",
    "\n",
    "\n",
    "def clear_text(texts):\n",
    "    clear_texts = []\n",
    "    for text in texts:\n",
    "        text = text.replace('[PAD]', '')\n",
    "        cls_pos = text.find('[CLS]')\n",
    "        if cls_pos > -1:\n",
    "            text = text[cls_pos + len('[CLS]'):]\n",
    "\n",
    "        sep_pos = text.find('[SEP]')\n",
    "        if sep_pos > -1:\n",
    "            text = text[:sep_pos]\n",
    "\n",
    "        clear_texts.append(text.strip())\n",
    "\n",
    "    return clear_texts\n",
    "\n",
    "\n",
    "@torch.no_grad()\n",
    "def translate(model, texts):\n",
    "    model.eval()\n",
    "\n",
    "    en_tokenized = en_tokenizer(texts, padding=True, return_tensors='pt')\n",
    "    input_ids = en_tokenized['input_ids'].to(device)\n",
    "    attention_mask = en_tokenized['attention_mask'].to(device)\n",
    "    state = model.encoder(input_ids, attention_mask)\n",
    "\n",
    "    cur_tokens = torch.full((len(texts), 1), ru_tokenizer.bos_token_id, device=device)\n",
    "    output_ids = cur_tokens.clone()\n",
    "\n",
    "    ended_texts = torch.zeros(len(texts))\n",
    "    for i in range(256):\n",
    "        logits, state = model.decoder(cur_tokens, state)\n",
    "\n",
    "        next_tokens = logits.argmax(-1)\n",
    "\n",
    "        cur_tokens = next_tokens\n",
    "        output_ids = torch.cat((output_ids, cur_tokens), dim=1)\n",
    "        \n",
    "        ended_texts += (next_tokens.cpu().squeeze(1) == ru_tokenizer.eos_token_id)\n",
    "        if torch.all(ended_texts > 0):\n",
    "            break\n",
    "\n",
    "    return ru_tokenizer.batch_decode(output_ids)"
   ]
  },
  {
   "cell_type": "markdown",
   "metadata": {
    "colab_type": "text",
    "id": "_wuv1-aVlrs0"
   },
   "source": [
    "### Функция ошибки\n",
    "\n",
    "Тут все почти так же, как для языковых моделей, за исключение обуславливания на входную последовательность\n",
    "$$ L = -{\\frac1{|D|}} \\sum_{X, Y \\in D} \\sum_{y_t \\in Y} \\log p(y_t \\mid y_1, \\dots, y_{t-1}, X, \\theta) $$"
   ]
  },
  {
   "cell_type": "markdown",
   "metadata": {
    "colab_type": "text",
    "id": "HpbaBpW7lrs-"
   },
   "source": [
    "### Оценка качества: BLEU\n",
    "\n",
    "Страндартно качество модели для машинного перевода оценивается с помощью [BLEU](https://en.wikipedia.org/wiki/BLEU). Она считает долю 1,2,3,4-грамм  переведенных текстов, которые содержатся в целевых, и находит их геометрическое среднее. Помимо этого добавляется штраф, если переведенный текст короче целевого.\n",
    "\n",
    "<!-- While BLEU [has many drawbacks](http://www.cs.jhu.edu/~ccb/publications/re-evaluating-the-role-of-bleu-in-mt-research.pdf), it still remains the most commonly used metric and one of the simplest to compute. -->"
   ]
  },
  {
   "cell_type": "code",
   "execution_count": 17,
   "metadata": {
    "colab": {},
    "colab_type": "code",
    "id": "Gb1-PhKIlrs-"
   },
   "outputs": [],
   "source": [
    "from nltk.translate.bleu_score import corpus_bleu\n",
    "\n",
    "@torch.no_grad()\n",
    "def compute_bleu(model, translated_text, target_text):\n",
    "    \"\"\"\n",
    "    Estimates corpora-level BLEU score of model's translations given inp and reference out\n",
    "    \"\"\"\n",
    "\n",
    "    return corpus_bleu(\n",
    "        [[ref.split()] for ref in target_text],\n",
    "        [trans.split() for trans in translated_text],\n",
    "        smoothing_function=lambda precisions, **kw: [p + 1.0 / p.denominator for p in precisions]\n",
    "    ) * 100"
   ]
  },
  {
   "cell_type": "markdown",
   "metadata": {
    "colab_type": "text",
    "id": "nQDhGwg4lrtC"
   },
   "source": [
    "### Обучение"
   ]
  },
  {
   "cell_type": "code",
   "execution_count": 18,
   "metadata": {
    "colab": {},
    "colab_type": "code",
    "id": "yfwIaixHlrtI"
   },
   "outputs": [],
   "source": [
    "from IPython.display import clear_output\n",
    "import matplotlib.pyplot as plt\n",
    "from tqdm.auto import tqdm, trange\n",
    "\n",
    "model = Model(len(en_tokenizer), len(ru_tokenizer), hidden_size=256).to(device)\n",
    "optimizer = torch.optim.Adam(model.parameters(), lr=1e-3)"
   ]
  },
  {
   "cell_type": "code",
   "execution_count": 19,
   "metadata": {},
   "outputs": [],
   "source": [
    "accuracies = []\n",
    "metrics = {'train_acc': [], 'train_loss': [], 'test_loss': [], 'test_bleu': []}\n",
    "\n",
    "def train(model, dataloader, optimizer):\n",
    "    model.train()\n",
    "    \n",
    "    criterion = nn.CrossEntropyLoss(ignore_index=ru_tokenizer.pad_token_id)\n",
    "\n",
    "    for texts in tqdm(dataloader):\n",
    "        en_texts, ru_texts = texts\n",
    "\n",
    "        en_tokenized = en_tokenizer(en_texts, padding=True, return_tensors='pt')\n",
    "        input_ids = en_tokenized['input_ids'].to(device)\n",
    "        attention_mask = en_tokenized['attention_mask'].to(device)\n",
    "\n",
    "        ru_tokenized = ru_tokenizer(ru_texts, padding=True, return_tensors='pt')\n",
    "        output_ids = ru_tokenized['input_ids'].to(device)\n",
    "\n",
    "        logits = model(input_ids, output_ids, attention_mask)\n",
    "\n",
    "        shift_logits = logits[:, :-1].contiguous()\n",
    "        shift_outputs = output_ids[:, 1:].contiguous()\n",
    "\n",
    "        loss = criterion(shift_logits.view(-1, shift_logits.size(-1)), shift_outputs.view(-1))\n",
    "\n",
    "        accuracy = (shift_logits.argmax(-1).view(-1) == shift_outputs.view(-1)).float()\n",
    "        accuracy = accuracy[shift_outputs.view(-1) != ru_tokenizer.pad_token_id].mean()\n",
    "\n",
    "        metrics['train_acc'].append(accuracy.item())\n",
    "        metrics['train_loss'].append(loss.item())\n",
    "\n",
    "        optimizer.zero_grad()\n",
    "        loss.backward()\n",
    "        optimizer.step()\n",
    "        \n",
    "        clear_output(wait=True)\n",
    "        plt.figure(figsize=(15, 4))\n",
    "        for i, (k, v) in enumerate(metrics.items()):\n",
    "            plt.subplot(1, len(metrics), i + 1)\n",
    "            plt.plot(v)\n",
    "            plt.grid()\n",
    "            plt.title(k, fontsize=16)\n",
    "\n",
    "        plt.show()\n",
    "        \n",
    "def evaluate(model, dataloader):\n",
    "    model.eval()\n",
    "    criterion = nn.CrossEntropyLoss(ignore_index=ru_tokenizer.pad_token_id)\n",
    "    \n",
    "    translated_text = []\n",
    "    target_text = []\n",
    "    losses = []\n",
    "    for texts in tqdm(dataloader):\n",
    "        en_texts, ru_texts = texts\n",
    "        \n",
    "        en_tokenized = en_tokenizer(en_texts, padding=True, return_tensors='pt')\n",
    "        input_ids = en_tokenized['input_ids'].to(device)\n",
    "        attention_mask = en_tokenized['attention_mask'].to(device)\n",
    "        \n",
    "        ru_tokenized = ru_tokenizer(ru_texts, padding=True, return_tensors='pt')\n",
    "        output_ids = ru_tokenized['input_ids'].to(device)\n",
    "\n",
    "        logits = model(input_ids, output_ids, attention_mask)\n",
    "\n",
    "        shift_logits = logits[:, :-1].contiguous()\n",
    "        shift_outputs = output_ids[:, 1:].contiguous()\n",
    "        \n",
    "        loss = criterion(shift_logits.view(-1, shift_logits.size(-1)), shift_outputs.view(-1))\n",
    "        losses.append(loss.item())\n",
    "        \n",
    "        translations = clear_text(translate(model, en_texts))\n",
    "    \n",
    "        translated_text.extend(translations)\n",
    "        target_text.extend(ru_texts)\n",
    "\n",
    "    return {\n",
    "        'bleu': compute_bleu(model, translated_text, target_text),\n",
    "        'loss': np.mean(losses)\n",
    "    }"
   ]
  },
  {
   "cell_type": "code",
   "execution_count": 20,
   "metadata": {},
   "outputs": [
    {
     "data": {
      "image/png": "[encoded data removed]",
      "text/plain": [
       "<Figure size 1500x400 with 4 Axes>"
      ]
     },
     "metadata": {},
     "output_type": "display_data"
    },
    {
     "data": {
      "application/vnd.jupyter.widget-view+json": {
       "model_id": "975a55c50d4a4622b547625c9e6fa3b2",
       "version_major": 2,
       "version_minor": 0
      },
      "text/plain": [
       "  0%|          | 0/35 [00:00<?, ?it/s]"
      ]
     },
     "metadata": {},
     "output_type": "display_data"
    }
   ],
   "source": [
    "for e in range(6):\n",
    "    train(model, train_loader, optimizer)\n",
    "\n",
    "    result = evaluate(model, test_loader)\n",
    "    metrics['test_bleu'].append(result['bleu'])\n",
    "    metrics['test_loss'].append(result['loss'])"
   ]
  },
  {
   "cell_type": "code",
   "execution_count": 21,
   "metadata": {},
   "outputs": [],
   "source": [
    "torch.save(model.state_dict(), 'model.pt')"
   ]
  },
  {
   "cell_type": "code",
   "execution_count": 22,
   "metadata": {},
   "outputs": [
    {
     "data": {
      "text/plain": [
       "<All keys matched successfully>"
      ]
     },
     "execution_count": 22,
     "metadata": {},
     "output_type": "execute_result"
    }
   ],
   "source": [
    "model.load_state_dict(torch.load('model.pt', map_location=torch.device('cpu')))"
   ]
  },
  {
   "cell_type": "code",
   "execution_count": 23,
   "metadata": {},
   "outputs": [
    {
     "data": {
      "application/vnd.jupyter.widget-view+json": {
       "model_id": "c7b2b216f6154591a60f185ebca380ea",
       "version_major": 2,
       "version_minor": 0
      },
      "text/plain": [
       "  0%|          | 0/35 [00:00<?, ?it/s]"
      ]
     },
     "metadata": {},
     "output_type": "display_data"
    },
    {
     "data": {
      "text/plain": [
       "{'bleu': 1.0998453570662976, 'loss': 4.822218077523368}"
      ]
     },
     "execution_count": 23,
     "metadata": {},
     "output_type": "execute_result"
    }
   ],
   "source": [
    "evaluate(model, test_loader)"
   ]
  },
  {
   "cell_type": "code",
   "execution_count": 24,
   "metadata": {},
   "outputs": [],
   "source": [
    "en_texts, ru_texts = next(iter(test_loader))"
   ]
  },
  {
   "cell_type": "code",
   "execution_count": 25,
   "metadata": {},
   "outputs": [
    {
     "data": {
      "text/plain": [
       "['Показано, что комплекс пучка в качестве источника СИ поколения.',\n",
       " 'Для описания пространственного распределения электронной плотности ( в ) состоянии ( а ) и ( 3 ) в процессе моделирования локального окружения переходных металлов, что приводит к формированию электронной плотности и состояний в системе зееманов ских состояний ( рис. 6в ), что приводит к формированию электронной плотности и их состояний.',\n",
       " 'Карты малоугловой дифракции нейтронов в геометрии Брэгга ( рис. 2 ) и ( 10 ) и ( 7 ) намагничен ной функции магнитного рассеяния ( Q, E ) и ( 101 ) и ( 7 ) и ( 7 ) и ( 7 ) и ( 7 ) и ( 7 ) и ( 7 ) и ( 7 ) и ( 7 ) и ( 7 ) и ( 7 ).',\n",
       " 'В качестве альтернати вой модели используется активная Го ль ду с энергией активации “ SnS2 - й ” с высокой степенью выпрям ленности до конца для создания стабильных детекторов в качестве полярного.',\n",
       " 'Это говорит о том, что изменение контраста в области малых углов наблюдаются только при изменении знака рефлексов.',\n",
       " 'Плотность керамик холодного прессования ( Pb0. 67Cd0. 33F2 ) в жидком сплаве составляла 2. 5 \\uf0b4 10 – 3 ч / ч.',\n",
       " 'Фазовый состав и основы керамических изделий бронзового века в процессе карбонизации на базе данных об лом.',\n",
       " 'Дело в том, что при выводе всегда происходит ( например, давление ).',\n",
       " 'В табл. 1 приведены результаты расчетов для расчетов средних значений потенциалов ионизации и GKRG, что в рамках модели наездника PSP дикого типа.',\n",
       " 'ОСНОВНЫЕ ПАРАМЕТ РЫ']"
      ]
     },
     "execution_count": 25,
     "metadata": {},
     "output_type": "execute_result"
    }
   ],
   "source": [
    "translations = translate(model, en_texts)\n",
    "clear_text(translations[:10])"
   ]
  },
  {
   "cell_type": "code",
   "execution_count": 26,
   "metadata": {
    "scrolled": true
   },
   "outputs": [
    {
     "name": "stdout",
     "output_type": "stream",
     "text": [
      "It was shown that a proton beam with a current of 80–85 mA on the target must be provided.\n",
      "Показано, что на мишень требуется протонный пучок с током 80–85 мА.\n",
      "Показано, что комплекс пучка в качестве источника СИ поколения.\n",
      "\n",
      "The revealed closeness of the barriers of correlated librational motion (Uβ) and the barriers of local segmental mobility (Uα), determined based on the Tg values using the DSC method, confirms that the activation barrier of conformational mobility in a polymer chain changes only slightly in a wide temperature range (T > Tβ) only due to a change in the interchain interactions and remains close to Uβ.\n",
      "Выявленная в настоящей работе близость барьеров коррелированного либрационного движения (Uβ) и барьеров локальной сегментальной подвижности (Uα), определенных по Тg методом ДСК, подтверждает, что активационный барьер конформационной подвижности в полимерной цепи мало изменяется в широком интервале температур Т > Тβ лишь в силу изменения межцепочечных взаимодействий, оставаясь близким  к Uβ.\n",
      "Для описания пространственного распределения электронной плотности ( в ) состоянии ( а ) и ( 3 ) в процессе моделирования локального окружения переходных металлов, что приводит к формированию электронной плотности и состояний в системе зееманов ских состояний ( рис. 6в ), что приводит к формированию электронной плотности и их состояний.\n",
      "\n",
      "The momentum transfer dependences of the interference contribution to scattering, I(Q), at Q||[20] and H = 2 kOe are shown in Figs. 18c and 18е for Co- and Ni-based IOLSs, respectively.\n",
      "Импульсные зависимости интерференционного вклада в рассеяние I(Q) при Q||[20] и H = 2 кЭ показаны на рис. 18в, 18е для ИОПС Co и Ni соответственно.\n",
      "Карты малоугловой дифракции нейтронов в геометрии Брэгга ( рис. 2 ) и ( 10 ) и ( 7 ) намагничен ной функции магнитного рассеяния ( Q, E ) и ( 101 ) и ( 7 ) и ( 7 ) и ( 7 ) и ( 7 ) и ( 7 ) и ( 7 ) и ( 7 ) и ( 7 ) и ( 7 ) и ( 7 ).\n",
      "\n",
      "The inverse beta decay reaction is used to detect antineutrino. DANSS detects about 5000 events per day with the background level of about two percent.\n",
      "Для регистрации антинейтрино используется реакция обратного бета-распада. Детектор регистрирует около 5000 событий в день с уровнем фона порядка двух процентов.\n",
      "В качестве альтернати вой модели используется активная Го ль ду с энергией активации “ SnS2 - й ” с высокой степенью выпрям ленности до конца для создания стабильных детекторов в качестве полярного.\n",
      "\n",
      "This change is characteristic of small-angle twins in the crystal defect regions, which can clearly be seen in the rocking curves as the presence of the transition point.\n",
      "Такое изменение характерно для малоугловых двойников в дефектных областях кристалла, что отчетливо видно на КДО – наличие переходной точки.\n",
      "Это говорит о том, что изменение контраста в области малых углов наблюдаются только при изменении знака рефлексов.\n",
      "\n",
      "The density of cold-pressed Pb0.67Cd0.33F2 ceramics was 84  4% of the crystal density, and the conductivity of ceramic samples was in the range of (2–5)  10–5 S/cm at room temperature.\n",
      "Плотность керамик холодного прессования Pb0.67Cd0.33F2 составляет 84  4% от плотности кристалла и их проводимость равна (2–5)  10–5 См/см при комнатной температуре.\n",
      "Плотность керамик холодного прессования ( Pb0. 67Cd0. 33F2 ) в жидком сплаве составляла 2. 5  10 – 3 ч / ч.\n",
      "\n",
      "A direct comparison of the clay and ceramics compositions is insufficiently correct in view of the technological operations the clay was subjected to during ceramic paste preparation.\n",
      "Прямое сравнение составов глины и керамики недостаточно корректно ввиду технологических операций, через которые проходила глина в процессе подготовки керамического теста.\n",
      "Фазовый состав и основы керамических изделий бронзового века в процессе карбонизации на базе данных об лом.\n",
      "\n",
      "The point is that the pressure remains positive all the time (extension is absent).\n",
      "Дело в том, что давление все время остается положительным – нет растяжения.\n",
      "Дело в том, что при выводе всегда происходит ( например, давление ).\n",
      "\n",
      "The free energy changes upon binding of the tetrapeptides GRRG and GKRG to wild-type PSP and the mutants calculated by the MM-GBSA method are given in Table 1.\n",
      "Рассчитанные с помощью MM-GBSA изменения свободной энергии при связывании тетрапептидов GRRG и GKRG молекулами PSP дикого типа и мутантными формами фермента приведены в табл. 1.\n",
      "В табл. 1 приведены результаты расчетов для расчетов средних значений потенциалов ионизации и GKRG, что в рамках модели наездника PSP дикого типа.\n",
      "\n",
      "MAIN RESONANCE CHARACTERISTICS\n",
      "КЛЮЧЕВЫЕ ХАРАКТЕРИСТИКИ РЕЗОНАНСА\n",
      "ОСНОВНЫЕ ПАРАМЕТ РЫ\n",
      "\n"
     ]
    }
   ],
   "source": [
    "for en, ru, tr in zip(en_texts[:10], ru_texts[:10], clear_text(translations[:10])):\n",
    "    print(en)\n",
    "    print(ru)\n",
    "    print(tr)\n",
    "    print()"
   ]
  },
  {
   "cell_type": "code",
   "execution_count": null,
   "metadata": {},
   "outputs": [],
   "source": []
  }
 ],
 "metadata": {
  "accelerator": "GPU",
  "colab": {
   "collapsed_sections": [
    "edk_oVg0lrtW"
   ],
   "name": "practice.ipynb",
   "provenance": []
  },
  "kernelspec": {
   "display_name": "Python 3 (ipykernel)",
   "language": "python",
   "name": "python3"
  },
  "language_info": {
   "codemirror_mode": {
    "name": "ipython",
    "version": 3
   },
   "file_extension": ".py",
   "mimetype": "text/x-python",
   "name": "python",
   "nbconvert_exporter": "python",
   "pygments_lexer": "ipython3",
   "version": "3.11.7"
  }
 },
 "nbformat": 4,
 "nbformat_minor": 4
}
