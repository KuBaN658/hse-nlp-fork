{
 "cells": [
  {
   "cell_type": "markdown",
   "metadata": {
    "id": "fwclRF2DuXML"
   },
   "source": [
    "# Семинар 2. Текстовая регрессия\n",
    "\n",
    "В этом семинаре нам предстоит решить задачу предсказания зарплаты по описанию вакансии."
   ]
  },
  {
   "cell_type": "code",
   "execution_count": 7,
   "metadata": {
    "id": "NSM3tFu-uXMM"
   },
   "outputs": [],
   "source": [
    "import numpy as np\n",
    "import pandas as pd\n",
    "import matplotlib.pyplot as plt\n",
    "%matplotlib inline"
   ]
  },
  {
   "cell_type": "markdown",
   "metadata": {
    "id": "ImNk-LGHuXMN"
   },
   "source": [
    "Для начала скачиваем данные."
   ]
  },
  {
   "cell_type": "code",
   "execution_count": 8,
   "metadata": {
    "colab": {
     "base_uri": "https://localhost:8080/"
    },
    "id": "daXFOpvuuXMN",
    "outputId": "355b320f-5b15-4ba9-f5fb-50b4e2493963"
   },
   "outputs": [
    {
     "data": {
      "text/plain": [
       "(244768, 12)"
      ]
     },
     "execution_count": 8,
     "metadata": {},
     "output_type": "execute_result"
    }
   ],
   "source": [
    "# !wget https://ysda-seminars.s3.eu-central-1.amazonaws.com/Train_rev1.zip\n",
    "data = pd.read_csv(\"data/text_reg.csv\", index_col=None)\n",
    "data.shape"
   ]
  },
  {
   "cell_type": "code",
   "execution_count": 9,
   "metadata": {
    "colab": {
     "base_uri": "https://localhost:8080/",
     "height": 503
    },
    "id": "1-q8_dKmuXMO",
    "outputId": "f9912c06-1f31-4dd0-dc21-265a68ffd616"
   },
   "outputs": [
    {
     "data": {
      "text/html": [
       "<div>\n",
       "<style scoped>\n",
       "    .dataframe tbody tr th:only-of-type {\n",
       "        vertical-align: middle;\n",
       "    }\n",
       "\n",
       "    .dataframe tbody tr th {\n",
       "        vertical-align: top;\n",
       "    }\n",
       "\n",
       "    .dataframe thead th {\n",
       "        text-align: right;\n",
       "    }\n",
       "</style>\n",
       "<table border=\"1\" class=\"dataframe\">\n",
       "  <thead>\n",
       "    <tr style=\"text-align: right;\">\n",
       "      <th></th>\n",
       "      <th>Id</th>\n",
       "      <th>Title</th>\n",
       "      <th>FullDescription</th>\n",
       "      <th>LocationRaw</th>\n",
       "      <th>LocationNormalized</th>\n",
       "      <th>ContractType</th>\n",
       "      <th>ContractTime</th>\n",
       "      <th>Company</th>\n",
       "      <th>Category</th>\n",
       "      <th>SalaryRaw</th>\n",
       "      <th>SalaryNormalized</th>\n",
       "      <th>SourceName</th>\n",
       "    </tr>\n",
       "  </thead>\n",
       "  <tbody>\n",
       "    <tr>\n",
       "      <th>161386</th>\n",
       "      <td>71189386</td>\n",
       "      <td>Estate Agent  Senior Negotiator in Estate Agen...</td>\n",
       "      <td>Are you an experienced Estate Agent looking to...</td>\n",
       "      <td>Trowbridge, Wiltshire Wiltshire South West</td>\n",
       "      <td>Trowbridge</td>\n",
       "      <td>NaN</td>\n",
       "      <td>permanent</td>\n",
       "      <td>AMR   West of England</td>\n",
       "      <td>Sales Jobs</td>\n",
       "      <td>From 18,000 to 23,000 per annum OTE</td>\n",
       "      <td>20500</td>\n",
       "      <td>totaljobs.com</td>\n",
       "    </tr>\n",
       "    <tr>\n",
       "      <th>140546</th>\n",
       "      <td>70577051</td>\n",
       "      <td>Customer Service</td>\n",
       "      <td>If you are looking for a fasted paced, fun, cu...</td>\n",
       "      <td>Swansea, West Glamorgan</td>\n",
       "      <td>UK</td>\n",
       "      <td>NaN</td>\n",
       "      <td>contract</td>\n",
       "      <td>Workwales</td>\n",
       "      <td>Customer Services Jobs</td>\n",
       "      <td>7/hour</td>\n",
       "      <td>13440</td>\n",
       "      <td>cv-library.co.uk</td>\n",
       "    </tr>\n",
       "    <tr>\n",
       "      <th>137275</th>\n",
       "      <td>70408130</td>\n",
       "      <td>Car Sales Executive, Leeds, Motor Trade Job</td>\n",
       "      <td>Automotive, Motor Trade Job: Experienced Sales...</td>\n",
       "      <td>Leeds</td>\n",
       "      <td>Leeds</td>\n",
       "      <td>NaN</td>\n",
       "      <td>NaN</td>\n",
       "      <td>Perfect Placement</td>\n",
       "      <td>Trade &amp; Construction Jobs</td>\n",
       "      <td>12000 - 35000 per annum</td>\n",
       "      <td>23500</td>\n",
       "      <td>MyUkJobs</td>\n",
       "    </tr>\n",
       "    <tr>\n",
       "      <th>1101</th>\n",
       "      <td>46635605</td>\n",
       "      <td>Practice Nurse</td>\n",
       "      <td>Based in the City of London  A Practice Nurse ...</td>\n",
       "      <td>City Of London, London</td>\n",
       "      <td>The City</td>\n",
       "      <td>NaN</td>\n",
       "      <td>NaN</td>\n",
       "      <td>NaN</td>\n",
       "      <td>Healthcare &amp; Nursing Jobs</td>\n",
       "      <td>33000 to 36000 per year</td>\n",
       "      <td>34500</td>\n",
       "      <td>careworx.co.uk</td>\n",
       "    </tr>\n",
       "    <tr>\n",
       "      <th>218935</th>\n",
       "      <td>72338909</td>\n",
       "      <td>CNC Machinist (Miller) weekend work</td>\n",
       "      <td>CNC (Miller) Machinist Based in Nottinghamshir...</td>\n",
       "      <td>CNC Machinist - Nottinghamshire - 19-21,000 p/...</td>\n",
       "      <td>UK</td>\n",
       "      <td>NaN</td>\n",
       "      <td>permanent</td>\n",
       "      <td>ATA Recruitment</td>\n",
       "      <td>Other/General Jobs</td>\n",
       "      <td>19000 - 21000/annum + Holidays</td>\n",
       "      <td>20000</td>\n",
       "      <td>cv-library.co.uk</td>\n",
       "    </tr>\n",
       "  </tbody>\n",
       "</table>\n",
       "</div>"
      ],
      "text/plain": [
       "              Id                                              Title  \\\n",
       "161386  71189386  Estate Agent  Senior Negotiator in Estate Agen...   \n",
       "140546  70577051                                   Customer Service   \n",
       "137275  70408130        Car Sales Executive, Leeds, Motor Trade Job   \n",
       "1101    46635605                                     Practice Nurse   \n",
       "218935  72338909                CNC Machinist (Miller) weekend work   \n",
       "\n",
       "                                          FullDescription  \\\n",
       "161386  Are you an experienced Estate Agent looking to...   \n",
       "140546  If you are looking for a fasted paced, fun, cu...   \n",
       "137275  Automotive, Motor Trade Job: Experienced Sales...   \n",
       "1101    Based in the City of London  A Practice Nurse ...   \n",
       "218935  CNC (Miller) Machinist Based in Nottinghamshir...   \n",
       "\n",
       "                                              LocationRaw LocationNormalized  \\\n",
       "161386         Trowbridge, Wiltshire Wiltshire South West         Trowbridge   \n",
       "140546                            Swansea, West Glamorgan                 UK   \n",
       "137275                                              Leeds              Leeds   \n",
       "1101                               City Of London, London           The City   \n",
       "218935  CNC Machinist - Nottinghamshire - 19-21,000 p/...                 UK   \n",
       "\n",
       "       ContractType ContractTime                Company  \\\n",
       "161386          NaN    permanent  AMR   West of England   \n",
       "140546          NaN     contract              Workwales   \n",
       "137275          NaN          NaN      Perfect Placement   \n",
       "1101            NaN          NaN                    NaN   \n",
       "218935          NaN    permanent        ATA Recruitment   \n",
       "\n",
       "                         Category                            SalaryRaw  \\\n",
       "161386                 Sales Jobs  From 18,000 to 23,000 per annum OTE   \n",
       "140546     Customer Services Jobs                               7/hour   \n",
       "137275  Trade & Construction Jobs              12000 - 35000 per annum   \n",
       "1101    Healthcare & Nursing Jobs              33000 to 36000 per year   \n",
       "218935         Other/General Jobs       19000 - 21000/annum + Holidays   \n",
       "\n",
       "        SalaryNormalized        SourceName  \n",
       "161386             20500     totaljobs.com  \n",
       "140546             13440  cv-library.co.uk  \n",
       "137275             23500          MyUkJobs  \n",
       "1101               34500    careworx.co.uk  \n",
       "218935             20000  cv-library.co.uk  "
      ]
     },
     "execution_count": 9,
     "metadata": {},
     "output_type": "execute_result"
    }
   ],
   "source": [
    "data.sample(5)"
   ]
  },
  {
   "cell_type": "markdown",
   "metadata": {
    "id": "r5oxzyAEuXMO"
   },
   "source": [
    "Первая проблема, с которой мы столкнемся - это распределение зарплат, близкое к экспоненциальному. Многие получают среднюю зарплату, но есть небольшая кучка людей с аномально высокой зарплатой. Как вы знаете из курса по машинному обучению, обучение модели на минимизацию MSE имеет смысл только тогда, когда таргеты распределены нормально. В противном случае стоит либо использовать другую функцию ошибки, либо как-то превести данные к нормальному распределению. Мы пойдем по второму пути и накинем логарифм на значения зарплат.\n",
    "\n",
    "_Больше информации по этому вопросу в [описании соревнования](https://www.kaggle.com/c/job-salary-prediction#description)._"
   ]
  },
  {
   "cell_type": "code",
   "execution_count": 10,
   "metadata": {
    "colab": {
     "base_uri": "https://localhost:8080/",
     "height": 370
    },
    "id": "xmD1siiRuXMO",
    "outputId": "d2fe64d9-e85f-4f71-8c62-134050a97c20"
   },
   "outputs": [
    {
     "data": {
      "image/png": "[encoded data removed]",
      "text/plain": [
       "<Figure size 1400x400 with 2 Axes>"
      ]
     },
     "metadata": {},
     "output_type": "display_data"
    }
   ],
   "source": [
    "data['Log1pSalary'] = np.log1p(data['SalaryNormalized']).astype('float32')\n",
    "\n",
    "plt.figure(figsize=[14, 4])\n",
    "plt.subplot(1, 2, 1)\n",
    "plt.hist(data[\"SalaryNormalized\"], bins=50);\n",
    "\n",
    "plt.subplot(1, 2, 2)\n",
    "plt.hist(data['Log1pSalary'], bins=50);"
   ]
  },
  {
   "cell_type": "markdown",
   "metadata": {
    "id": "mMr5KyzNuXMO"
   },
   "source": [
    "Итак, наша задача - предсказать значение __Log1pSalary__.\n",
    "\n",
    "Для этого мы можем извлечь признаки из\n",
    "* текстовых данных: __`Title`__,  __`FullDescription`__\n",
    "* категориальных данных: __`Category`__, __`Company`__, __`LocationNormalized`__, __`ContractType`__, __`ContractTime`__"
   ]
  },
  {
   "cell_type": "code",
   "execution_count": 11,
   "metadata": {
    "colab": {
     "base_uri": "https://localhost:8080/",
     "height": 319
    },
    "id": "aGXeLjm0uXMO",
    "outputId": "f297cb97-21c7-4d4b-8f8e-6b434f470c67"
   },
   "outputs": [
    {
     "data": {
      "text/html": [
       "<div>\n",
       "<style scoped>\n",
       "    .dataframe tbody tr th:only-of-type {\n",
       "        vertical-align: middle;\n",
       "    }\n",
       "\n",
       "    .dataframe tbody tr th {\n",
       "        vertical-align: top;\n",
       "    }\n",
       "\n",
       "    .dataframe thead th {\n",
       "        text-align: right;\n",
       "    }\n",
       "</style>\n",
       "<table border=\"1\" class=\"dataframe\">\n",
       "  <thead>\n",
       "    <tr style=\"text-align: right;\">\n",
       "      <th></th>\n",
       "      <th>Id</th>\n",
       "      <th>Title</th>\n",
       "      <th>FullDescription</th>\n",
       "      <th>LocationRaw</th>\n",
       "      <th>LocationNormalized</th>\n",
       "      <th>ContractType</th>\n",
       "      <th>ContractTime</th>\n",
       "      <th>Company</th>\n",
       "      <th>Category</th>\n",
       "      <th>SalaryRaw</th>\n",
       "      <th>SalaryNormalized</th>\n",
       "      <th>SourceName</th>\n",
       "      <th>Log1pSalary</th>\n",
       "    </tr>\n",
       "  </thead>\n",
       "  <tbody>\n",
       "    <tr>\n",
       "      <th>31475</th>\n",
       "      <td>68079175</td>\n",
       "      <td>Support Worker EAST****</td>\n",
       "      <td>30 hours per week Support workers required to ...</td>\n",
       "      <td>UK</td>\n",
       "      <td>UK</td>\n",
       "      <td>part_time</td>\n",
       "      <td>NaN</td>\n",
       "      <td>Mencap</td>\n",
       "      <td>Healthcare &amp; Nursing Jobs</td>\n",
       "      <td>14,176 Per Annum, Pro Rata. 30 Hours Per Week.</td>\n",
       "      <td>14176</td>\n",
       "      <td>totaljobs.com</td>\n",
       "      <td>9.559376</td>\n",
       "    </tr>\n",
       "    <tr>\n",
       "      <th>155536</th>\n",
       "      <td>71082874</td>\n",
       "      <td>TELEPHONE SALES</td>\n",
       "      <td>To apply please sent your CV to alexbaz****hot...</td>\n",
       "      <td>Chelmsford</td>\n",
       "      <td>Chelmsford</td>\n",
       "      <td>full_time</td>\n",
       "      <td>NaN</td>\n",
       "      <td>Envirosolar Ltd</td>\n",
       "      <td>Sales Jobs</td>\n",
       "      <td>11,500 PER ANNUM BASIC OTE 18,000</td>\n",
       "      <td>14750</td>\n",
       "      <td>Jobcentre Plus</td>\n",
       "      <td>9.599066</td>\n",
       "    </tr>\n",
       "    <tr>\n",
       "      <th>125980</th>\n",
       "      <td>69994405</td>\n",
       "      <td>Project Engineer within the Body Engineering D...</td>\n",
       "      <td>Long term rolling contract  UK Leading Automo...</td>\n",
       "      <td>Coventry West Midlands (County) West Midlands</td>\n",
       "      <td>UK</td>\n",
       "      <td>NaN</td>\n",
       "      <td>contract</td>\n",
       "      <td>Kelly Services</td>\n",
       "      <td>Engineering Jobs</td>\n",
       "      <td>From 20 to 23 per hour</td>\n",
       "      <td>41280</td>\n",
       "      <td>totaljobs.com</td>\n",
       "      <td>10.628158</td>\n",
       "    </tr>\n",
       "  </tbody>\n",
       "</table>\n",
       "</div>"
      ],
      "text/plain": [
       "              Id                                              Title  \\\n",
       "31475   68079175                            Support Worker EAST****   \n",
       "155536  71082874                                    TELEPHONE SALES   \n",
       "125980  69994405  Project Engineer within the Body Engineering D...   \n",
       "\n",
       "                                          FullDescription  \\\n",
       "31475   30 hours per week Support workers required to ...   \n",
       "155536  To apply please sent your CV to alexbaz****hot...   \n",
       "125980   Long term rolling contract  UK Leading Automo...   \n",
       "\n",
       "                                          LocationRaw LocationNormalized  \\\n",
       "31475                                              UK                 UK   \n",
       "155536                                     Chelmsford         Chelmsford   \n",
       "125980  Coventry West Midlands (County) West Midlands                 UK   \n",
       "\n",
       "       ContractType ContractTime          Company                   Category  \\\n",
       "31475     part_time          NaN           Mencap  Healthcare & Nursing Jobs   \n",
       "155536    full_time          NaN  Envirosolar Ltd                 Sales Jobs   \n",
       "125980          NaN     contract   Kelly Services           Engineering Jobs   \n",
       "\n",
       "                                             SalaryRaw  SalaryNormalized  \\\n",
       "31475   14,176 Per Annum, Pro Rata. 30 Hours Per Week.             14176   \n",
       "155536               11,500 PER ANNUM BASIC OTE 18,000             14750   \n",
       "125980                          From 20 to 23 per hour             41280   \n",
       "\n",
       "            SourceName  Log1pSalary  \n",
       "31475    totaljobs.com     9.559376  \n",
       "155536  Jobcentre Plus     9.599066  \n",
       "125980   totaljobs.com    10.628158  "
      ]
     },
     "execution_count": 11,
     "metadata": {},
     "output_type": "execute_result"
    }
   ],
   "source": [
    "text_columns = [\"Title\", \"FullDescription\"]\n",
    "categorical_columns = [\"Category\", \"Company\", \"LocationNormalized\", \"ContractType\", \"ContractTime\"]\n",
    "TARGET_COLUMN = \"Log1pSalary\"\n",
    "\n",
    "data[categorical_columns] = data[categorical_columns].fillna('NaN') # cast missing values to string \"NaN\"\n",
    "\n",
    "data.sample(3)"
   ]
  },
  {
   "cell_type": "markdown",
   "metadata": {
    "id": "sxu0NeUPuXMO"
   },
   "source": [
    "### Начнем с текстовых данных\n",
    "\n",
    "Как и в любой NLP задаче, сперва текст надо токенизировать. Сделаем это так же, как и на прошлом семинаре. Приведем текст к нижнему регистру, удалим всю пунктуацию и поделим на слова.\n",
    "\n",
    "Для дальнейшего удобства лучше хранить каждый токенизированных текст в виде __одной строки со словами, разделенными пробелами__, а не списка, как было раньше."
   ]
  },
  {
   "cell_type": "code",
   "execution_count": 12,
   "metadata": {
    "colab": {
     "base_uri": "https://localhost:8080/"
    },
    "id": "IdHWGrJsuXMP",
    "outputId": "22048639-d5af-41f5-8afb-254db8763c4d",
    "scrolled": true
   },
   "outputs": [
    {
     "name": "stdout",
     "output_type": "stream",
     "text": [
      "Raw text:\n",
      "2         Mathematical Modeller / Simulation Analyst / O...\n",
      "100002    A successful and high achieving specialist sch...\n",
      "200002    Web Designer  HTML, CSS, JavaScript, Photoshop...\n",
      "Name: FullDescription, dtype: object\n"
     ]
    }
   ],
   "source": [
    "print(\"Raw text:\")\n",
    "print(data[\"FullDescription\"][2::100000])"
   ]
  },
  {
   "cell_type": "code",
   "execution_count": 13,
   "metadata": {
    "id": "bSqhm9jiuXMP"
   },
   "outputs": [],
   "source": [
    "import re\n",
    "\n",
    "def tokenize(text):\n",
    "    reg = re.compile(r'\\w+')\n",
    "    return reg.findall(text.lower())"
   ]
  },
  {
   "cell_type": "code",
   "execution_count": 14,
   "metadata": {
    "id": "BLI7q9UzuXMP"
   },
   "outputs": [
    {
     "name": "stdout",
     "output_type": "stream",
     "text": [
      "CPU times: total: 8.98 s\n",
      "Wall time: 8.98 s\n"
     ]
    }
   ],
   "source": [
    "%%time\n",
    "data['Title'] = data['Title'].fillna('')\n",
    "data[\"Title\"] = data['Title'].map(lambda x: ' '.join(tokenize(x)))  # your code here\n",
    "data[\"FullDescription\"] = data[\"FullDescription\"].map(lambda x: ' '.join(tokenize(x)))  # your code here"
   ]
  },
  {
   "cell_type": "code",
   "execution_count": 16,
   "metadata": {
    "colab": {
     "base_uri": "https://localhost:8080/"
    },
    "id": "de3owDJcuXMP",
    "outputId": "ba11aad4-7d24-46b8-c4df-da85a0bbae0c"
   },
   "outputs": [
    {
     "name": "stdout",
     "output_type": "stream",
     "text": [
      "Tokenized:\n",
      "2         mathematical modeller simulation analyst opera...\n",
      "100002    a successful and high achieving specialist sch...\n",
      "200002    web designer html css javascript photoshop ill...\n",
      "Name: FullDescription, dtype: object\n"
     ]
    }
   ],
   "source": [
    "print(\"Tokenized:\")\n",
    "print(data[\"FullDescription\"][2::100000])\n",
    "assert data[\"FullDescription\"][2][:50] == 'mathematical modeller simulation analyst operation'\n",
    "assert data[\"Title\"][54321] == 'international digital account manager german'"
   ]
  },
  {
   "cell_type": "markdown",
   "metadata": {
    "id": "xV4-FXa9uXMP"
   },
   "source": [
    "Не все слова одинаково полезны. Некоторые из них встречаются очень редко, и поэтому модель не сможет выучить их значение. При этом эмбеддинги для таких слов к тому же будут занимать место в памяти, что плохо.\n",
    "\n",
    "Давайте посчитаем, сколько раз встречалось каждое слово, и выкинем редкие."
   ]
  },
  {
   "cell_type": "code",
   "execution_count": 17,
   "metadata": {
    "editable": true,
    "id": "aqysOKrauXMP",
    "slideshow": {
     "slide_type": ""
    },
    "tags": []
   },
   "outputs": [],
   "source": [
    "from collections import Counter\n",
    "token_counts = Counter()\n",
    "\n",
    "# Count how many times does each token occur in both \"Title\" and \"FullDescription\" in total\n",
    "# your code here\n",
    "for text in data['Title']:\n",
    "    token_counts.update(text.split())\n",
    "for text in data[\"FullDescription\"]:\n",
    "    token_counts.update(text.split())"
   ]
  },
  {
   "cell_type": "code",
   "execution_count": 18,
   "metadata": {
    "colab": {
     "base_uri": "https://localhost:8080/"
    },
    "id": "kHRi79hjuXMP",
    "outputId": "b917db5a-e5f5-41ab-ad7a-979652caccf6"
   },
   "outputs": [
    {
     "name": "stdout",
     "output_type": "stream",
     "text": [
      "Total unique tokens : 201697\n",
      "('and', 2657388)\n",
      "('the', 2080994)\n",
      "('to', 2019884)\n",
      "('a', 1521925)\n",
      "('of', 1426213)\n",
      "...\n",
      "('stephanietraveltraderecruitmnt', 1)\n",
      "('ruabon', 1)\n",
      "('lowehays', 1)\n",
      "Correct!\n"
     ]
    }
   ],
   "source": [
    "print(\"Total unique tokens :\", len(token_counts))\n",
    "print('\\n'.join(map(str, token_counts.most_common(n=5))))\n",
    "print('...')\n",
    "print('\\n'.join(map(str, token_counts.most_common()[-3:])))\n",
    "\n",
    "assert token_counts.most_common(1)[0][1] in  range(2600000, 2700000)\n",
    "assert len(token_counts) in range(200000, 210000)\n",
    "print('Correct!')"
   ]
  },
  {
   "cell_type": "code",
   "execution_count": 19,
   "metadata": {
    "colab": {
     "base_uri": "https://localhost:8080/",
     "height": 449
    },
    "id": "hq85m2W3uXMQ",
    "outputId": "e155b596-0e5f-472b-9b28-875ef3d3aa91"
   },
   "outputs": [
    {
     "data": {
      "image/png": "[encoded data removed]",
      "text/plain": [
       "<Figure size 640x480 with 1 Axes>"
      ]
     },
     "metadata": {},
     "output_type": "display_data"
    }
   ],
   "source": [
    "# Let's see how many words are there for each count\n",
    "plt.hist(list(token_counts.values()), range=[0, 10**4], bins=50, log=True)\n",
    "plt.xlabel(\"Word counts\")\n",
    "plt.show()"
   ]
  },
  {
   "cell_type": "markdown",
   "metadata": {
    "id": "0MsirdoMuXMQ"
   },
   "source": [
    "Создайте список уникальных токенов, которые встречались не меньше 10 раз, и отсортируйте их по частоте встречания."
   ]
  },
  {
   "cell_type": "code",
   "execution_count": 20,
   "metadata": {
    "id": "jPkRQr6vuXMQ"
   },
   "outputs": [],
   "source": [
    "min_count = 10\n",
    "\n",
    "# tokens from token_counts keys that had at least min_count occurrences throughout the dataset\n",
    "tokens = sorted([(k, v) for k, v in token_counts.items() if v >= min_count], key=lambda x: -x[1])  # your code here\n",
    "tokens, _ = zip(*tokens)\n",
    "tokens = list(tokens)\n",
    "# Add a special tokens for unknown and empty words\n",
    "UNK, PAD = \"UNK\", \"PAD\"\n",
    "tokens = [UNK, PAD] + tokens"
   ]
  },
  {
   "cell_type": "code",
   "execution_count": 21,
   "metadata": {
    "colab": {
     "base_uri": "https://localhost:8080/"
    },
    "id": "xv1BIzLeuXMQ",
    "outputId": "d85ea940-cfef-4e13-eaad-2555456d3554"
   },
   "outputs": [
    {
     "name": "stdout",
     "output_type": "stream",
     "text": [
      "Vocabulary size: 33816\n",
      "Correct!\n"
     ]
    }
   ],
   "source": [
    "print(\"Vocabulary size:\", len(tokens))\n",
    "assert type(tokens) == list\n",
    "assert len(tokens) in range(32000, 35000)\n",
    "assert 'me' in tokens\n",
    "assert UNK in tokens\n",
    "print(\"Correct!\")"
   ]
  },
  {
   "cell_type": "markdown",
   "metadata": {
    "id": "RSPgyqALuXMQ"
   },
   "source": [
    "Создайте словарь _\\{токен: индекс\\}_ для всех токенов из списка."
   ]
  },
  {
   "cell_type": "code",
   "execution_count": 22,
   "metadata": {
    "id": "r0oeviYyuXMQ"
   },
   "outputs": [],
   "source": [
    "token_to_id = {v: index for index, v in enumerate(tokens)}  # your code here"
   ]
  },
  {
   "cell_type": "code",
   "execution_count": 23,
   "metadata": {
    "colab": {
     "base_uri": "https://localhost:8080/"
    },
    "id": "4cupERUguXMQ",
    "outputId": "fbf3c8e1-d0d7-405b-b5dc-b73d9b8068a7"
   },
   "outputs": [
    {
     "name": "stdout",
     "output_type": "stream",
     "text": [
      "Correct!\n"
     ]
    }
   ],
   "source": [
    "assert isinstance(token_to_id, dict)\n",
    "assert len(token_to_id) == len(tokens)\n",
    "for tok in tokens:\n",
    "    assert tokens[token_to_id[tok]] == tok\n",
    "\n",
    "print(\"Correct!\")"
   ]
  },
  {
   "cell_type": "markdown",
   "metadata": {
    "id": "gb4-D9sYuXMQ"
   },
   "source": [
    "Эта функция кодирует набор текстов в виде матрицы из индексов токенов, добавляя паддинги к коротким текстам."
   ]
  },
  {
   "cell_type": "code",
   "execution_count": 24,
   "metadata": {
    "id": "BAzCdsIHuXMQ"
   },
   "outputs": [],
   "source": [
    "UNK_IDX, PAD_IDX = token_to_id[UNK], token_to_id[PAD]\n",
    "\n",
    "\n",
    "def as_matrix(sequences, max_len=None):\n",
    "    \"\"\" Convert a list of tokens into a matrix with padding \"\"\"\n",
    "    if isinstance(sequences[0], str):\n",
    "        sequences = [x.split() for x in sequences]\n",
    "\n",
    "    max_sequence_len = max([len(x) for x in sequences])\n",
    "    if max_len is not None and max_len < max_sequence_len:\n",
    "        max_sequence_len = max_len\n",
    "\n",
    "    matrix = np.full((len(sequences), max_sequence_len), np.int32(PAD_IDX))\n",
    "    for i, seq in enumerate(sequences):\n",
    "        row_ix = [token_to_id.get(word, UNK_IDX) for word in seq[:max_sequence_len]]\n",
    "        matrix[i, :len(row_ix)] = row_ix\n",
    "\n",
    "    return matrix"
   ]
  },
  {
   "cell_type": "code",
   "execution_count": 25,
   "metadata": {
    "colab": {
     "base_uri": "https://localhost:8080/"
    },
    "id": "fV1guJQMuXMQ",
    "outputId": "09257f67-9f38-4645-f1f4-99d57241ac3d"
   },
   "outputs": [
    {
     "name": "stdout",
     "output_type": "stream",
     "text": [
      "Lines:\n",
      "engineering systems analyst\n",
      "hr assistant\n",
      "senior ec i engineer\n",
      "\n",
      "Matrix:\n",
      "[[ 124  105  256    1]\n",
      " [ 297  223    1    1]\n",
      " [  91 4069  373   74]]\n"
     ]
    }
   ],
   "source": [
    "print(\"Lines:\")\n",
    "print('\\n'.join(data[\"Title\"][::100000].values), end='\\n\\n')\n",
    "print(\"Matrix:\")\n",
    "print(as_matrix(data[\"Title\"][::100000]))"
   ]
  },
  {
   "cell_type": "markdown",
   "metadata": {
    "id": "LatZpNBCuXMQ"
   },
   "source": [
    "### Категориальные данные\n",
    "\n",
    "Для кодирования категориальных признаков мы будем использовать one-hot-encoding. Это не лучшая идея в данном случае, так как различных значений у признаков много. Однако, реализацию более сложных методов мы оставим для вас.\n"
   ]
  },
  {
   "cell_type": "code",
   "execution_count": 26,
   "metadata": {
    "colab": {
     "base_uri": "https://localhost:8080/",
     "height": 74
    },
    "id": "u_kIHSyPuXMR",
    "outputId": "13bcc2ec-c102-4de2-bd74-0b594e811d4f"
   },
   "outputs": [
    {
     "data": {
      "text/html": [
       "<style>#sk-container-id-1 {color: black;background-color: white;}#sk-container-id-1 pre{padding: 0;}#sk-container-id-1 div.sk-toggleable {background-color: white;}#sk-container-id-1 label.sk-toggleable__label {cursor: pointer;display: block;width: 100%;margin-bottom: 0;padding: 0.3em;box-sizing: border-box;text-align: center;}#sk-container-id-1 label.sk-toggleable__label-arrow:before {content: \"▸\";float: left;margin-right: 0.25em;color: #696969;}#sk-container-id-1 label.sk-toggleable__label-arrow:hover:before {color: black;}#sk-container-id-1 div.sk-estimator:hover label.sk-toggleable__label-arrow:before {color: black;}#sk-container-id-1 div.sk-toggleable__content {max-height: 0;max-width: 0;overflow: hidden;text-align: left;background-color: #f0f8ff;}#sk-container-id-1 div.sk-toggleable__content pre {margin: 0.2em;color: black;border-radius: 0.25em;background-color: #f0f8ff;}#sk-container-id-1 input.sk-toggleable__control:checked~div.sk-toggleable__content {max-height: 200px;max-width: 100%;overflow: auto;}#sk-container-id-1 input.sk-toggleable__control:checked~label.sk-toggleable__label-arrow:before {content: \"▾\";}#sk-container-id-1 div.sk-estimator input.sk-toggleable__control:checked~label.sk-toggleable__label {background-color: #d4ebff;}#sk-container-id-1 div.sk-label input.sk-toggleable__control:checked~label.sk-toggleable__label {background-color: #d4ebff;}#sk-container-id-1 input.sk-hidden--visually {border: 0;clip: rect(1px 1px 1px 1px);clip: rect(1px, 1px, 1px, 1px);height: 1px;margin: -1px;overflow: hidden;padding: 0;position: absolute;width: 1px;}#sk-container-id-1 div.sk-estimator {font-family: monospace;background-color: #f0f8ff;border: 1px dotted black;border-radius: 0.25em;box-sizing: border-box;margin-bottom: 0.5em;}#sk-container-id-1 div.sk-estimator:hover {background-color: #d4ebff;}#sk-container-id-1 div.sk-parallel-item::after {content: \"\";width: 100%;border-bottom: 1px solid gray;flex-grow: 1;}#sk-container-id-1 div.sk-label:hover label.sk-toggleable__label {background-color: #d4ebff;}#sk-container-id-1 div.sk-serial::before {content: \"\";position: absolute;border-left: 1px solid gray;box-sizing: border-box;top: 0;bottom: 0;left: 50%;z-index: 0;}#sk-container-id-1 div.sk-serial {display: flex;flex-direction: column;align-items: center;background-color: white;padding-right: 0.2em;padding-left: 0.2em;position: relative;}#sk-container-id-1 div.sk-item {position: relative;z-index: 1;}#sk-container-id-1 div.sk-parallel {display: flex;align-items: stretch;justify-content: center;background-color: white;position: relative;}#sk-container-id-1 div.sk-item::before, #sk-container-id-1 div.sk-parallel-item::before {content: \"\";position: absolute;border-left: 1px solid gray;box-sizing: border-box;top: 0;bottom: 0;left: 50%;z-index: -1;}#sk-container-id-1 div.sk-parallel-item {display: flex;flex-direction: column;z-index: 1;position: relative;background-color: white;}#sk-container-id-1 div.sk-parallel-item:first-child::after {align-self: flex-end;width: 50%;}#sk-container-id-1 div.sk-parallel-item:last-child::after {align-self: flex-start;width: 50%;}#sk-container-id-1 div.sk-parallel-item:only-child::after {width: 0;}#sk-container-id-1 div.sk-dashed-wrapped {border: 1px dashed gray;margin: 0 0.4em 0.5em 0.4em;box-sizing: border-box;padding-bottom: 0.4em;background-color: white;}#sk-container-id-1 div.sk-label label {font-family: monospace;font-weight: bold;display: inline-block;line-height: 1.2em;}#sk-container-id-1 div.sk-label-container {text-align: center;}#sk-container-id-1 div.sk-container {/* jupyter's `normalize.less` sets `[hidden] { display: none; }` but bootstrap.min.css set `[hidden] { display: none !important; }` so we also need the `!important` here to be able to override the default hidden behavior on the sphinx rendered scikit-learn.org. See: https://github.com/scikit-learn/scikit-learn/issues/21755 */display: inline-block !important;position: relative;}#sk-container-id-1 div.sk-text-repr-fallback {display: none;}</style><div id=\"sk-container-id-1\" class=\"sk-top-container\"><div class=\"sk-text-repr-fallback\"><pre>DictVectorizer(dtype=&lt;class &#x27;numpy.float32&#x27;&gt;, sparse=False)</pre><b>In a Jupyter environment, please rerun this cell to show the HTML representation or trust the notebook. <br />On GitHub, the HTML representation is unable to render, please try loading this page with nbviewer.org.</b></div><div class=\"sk-container\" hidden><div class=\"sk-item\"><div class=\"sk-estimator sk-toggleable\"><input class=\"sk-toggleable__control sk-hidden--visually\" id=\"sk-estimator-id-1\" type=\"checkbox\" checked><label for=\"sk-estimator-id-1\" class=\"sk-toggleable__label sk-toggleable__label-arrow\">DictVectorizer</label><div class=\"sk-toggleable__content\"><pre>DictVectorizer(dtype=&lt;class &#x27;numpy.float32&#x27;&gt;, sparse=False)</pre></div></div></div></div></div>"
      ],
      "text/plain": [
       "DictVectorizer(dtype=<class 'numpy.float32'>, sparse=False)"
      ]
     },
     "execution_count": 26,
     "metadata": {},
     "output_type": "execute_result"
    }
   ],
   "source": [
    "from sklearn.feature_extraction import DictVectorizer\n",
    "\n",
    "# we only consider top-1k most frequent companies to minimize memory usage\n",
    "top_companies, top_counts = zip(*Counter(data['Company']).most_common(1000))\n",
    "recognized_companies = set(top_companies)\n",
    "data[\"Company\"] = data[\"Company\"].apply(lambda comp: comp if comp in recognized_companies else \"Other\")\n",
    "\n",
    "categorical_vectorizer = DictVectorizer(dtype=np.float32, sparse=False)\n",
    "categorical_vectorizer.fit(data[categorical_columns].apply(dict, axis=1))"
   ]
  },
  {
   "cell_type": "code",
   "execution_count": 27,
   "metadata": {
    "colab": {
     "base_uri": "https://localhost:8080/"
    },
    "id": "3wpyNj5tuXMR",
    "outputId": "57d1c944-6925-41c1-85ec-08bdba70f40d"
   },
   "outputs": [
    {
     "data": {
      "text/plain": [
       "{'Category': 'Engineering Jobs',\n",
       " 'Company': 'Gregory Martin International',\n",
       " 'LocationNormalized': 'Dorking',\n",
       " 'ContractType': 'NaN',\n",
       " 'ContractTime': 'permanent'}"
      ]
     },
     "execution_count": 27,
     "metadata": {},
     "output_type": "execute_result"
    }
   ],
   "source": [
    "data[categorical_columns].apply(dict, axis=1)[0]"
   ]
  },
  {
   "cell_type": "markdown",
   "metadata": {
    "id": "dktNJwZruXMR"
   },
   "source": [
    "### Обучение модели\n",
    "\n",
    "Мы проделали все подготовительные шаги, а значит, самое время обучить нейронную сеть.\n",
    "\n",
    "Стоит отметить, что мы немного схалтурили. Во-первых, мы не будем выделять валидационную выборку, так как не будем особо стараться улучшать модель. Во-вторых, для токенизации и сбора словаря мы использовали все данные, а не только тренировочные, как это надо делать. При желании, вы можете поправить эти неточности и посмотреть, как будет меняться результат."
   ]
  },
  {
   "cell_type": "code",
   "execution_count": 28,
   "metadata": {
    "colab": {
     "base_uri": "https://localhost:8080/"
    },
    "id": "kqfRmAS1uXMR",
    "outputId": "9e88c758-2b62-4600-a763-5b6503bd2b25"
   },
   "outputs": [
    {
     "name": "stdout",
     "output_type": "stream",
     "text": [
      "Train size =  195814\n",
      "Validation size =  48954\n"
     ]
    }
   ],
   "source": [
    "from sklearn.model_selection import train_test_split\n",
    "\n",
    "data_train, data_val = train_test_split(data, test_size=0.2, random_state=42)\n",
    "data_train.index = range(len(data_train))\n",
    "data_val.index = range(len(data_val))\n",
    "\n",
    "print(\"Train size = \", len(data_train))\n",
    "print(\"Validation size = \", len(data_val))"
   ]
  },
  {
   "cell_type": "code",
   "execution_count": 30,
   "metadata": {
    "id": "s04YFg77uXMR"
   },
   "outputs": [],
   "source": [
    "import torch\n",
    "import torch.nn as nn\n",
    "import torch.functional as F\n",
    "\n",
    "\n",
    "device = 'cuda' if torch.cuda.is_available() else 'cpu'\n",
    "\n",
    "\n",
    "def to_tensors(batch, device):\n",
    "    batch_tensors = dict()\n",
    "    for key, arr in batch.items():\n",
    "        if key in [\"FullDescription\", \"Title\"]:\n",
    "            batch_tensors[key] = torch.tensor(arr, device=device, dtype=torch.int64)\n",
    "        else:\n",
    "            batch_tensors[key] = torch.tensor(arr, device=device)\n",
    "    return batch_tensors\n",
    "\n",
    "\n",
    "def apply_word_dropout(matrix, keep_prop, replace_with=UNK_IDX, pad_ix=PAD_IDX,):\n",
    "    dropout_mask = np.random.choice(2, np.shape(matrix), p=[keep_prop, 1 - keep_prop])\n",
    "    dropout_mask &= matrix != pad_ix\n",
    "    return np.choose(dropout_mask, [matrix, np.full_like(matrix, replace_with)])\n",
    "\n",
    "\n",
    "def make_batch(data, max_len=None, word_dropout=0, device=device):\n",
    "    \"\"\"\n",
    "    Creates a keras-friendly dict from the batch data.\n",
    "    :param word_dropout: replaces token index with UNK_IDX with this probability\n",
    "    :returns: a dict with {\n",
    "        'Title' : int64[batch, title_max_len],\n",
    "        'FullDescription' : int64[batch, descr_max_len],\n",
    "        'Categorical' : float32[batch, ohe_len],\n",
    "        'Log1pSalary' : float32[batch]\n",
    "    }\n",
    "    \"\"\"\n",
    "    batch = {}\n",
    "    batch[\"Title\"] = as_matrix(data[\"Title\"].values, max_len)\n",
    "    batch[\"FullDescription\"] = as_matrix(data[\"FullDescription\"].values, max_len)\n",
    "    batch['Categorical'] = categorical_vectorizer.transform(data[categorical_columns].apply(dict, axis=1))\n",
    "\n",
    "    if word_dropout > 0:\n",
    "        batch[\"FullDescription\"] = apply_word_dropout(batch[\"FullDescription\"], 1. - word_dropout)\n",
    "\n",
    "    if TARGET_COLUMN in data.columns:\n",
    "        batch[TARGET_COLUMN] = data[TARGET_COLUMN].values\n",
    "\n",
    "    return to_tensors(batch, device)"
   ]
  },
  {
   "cell_type": "code",
   "execution_count": 31,
   "metadata": {
    "colab": {
     "base_uri": "https://localhost:8080/"
    },
    "id": "_8VRs-UMuXMR",
    "outputId": "1a120087-dfe5-477e-f75e-7cc08ebfad5d",
    "scrolled": true
   },
   "outputs": [
    {
     "data": {
      "text/plain": [
       "{'Title': tensor([[   91,    45,   695,     1,     1,     1],\n",
       "         [ 2075,  3735,  5221,     7,  1367, 20789],\n",
       "         [ 2866,    26,   332, 12149, 12825,     1]], device='cuda:0'),\n",
       " 'FullDescription': tensor([[   91,    45,   695,  2668,     5,    91,    45,   695,    13,  2668],\n",
       "         [ 2075,  3735,  5221,     7,  1367, 20789,   951,    64,  1982,    50],\n",
       "         [    3,    52,   176,    36,    13,   156,   266,     5,    26,   332]],\n",
       "        device='cuda:0'),\n",
       " 'Categorical': tensor([[0., 0., 0.,  ..., 0., 0., 0.],\n",
       "         [0., 0., 0.,  ..., 0., 0., 0.],\n",
       "         [0., 0., 0.,  ..., 0., 0., 0.]], device='cuda:0'),\n",
       " 'Log1pSalary': tensor([ 9.7115, 10.4631, 10.7144], device='cuda:0')}"
      ]
     },
     "execution_count": 31,
     "metadata": {},
     "output_type": "execute_result"
    }
   ],
   "source": [
    "make_batch(data_train[:3], max_len=10)"
   ]
  },
  {
   "cell_type": "markdown",
   "metadata": {
    "id": "dvIcZdD4uXMR"
   },
   "source": [
    "#### Архитектура\n",
    "\n",
    "Наша модель будет состоять из трех веток:\n",
    "* Кодировщик заголовка\n",
    "* Кодировщик описания\n",
    "* Кодировщик категориальных признаков\n",
    "\n",
    "Выходы всех трех веток будут конкатенироваться и затем преобразовываться в скаляр с помощью полносвязного слоя.\n",
    "\n",
    "![scheme](https://github.com/yandexdataschool/nlp_course/raw/master/resources/w2_conv_arch.png)"
   ]
  },
  {
   "cell_type": "code",
   "execution_count": 34,
   "metadata": {
    "id": "_l2aVATYuXMR"
   },
   "outputs": [],
   "source": [
    "class SalaryPredictor(nn.Module):\n",
    "    def __init__(self, n_tokens=len(tokens), n_cat_features=len(categorical_vectorizer.vocabulary_), hid_size=64):\n",
    "        super().__init__()\n",
    "        # your code here\n",
    "        self.embeding = nn.Embedding(n_tokens, hid_size)\n",
    "        self.title_conv = nn.Conv1d(hid_size, hid_size, kernel_size=3)\n",
    "        self.descr_conv = nn.Conv1d(hid_size, hid_size, kernel_size=3)\n",
    "\n",
    "        self.cat_fc = nn.Linear(n_cat_features, hid_size)\n",
    "\n",
    "        self.out_fc = nn.Linear(3*hid_size, 1)\n",
    "\n",
    "    def forward(self, batch):\n",
    "        # your code here\n",
    "        #batch['Title']: [bs, seq_len]\n",
    "        title_emb = self.embeding(batch['Title']) # [bs, seq_len, hid_size]\n",
    "        desc_emb = self.embeding(batch['FullDescription'])\n",
    "\n",
    "        title_emb = self.title_conv(title_emb.transpose(1, 2)) # [bs, hid_size, seq_len - 2]\n",
    "        desc_emb = self.descr_conv(desc_emb.transpose(1, 2))\n",
    "\n",
    "        title_emb = title_emb.mean(dim=2) # [bs, hid_size]\n",
    "        desc_emb = desc_emb.mean(dim=2)\n",
    "\n",
    "        cat_emb = self.cat_fc(batch['Categorical']) # [bs, hid_size]\n",
    "\n",
    "        x = torch.hstack((title_emb, desc_emb, cat_emb)) # [bs, 3 * hid_size]\n",
    "        \n",
    "        return self.out_fc(x).squeeze()"
   ]
  },
  {
   "cell_type": "code",
   "execution_count": 35,
   "metadata": {
    "id": "v34OoZ7XuXMR"
   },
   "outputs": [],
   "source": [
    "model = SalaryPredictor().to(device)\n",
    "batch = make_batch(data_train[:100])\n",
    "criterion = nn.MSELoss()\n",
    "\n",
    "dummy_pred = model(batch)\n",
    "dummy_loss = criterion(dummy_pred, batch[TARGET_COLUMN])\n",
    "assert dummy_pred.shape == torch.Size([100])\n",
    "assert len(torch.unique(dummy_pred)) > 20, \"model returns suspiciously few unique outputs. Check your initialization\"\n",
    "assert dummy_loss.ndim == 0 and 0. <= dummy_loss <= 250., \"make sure you minimize MSE\""
   ]
  },
  {
   "cell_type": "markdown",
   "metadata": {
    "id": "_95IVgwTuXMR"
   },
   "source": [
    "#### Обучение и валидация\n",
    "\n",
    "Создадим функцию для бесконечной подачи батчей данных."
   ]
  },
  {
   "cell_type": "code",
   "execution_count": 36,
   "metadata": {
    "id": "FGrttZVfuXMa"
   },
   "outputs": [],
   "source": [
    "def iterate_minibatches(data, batch_size=256, shuffle=True, cycle=False, device=device):\n",
    "    \"\"\" iterates minibatches of data in random order \"\"\"\n",
    "    while True:\n",
    "        indices = np.arange(len(data))\n",
    "        if shuffle:\n",
    "            indices = np.random.permutation(indices)\n",
    "\n",
    "        for start in range(0, len(indices), batch_size):\n",
    "            batch = make_batch(data.iloc[indices[start : start + batch_size]], device=device)\n",
    "            yield batch\n",
    "\n",
    "        if not cycle:\n",
    "            break"
   ]
  },
  {
   "cell_type": "markdown",
   "metadata": {
    "id": "ARpSckQRxZEc"
   },
   "source": [
    "Во время обучения мы будем логировать не только значение ошибки на валидации (зарплата у нас в логарифмической шкале, поэтому такую ошибку сложно интерпретировать), но и стандартное отклонение ошибки предсказания зарплаты в долларах."
   ]
  },
  {
   "cell_type": "code",
   "execution_count": 37,
   "metadata": {
    "id": "6TM-TjXTuXMa"
   },
   "outputs": [],
   "source": [
    "from tqdm.auto import tqdm\n",
    "\n",
    "BATCH_SIZE = 16\n",
    "EPOCHS = 5"
   ]
  },
  {
   "cell_type": "code",
   "execution_count": 38,
   "metadata": {
    "id": "hJHJdPXhuXMa"
   },
   "outputs": [],
   "source": [
    "@torch.no_grad()\n",
    "def print_metrics(model, data, batch_size=BATCH_SIZE, name='', device=torch.device('cpu')):\n",
    "    squared_error = mse_exp_loss = num_samples = 0.0\n",
    "    model.eval()\n",
    "\n",
    "    mse_loss = nn.MSELoss(reduction='sum')\n",
    "\n",
    "    for batch in iterate_minibatches(data, batch_size=batch_size, shuffle=False, device=device):\n",
    "        batch_pred = model(batch)\n",
    "        squared_error += mse_loss(batch_pred, batch[TARGET_COLUMN]).item()\n",
    "        mse_exp_loss += mse_loss(torch.expm1(batch_pred), torch.expm1(batch[TARGET_COLUMN])).item()\n",
    "        num_samples += len(batch_pred)\n",
    "\n",
    "    mse = squared_error / num_samples\n",
    "    salary_pred_std = mse_exp_loss**0.5 / num_samples\n",
    "\n",
    "    print(f'Mean square error: {round(mse, 4)}')\n",
    "    print(f'Std of salary prediction error: {round(salary_pred_std, 4)}')\n",
    "\n",
    "    return mse, salary_pred_std"
   ]
  },
  {
   "cell_type": "markdown",
   "metadata": {
    "id": "gya7hTXWuXMa"
   },
   "source": [
    "### Обучение модели\n",
    "\n",
    "Тут мы снова не будем слишком избирательны при выборе оптимизатора, расписания скорости обучения и гиперпараметров. Возьмем все самое простое, а при желании вы можете попробовать улучшить наш результат."
   ]
  },
  {
   "cell_type": "code",
   "execution_count": 39,
   "metadata": {
    "colab": {
     "base_uri": "https://localhost:8080/",
     "height": 454,
     "referenced_widgets": [
      "76905ac44264454fb1880f59e0d6f271",
      "c891d0af2a6946009db858c9ec98d3a1",
      "09b33174cc1545c58b4e1fdbcb61fc97",
      "22f29830dd5b49d7bd369b0452ea2138",
      "581c452f3bbc4eaba78b6c312e524124",
      "3bc5440ffea940bc879895e3975ffd27",
      "0a231bc0f5744d799ec2eb21538c7475",
      "38952edf953849c6b0d9079e85dfbfa1",
      "871194afc27d4f9bbbe43858d7d788e4",
      "bd7d60c60eb14db39e4e82b2d309cb72",
      "a7fb909097af4a8eb7ded942c3b0f688",
      "947a9e20d7d54666b51bceebd8fac4d1",
      "f4f5fd6bfa1e4a9b8db2a3a2baf1330a",
      "49f63a0a54c546b98ca0f1363508ea8d",
      "ae76774099db48549376256139f7ff29",
      "6b58d25800954bb7a69d5d44442c0f17",
      "38b2791ac6e74ec28d5b497ed464b1e7",
      "5187f6a52b4944eb830be4029cab74e2",
      "c8742f0927274f2d8a0deadf40e58f28",
      "ef1eaf6aa4ad43eb8af06775f762f31c",
      "d3ca45bb799d4cfaaeaa7efa69aab106",
      "6189596611a440c4a1042ba265e8a34e",
      "a7188ebde28241c694e501121ecc3f8a",
      "790e80cb99c24293a1cfb64804b23b0a",
      "7859228813094b7fa4dd53b6ca41d458",
      "40041e6bdb7043e9a2030d5f1debe878",
      "fae6f97c290a48eaa2be15f521acd45b",
      "6f03f29668a8401b885338319dd9a681",
      "a23f475aaafd48b2a87a6047bfbc39e6",
      "a7bb293965d94d488664b6fb7290ead4",
      "dd03c2a1fcb247efb279243cdd0f454a",
      "8c76fe881c2741ceb1a9f11680091240",
      "6c2695c6cb564a74a36a99f9dcc8580b",
      "0cb4bd6bbe944ae88eff9733f2796699",
      "b00a4f5e8c7c4ea3829443e7ceee79fc",
      "d6bc359288c1481abba36661bce52892",
      "b26e8403ae9c43fa9a847fa9ab67f53b",
      "1fbc9abf60ef4ef59e9795486618f2c7",
      "c44cab0d828b475396873cf738ef16fc",
      "fd736eef281c40d9ac3e0c958e083887",
      "b214ec84efde46d792ff323a1488a079",
      "99e42b716f8e4e599699b6116571780b",
      "cc64ff02dd524a9e988487893730a3c6",
      "423639141cef483e8a8bd0ce57a39828",
      "ee5442849a22475a8dfabec35fe90ab9",
      "b37db1967b304f18ac8014de6c52e208",
      "4a066717312949749a7de4c1b2a7d58b",
      "bfdaa0b250ec4045a51c0a220e7d2934",
      "a6124e02aa8d48afa4eb8d9238db18bc",
      "9103da34bec44e3a9ac0a5cb752e5125",
      "3de647bba6a94213b29d9f77c4ffe5b1",
      "6ce32f68ce8a494ea20f75136f921fec",
      "402224c78991479e946dd1646b670388",
      "cd8de4a6c133450cabda0271ffe3f220",
      "095c00c08f6d4d638ff986b700c9db2e"
     ]
    },
    "editable": true,
    "id": "pJECiBd4uXMa",
    "outputId": "add6bcc6-c27e-4ba8-f5ea-a65fdb416ad2",
    "slideshow": {
     "slide_type": ""
    },
    "tags": []
   },
   "outputs": [
    {
     "name": "stdout",
     "output_type": "stream",
     "text": [
      "epoch: 0\n"
     ]
    },
    {
     "data": {
      "application/vnd.jupyter.widget-view+json": {
       "model_id": "ba0816bd30f64ed1a5c0a6c03a2ed627",
       "version_major": 2,
       "version_minor": 0
      },
      "text/plain": [
       "  0%|          | 0/12238 [00:00<?, ?it/s]"
      ]
     },
     "metadata": {},
     "output_type": "display_data"
    },
    {
     "name": "stdout",
     "output_type": "stream",
     "text": [
      "Mean square error: 0.4946\n",
      "Std of salary prediction error: 130.5568\n",
      "epoch: 1\n"
     ]
    },
    {
     "data": {
      "application/vnd.jupyter.widget-view+json": {
       "model_id": "7a55c34f470542c5a4b63ecb9a48e45b",
       "version_major": 2,
       "version_minor": 0
      },
      "text/plain": [
       "  0%|          | 0/12238 [00:00<?, ?it/s]"
      ]
     },
     "metadata": {},
     "output_type": "display_data"
    },
    {
     "name": "stdout",
     "output_type": "stream",
     "text": [
      "Mean square error: 0.2841\n",
      "Std of salary prediction error: 89.9396\n",
      "epoch: 2\n"
     ]
    },
    {
     "data": {
      "application/vnd.jupyter.widget-view+json": {
       "model_id": "e2f799abf8904d8c9b4d9cc399c74e20",
       "version_major": 2,
       "version_minor": 0
      },
      "text/plain": [
       "  0%|          | 0/12238 [00:00<?, ?it/s]"
      ]
     },
     "metadata": {},
     "output_type": "display_data"
    },
    {
     "name": "stdout",
     "output_type": "stream",
     "text": [
      "Mean square error: 0.2381\n",
      "Std of salary prediction error: 82.9549\n",
      "epoch: 3\n"
     ]
    },
    {
     "data": {
      "application/vnd.jupyter.widget-view+json": {
       "model_id": "b4cf12684663450fbb28ff5f297aaa96",
       "version_major": 2,
       "version_minor": 0
      },
      "text/plain": [
       "  0%|          | 0/12238 [00:00<?, ?it/s]"
      ]
     },
     "metadata": {},
     "output_type": "display_data"
    },
    {
     "name": "stdout",
     "output_type": "stream",
     "text": [
      "Mean square error: 0.2144\n",
      "Std of salary prediction error: 79.0613\n",
      "epoch: 4\n"
     ]
    },
    {
     "data": {
      "application/vnd.jupyter.widget-view+json": {
       "model_id": "d968a5915503456095c9d997ae4d74cb",
       "version_major": 2,
       "version_minor": 0
      },
      "text/plain": [
       "  0%|          | 0/12238 [00:00<?, ?it/s]"
      ]
     },
     "metadata": {},
     "output_type": "display_data"
    },
    {
     "name": "stdout",
     "output_type": "stream",
     "text": [
      "Mean square error: 0.198\n",
      "Std of salary prediction error: 76.1647\n"
     ]
    }
   ],
   "source": [
    "model = SalaryPredictor().to(device)\n",
    "criterion = nn.MSELoss()\n",
    "optimizer = torch.optim.SGD(model.parameters(), lr=1e-4)\n",
    "\n",
    "for epoch in range(EPOCHS):\n",
    "    print(f'epoch: {epoch}')\n",
    "    model.train()\n",
    "    for i, batch in tqdm(enumerate(\n",
    "            iterate_minibatches(data_train, batch_size=BATCH_SIZE, device=device)),\n",
    "            total=len(data_train) // BATCH_SIZE\n",
    "        ):\n",
    "        pred = model(batch)\n",
    "        loss = criterion(pred, batch[TARGET_COLUMN])\n",
    "        optimizer.zero_grad()\n",
    "        loss.backward()\n",
    "        optimizer.step()\n",
    "\n",
    "    print_metrics(model, data_val, device=device)"
   ]
  },
  {
   "cell_type": "markdown",
   "metadata": {
    "id": "LLD787KxuXMa"
   },
   "source": [
    "### Объяснение предсказаний\n",
    "\n",
    "На практике очень полезно бывает уметь объяснять, почему модель выдала то или иное предсказание. Для простейших моделей (линейныя регрессия, дерево решений) возможность интерпретации встроена по умолчанию. Однако в случае нейронных сетей все не так просто, потому что зависимость предсказаний от признаков имеет очень сложную структуру, поэтому приходится придумывать всякие трюки.\n",
    "\n",
    "Вот некоторые из способов посмотреть внутрь модели:\n",
    "* Изменить вход и посмотреть, как меняется предсказание\n",
    "* Поискать примеры, которые максимизируют или минимизируют активации конкретных нейронов (_больше об этом на [distill.pub](https://distill.pub/2018/building-blocks/)_)\n",
    "* Построить локальную _линейую_ аппроксимацию модели: [LIME article](https://arxiv.org/abs/1602.04938), [eli5 library](https://github.com/TeamHG-Memex/eli5/tree/master/eli5/formatters)\n",
    "* Обучить нейронную сеть, сопоставляющую каждому слову его важность с точки зрения модели [L2X article](https://arxiv.org/abs/1802.07814)\n",
    "\n",
    "В этом семинаре мы остановимся на первом способе, как на самом простом."
   ]
  },
  {
   "cell_type": "code",
   "execution_count": 40,
   "metadata": {
    "id": "U4JI8HBuuXMb"
   },
   "outputs": [],
   "source": [
    "@torch.no_grad()\n",
    "def explain(model, sample, col_name='Title'):\n",
    "    \"\"\" Computes the effect each word had on model predictions \"\"\"\n",
    "\n",
    "    baseline_pred = model(make_batch(sample, device=device)).cpu()\n",
    "    sample = dict(sample.iloc[0])\n",
    "\n",
    "    sample_col_tokens = [tokens[token_to_id.get(tok, 0)] for tok in sample[col_name].split()]\n",
    "    data_drop_one_token = pd.DataFrame([sample] * (len(sample_col_tokens) + 1))\n",
    "\n",
    "    for drop_i in range(len(sample_col_tokens)):\n",
    "        data_drop_one_token.loc[drop_i, col_name] = ' '.join(UNK if i == drop_i else tok\n",
    "                                                   for i, tok in enumerate(sample_col_tokens))\n",
    "\n",
    "    predictions_drop_one_token = model(make_batch(data_drop_one_token, device=device)).cpu()\n",
    "    diffs = baseline_pred - predictions_drop_one_token\n",
    "    return list(zip(sample_col_tokens, diffs))"
   ]
  },
  {
   "cell_type": "code",
   "execution_count": 41,
   "metadata": {
    "id": "wgo6n-rDuXMb"
   },
   "outputs": [],
   "source": [
    "from IPython.display import HTML, display_html\n",
    "\n",
    "\n",
    "def draw_html(tokens_and_weights, cmap=plt.get_cmap(\"bwr\"), display=True,\n",
    "              token_template=\"\"\"<span style=\"background-color: {color_hex}\">{token}</span>\"\"\",\n",
    "              font_style=\"font-size:14px;\"\n",
    "             ):\n",
    "\n",
    "    def get_color_hex(weight):\n",
    "        rgba = cmap(1. / (1 + np.exp(float(weight))), bytes=True)\n",
    "        return '#%02X%02X%02X' % rgba[:3]\n",
    "\n",
    "    tokens_html = [\n",
    "        token_template.format(token=token, color_hex=get_color_hex(weight))\n",
    "        for token, weight in tokens_and_weights\n",
    "    ]\n",
    "\n",
    "\n",
    "    raw_html = \"\"\"<p style=\"{}\">{}</p>\"\"\".format(font_style, ' '.join(tokens_html))\n",
    "    if display:\n",
    "        display_html(HTML(raw_html))\n",
    "\n",
    "    return raw_html\n"
   ]
  },
  {
   "cell_type": "code",
   "execution_count": 42,
   "metadata": {
    "colab": {
     "base_uri": "https://localhost:8080/",
     "height": 216
    },
    "id": "rDu9bkcTuXMb",
    "outputId": "c85d6a78-da76-4fff-a1b1-ec417c90bdbc"
   },
   "outputs": [
    {
     "data": {
      "text/html": [
       "<p style=\"font-size:20px;\"><span style=\"background-color: #7878FF\">sales</span> <span style=\"background-color: #8383FF\">specialist</span> <span style=\"background-color: #FF9090\">iv</span> <span style=\"background-color: #A0A0FF\">access</span> <span style=\"background-color: #FF9C9C\">and</span> <span style=\"background-color: #F6F6FF\">infusion</span></p>"
      ]
     },
     "metadata": {},
     "output_type": "display_data"
    },
    {
     "data": {
      "text/html": [
       "<p style=\"font-size:14px;\"><span style=\"background-color: #FFF6F6\">sales</span> <span style=\"background-color: #FFFEFE\">representative</span> <span style=\"background-color: #FAFAFF\">medical</span> <span style=\"background-color: #FFE8E8\">sales</span> <span style=\"background-color: #E2E2FF\">iv</span> <span style=\"background-color: #F6F6FF\">access</span> <span style=\"background-color: #DADAFF\">and</span> <span style=\"background-color: #F3F3FF\">infusion</span> <span style=\"background-color: #FFE6E6\">an</span> <span style=\"background-color: #FEFEFF\">opportunity</span> <span style=\"background-color: #D6D6FF\">to</span> <span style=\"background-color: #FFF0F0\">work</span> <span style=\"background-color: #FCFCFF\">for</span> <span style=\"background-color: #DEDEFF\">the</span> <span style=\"background-color: #FFEAEA\">industry</span> <span style=\"background-color: #F6F6FF\">leading</span> <span style=\"background-color: #F0F0FF\">manufacturer</span> <span style=\"background-color: #D8D8FF\">of</span> <span style=\"background-color: #E2E2FF\">iv</span> <span style=\"background-color: #F6F6FF\">access</span> <span style=\"background-color: #DADAFF\">and</span> <span style=\"background-color: #F3F3FF\">infusion</span> <span style=\"background-color: #FFF2F2\">solutions</span> <span style=\"background-color: #FEFEFF\">formally</span> <span style=\"background-color: #FFEEEE\">recognised</span> <span style=\"background-color: #FFF6F6\">as</span> <span style=\"background-color: #DEDEFF\">the</span> <span style=\"background-color: #FFFEFE\">number</span> <span style=\"background-color: #FFF0F0\">company</span> <span style=\"background-color: #FFFEFE\">in</span> <span style=\"background-color: #EEEEFF\">this</span> <span style=\"background-color: #FFD8D8\">market</span> <span style=\"background-color: #FAFAFF\">space</span> <span style=\"background-color: #FFE4E4\">our</span> <span style=\"background-color: #FFD8D8\">client</span> <span style=\"background-color: #FFF2F2\">are</span> <span style=\"background-color: #FFE6E6\">an</span> <span style=\"background-color: #FFEAEA\">ethical</span> <span style=\"background-color: #DADAFF\">and</span> <span style=\"background-color: #FFF4F4\">dynamic</span> <span style=\"background-color: #FFF8F8\">organisation</span> <span style=\"background-color: #E0E0FF\">absolutely</span> <span style=\"background-color: #ECECFF\">committed</span> <span style=\"background-color: #D6D6FF\">to</span> <span style=\"background-color: #DEDEFF\">the</span> <span style=\"background-color: #E6E6FF\">advancement</span> <span style=\"background-color: #D8D8FF\">of</span> <span style=\"background-color: #FFF8F8\">innovative</span> <span style=\"background-color: #FFF8F8\">technologies</span> <span style=\"background-color: #FFFEFE\">job</span> <span style=\"background-color: #FFEAEA\">title</span> <span style=\"background-color: #FFE8E8\">sales</span> <span style=\"background-color: #FFF2F2\">specialist</span> <span style=\"background-color: #E2E2FF\">iv</span> <span style=\"background-color: #F6F6FF\">access</span> <span style=\"background-color: #DADAFF\">and</span> <span style=\"background-color: #F3F3FF\">infusion</span> <span style=\"background-color: #FFFCFC\">selling</span> <span style=\"background-color: #FFFAFA\">medication</span> <span style=\"background-color: #FFDADA\">delivery</span> <span style=\"background-color: #FFF2F2\">solutions</span> <span style=\"background-color: #FFFCFC\">selling</span> <span style=\"background-color: #D6D6FF\">to</span> <span style=\"background-color: #E2E2FF\">iv</span> <span style=\"background-color: #FFD8D8\">teams</span> <span style=\"background-color: #FCFCFF\">infection</span> <span style=\"background-color: #FFE6E6\">control</span> <span style=\"background-color: #FFEAEA\">lead</span> <span style=\"background-color: #FAFAFF\">intensive</span> <span style=\"background-color: #FFEEEE\">care</span> <span style=\"background-color: #FEFEFF\">nurse</span> <span style=\"background-color: #FFF8F8\">specialists</span> <span style=\"background-color: #FCFCFF\">ward</span> <span style=\"background-color: #FAFAFF\">managers</span> <span style=\"background-color: #FFF2F2\">territory</span> <span style=\"background-color: #FFFEFE\">east</span> <span style=\"background-color: #FEFEFF\">midlands</span> <span style=\"background-color: #FFE8E8\">location</span> <span style=\"background-color: #FFFEFE\">east</span> <span style=\"background-color: #FEFEFF\">midlands</span> <span style=\"background-color: #FCFCFF\">package</span> <span style=\"background-color: #F2F2FF\">basic</span> <span style=\"background-color: #FFE4E4\">k</span> <span style=\"background-color: #FFE4E4\">k</span> <span style=\"background-color: #FEFEFF\">uncapped</span> <span style=\"background-color: #D8D8FF\">bonus</span> <span style=\"background-color: #FFFEFE\">in</span> <span style=\"background-color: #FFF2F2\">addition</span> <span style=\"background-color: #FFECEC\">full</span> <span style=\"background-color: #DADAFF\">corporate</span> <span style=\"background-color: #E6E6FF\">benefits</span> <span style=\"background-color: #FFF0F0\">company</span> <span style=\"background-color: #FFFCFC\">information</span> <span style=\"background-color: #FFFEFE\">hugely</span> <span style=\"background-color: #FFEAEA\">ethical</span> <span style=\"background-color: #DADAFF\">and</span> <span style=\"background-color: #FCFCFF\">professional</span> <span style=\"background-color: #FFE8E8\">global</span> <span style=\"background-color: #FFF8F8\">organisation</span> <span style=\"background-color: #FFE6E6\">extremely</span> <span style=\"background-color: #FFEEEE\">well</span> <span style=\"background-color: #FFD2D2\">established</span> <span style=\"background-color: #FFFEFE\">in</span> <span style=\"background-color: #DEDEFF\">the</span> <span style=\"background-color: #DEDEFF\">uk</span> <span style=\"background-color: #DEDEFF\">the</span> <span style=\"background-color: #FFD8D8\">market</span> <span style=\"background-color: #FFFAFA\">leader</span> <span style=\"background-color: #FFD6D6\">across</span> <span style=\"background-color: #FFF6F6\">all</span> <span style=\"background-color: #D8D8FF\">of</span> <span style=\"background-color: #F0F0FF\">their</span> <span style=\"background-color: #FFF0F0\">core</span> <span style=\"background-color: #FFFCFC\">business</span> <span style=\"background-color: #FFFAFA\">areas</span> <span style=\"background-color: #FFF2F2\">focus</span> <span style=\"background-color: #FFE2E2\">on</span> <span style=\"background-color: #FFD3D3\">providing</span> <span style=\"background-color: #FEFEFF\">cutting</span> <span style=\"background-color: #FEFEFF\">edge</span> <span style=\"background-color: #FFF2F2\">solutions</span> <span style=\"background-color: #FFEEEE\">along</span> <span style=\"background-color: #D8D8FF\">with</span> <span style=\"background-color: #FAFAFF\">outstanding</span> <span style=\"background-color: #FFE6E6\">service</span> <span style=\"background-color: #DADAFF\">and</span> <span style=\"background-color: #FFECEC\">support</span> <span style=\"background-color: #F0F0FF\">a</span> <span style=\"background-color: #FFFCFC\">business</span> <span style=\"background-color: #E8E8FF\">that</span> <span style=\"background-color: #F3F3FF\">retain</span> <span style=\"background-color: #FFEAEA\">talented</span> <span style=\"background-color: #FFFEFE\">personnel</span> <span style=\"background-color: #ECECFF\">by</span> <span style=\"background-color: #FAFAFF\">offering</span> <span style=\"background-color: #F0F0FF\">a</span> <span style=\"background-color: #FFF8F8\">strong</span> <span style=\"background-color: #F3F3FF\">platform</span> <span style=\"background-color: #FCFCFF\">for</span> <span style=\"background-color: #F6F6FF\">career</span> <span style=\"background-color: #F3F3FF\">development</span> <span style=\"background-color: #FFE8E8\">sales</span> <span style=\"background-color: #FFF2F2\">specialist</span> <span style=\"background-color: #E2E2FF\">iv</span> <span style=\"background-color: #F6F6FF\">access</span> <span style=\"background-color: #DADAFF\">and</span> <span style=\"background-color: #F3F3FF\">infusion</span> <span style=\"background-color: #ECECFF\">you</span> <span style=\"background-color: #FFFEFE\">must</span> <span style=\"background-color: #ECECFF\">have</span> <span style=\"background-color: #FEFEFF\">be</span> <span style=\"background-color: #DEDEFF\">the</span> <span style=\"background-color: #FFFEFE\">following</span> <span style=\"background-color: #FCFCFF\">at</span> <span style=\"background-color: #FFECEC\">least</span> <span style=\"background-color: #FFEAEA\">2</span> <span style=\"background-color: #E2E2FF\">years</span> <span style=\"background-color: #FAFAFF\">medical</span> <span style=\"background-color: #FFECEC\">device</span> <span style=\"background-color: #FFE8E8\">sales</span> <span style=\"background-color: #FFF2F2\">experience</span> <span style=\"background-color: #F6F6FF\">candidates</span> <span style=\"background-color: #FFEAEA\">who</span> <span style=\"background-color: #ECECFF\">have</span> <span style=\"background-color: #FAFAFF\">sold</span> <span style=\"background-color: #FFE0E0\">disposables</span> <span style=\"background-color: #FEFEFF\">consumables</span> <span style=\"background-color: #FFEAEA\">or</span> <span style=\"background-color: #F6F6FF\">similar</span> <span style=\"background-color: #FFF4F4\">into</span> <span style=\"background-color: #FFF4F4\">hospitals</span> <span style=\"background-color: #FFF6F6\">would</span> <span style=\"background-color: #FEFEFF\">be</span> <span style=\"background-color: #D8D8FF\">of</span> <span style=\"background-color: #FEFEFF\">particular</span> <span style=\"background-color: #F3F3FF\">interest</span> <span style=\"background-color: #F6F6FF\">candidates</span> <span style=\"background-color: #FFFEFE\">must</span> <span style=\"background-color: #ECECFF\">have</span> <span style=\"background-color: #FAFAFF\">sold</span> <span style=\"background-color: #FFF4F4\">into</span> <span style=\"background-color: #FFF4F4\">hospitals</span> <span style=\"background-color: #FFEEEE\">demonstrable</span> <span style=\"background-color: #FCFCFF\">performance</span> <span style=\"background-color: #DADAFF\">and</span> <span style=\"background-color: #F6F6FF\">achievements</span> <span style=\"background-color: #FFEAEA\">so</span> <span style=\"background-color: #F6F6FF\">far</span> <span style=\"background-color: #FFEAEA\">personable</span> <span style=\"background-color: #FFF2F2\">adaptable</span> <span style=\"background-color: #DADAFF\">and</span> <span style=\"background-color: #FFEEEE\">willing</span> <span style=\"background-color: #D6D6FF\">to</span> <span style=\"background-color: #FFF0F0\">learn</span> <span style=\"background-color: #FFE6E6\">keen</span> <span style=\"background-color: #DADAFF\">and</span> <span style=\"background-color: #FFEEEE\">eager</span> <span style=\"background-color: #D6D6FF\">to</span> <span style=\"background-color: #FEFEFF\">be</span> <span style=\"background-color: #F0F0FF\">a</span> <span style=\"background-color: #EAEAFF\">success</span> <span style=\"background-color: #F6F6FF\">candidates</span> <span style=\"background-color: #FFFEFE\">must</span> <span style=\"background-color: #ECECFF\">have</span> <span style=\"background-color: #F0F0FF\">a</span> <span style=\"background-color: #FFE8E8\">degree</span> <span style=\"background-color: #FFEAEA\">or</span> <span style=\"background-color: #FCFCFF\">at</span> <span style=\"background-color: #FFECEC\">least</span> <span style=\"background-color: #FEFEFF\">be</span> <span style=\"background-color: #FFECEC\">able</span> <span style=\"background-color: #D6D6FF\">to</span> <span style=\"background-color: #FFFEFE\">show</span> <span style=\"background-color: #F0F0FF\">a</span> <span style=\"background-color: #FFF8F8\">strong</span> <span style=\"background-color: #FFEEEE\">ability</span> <span style=\"background-color: #D6D6FF\">to</span> <span style=\"background-color: #FFF0F0\">learn</span> <span style=\"background-color: #EEEEFF\">role</span> <span style=\"background-color: #FFFCFC\">information</span> <span style=\"background-color: #FFEAEA\">managing</span> <span style=\"background-color: #DEDEFF\">the</span> <span style=\"background-color: #FFFEFE\">east</span> <span style=\"background-color: #FEFEFF\">midlands</span> <span style=\"background-color: #FFF4F4\">region</span> <span style=\"background-color: #FFFCFC\">selling</span> <span style=\"background-color: #FFD6D6\">across</span> <span style=\"background-color: #DEDEFF\">the</span> <span style=\"background-color: #FFF0F0\">company</span> <span style=\"background-color: #FFECEC\">s</span> <span style=\"background-color: #FFF2F2\">range</span> <span style=\"background-color: #D8D8FF\">of</span> <span style=\"background-color: #E2E2FF\">iv</span> <span style=\"background-color: #DADAFF\">and</span> <span style=\"background-color: #F3F3FF\">infusion</span> <span style=\"background-color: #FFF2F2\">solutions</span> <span style=\"background-color: #FFF0F0\">portfolio</span> <span style=\"background-color: #FFFCFC\">selling</span> <span style=\"background-color: #FFF4F4\">into</span> <span style=\"background-color: #FFEAEA\">lead</span> <span style=\"background-color: #FAFAFF\">intensive</span> <span style=\"background-color: #FFEEEE\">care</span> <span style=\"background-color: #FEFEFF\">nurse</span> <span style=\"background-color: #FFF8F8\">specialists</span> <span style=\"background-color: #FCFCFF\">ward</span> <span style=\"background-color: #FAFAFF\">managers</span> <span style=\"background-color: #E2E2FF\">iv</span> <span style=\"background-color: #FFD8D8\">teams</span> <span style=\"background-color: #FCFCFF\">infection</span> <span style=\"background-color: #FFE6E6\">control</span> <span style=\"background-color: #FFD8D8\">teams</span> <span style=\"background-color: #FFFCFC\">procurement</span> <span style=\"background-color: #FFE8E8\">sales</span> <span style=\"background-color: #FFF2F2\">specialist</span> <span style=\"background-color: #E2E2FF\">iv</span> <span style=\"background-color: #F6F6FF\">access</span> <span style=\"background-color: #DADAFF\">and</span> <span style=\"background-color: #F3F3FF\">infusion</span> <span style=\"background-color: #F6F6FF\">candidates</span> <span style=\"background-color: #FFFEFE\">must</span> <span style=\"background-color: #FEFEFF\">be</span> <span style=\"background-color: #FFE8E8\">eligible</span> <span style=\"background-color: #D6D6FF\">to</span> <span style=\"background-color: #FFF0F0\">work</span> <span style=\"background-color: #DADAFF\">and</span> <span style=\"background-color: #FFFEFE\">live</span> <span style=\"background-color: #FFFEFE\">in</span> <span style=\"background-color: #DEDEFF\">the</span> <span style=\"background-color: #DEDEFF\">uk</span> <span style=\"background-color: #FCFCFF\">please</span> <span style=\"background-color: #FFE0E0\">contact</span> <span style=\"background-color: #FAFAFF\">allan</span> <span style=\"background-color: #FFEEEE\">waller</span> <span style=\"background-color: #FFE2E2\">on</span> <span style=\"background-color: #FFEAEA\">or</span> <span style=\"background-color: #FCFCFF\">please</span> <span style=\"background-color: #FFE8E8\">hit</span> <span style=\"background-color: #DEDEFF\">the</span> <span style=\"background-color: #F0F0FF\">apply</span> <span style=\"background-color: #FFFAFA\">button</span> <span style=\"background-color: #EEEEFF\">this</span> <span style=\"background-color: #FFFEFE\">job</span> <span style=\"background-color: #FFE6E6\">was</span> <span style=\"background-color: #FFEEEE\">originally</span> <span style=\"background-color: #ECECFF\">posted</span> <span style=\"background-color: #FFF6F6\">as</span> <span style=\"background-color: #FFE0E0\">www</span> <span style=\"background-color: #FFFAFA\">salestarget</span> <span style=\"background-color: #F6F6FF\">co</span> <span style=\"background-color: #DEDEFF\">uk</span> <span style=\"background-color: #FCFCFF\">jobseeking</span> <span style=\"background-color: #FFFEFE\">UNK</span></p>"
      ]
     },
     "metadata": {},
     "output_type": "display_data"
    }
   ],
   "source": [
    "i = 36605\n",
    "tokens_and_weights = explain(model, data.loc[i:i], \"Title\")\n",
    "draw_html([(tok, weight * 5) for tok, weight in tokens_and_weights], font_style='font-size:20px;');\n",
    "\n",
    "tokens_and_weights = explain(model, data.loc[i:i], \"FullDescription\")\n",
    "draw_html([(tok, weight * 10) for tok, weight in tokens_and_weights]);"
   ]
  },
  {
   "cell_type": "code",
   "execution_count": 43,
   "metadata": {
    "colab": {
     "base_uri": "https://localhost:8080/",
     "height": 285
    },
    "id": "TTZcwuqYuXMb",
    "outputId": "190f6411-2e7f-4293-97b4-0226beb1cb32"
   },
   "outputs": [
    {
     "data": {
      "text/html": [
       "<p style=\"font-size:20px;\"><span style=\"background-color: #2C2CFF\">sales</span> <span style=\"background-color: #FFD2D2\">lead</span> <span style=\"background-color: #FF4949\">generation</span> <span style=\"background-color: #FFCECE\">executive</span></p>"
      ]
     },
     "metadata": {},
     "output_type": "display_data"
    },
    {
     "data": {
      "text/html": [
       "<p style=\"font-size:14px;\"><span style=\"background-color: #FFFCFC\">company</span> <span style=\"background-color: #F6F6FF\">overview</span> <span style=\"background-color: #FFFEFE\">think</span> <span style=\"background-color: #FFF4F4\">methodology</span> <span style=\"background-color: #FEFEFF\">delivers</span> <span style=\"background-color: #F2F2FF\">a</span> <span style=\"background-color: #FFEEEE\">lead</span> <span style=\"background-color: #FFFAFA\">management</span> <span style=\"background-color: #E0E0FF\">and</span> <span style=\"background-color: #FFEEEE\">lead</span> <span style=\"background-color: #FFFCFC\">generation</span> <span style=\"background-color: #FCFCFF\">solution</span> <span style=\"background-color: #FCFCFF\">for</span> <span style=\"background-color: #FFFAFA\">some</span> <span style=\"background-color: #DEDEFF\">of</span> <span style=\"background-color: #E6E6FF\">the</span> <span style=\"background-color: #FFE6E6\">country</span> <span style=\"background-color: #FFF0F0\">s</span> <span style=\"background-color: #F8F8FF\">leading</span> <span style=\"background-color: #F6F6FF\">organisations</span> <span style=\"background-color: #ECECFF\">that</span> <span style=\"background-color: #FFF8F8\">increases</span> <span style=\"background-color: #FFECEC\">sales</span> <span style=\"background-color: #FCFCFF\">performance</span> <span style=\"background-color: #E0E0FF\">and</span> <span style=\"background-color: #FFF4F4\">uses</span> <span style=\"background-color: #FFECEC\">datadriven</span> <span style=\"background-color: #FFCCCC\">intervention</span> <span style=\"background-color: #FFE4E4\">strategies</span> <span style=\"background-color: #DEDEFF\">to</span> <span style=\"background-color: #FFFEFE\">acquire</span> <span style=\"background-color: #F6F6FF\">retain</span> <span style=\"background-color: #E0E0FF\">and</span> <span style=\"background-color: #FFE8E8\">reactivate</span> <span style=\"background-color: #FFF2F2\">customers</span> <span style=\"background-color: #F2F2FF\">we</span> <span style=\"background-color: #FFEAEA\">deploy</span> <span style=\"background-color: #FEFEFF\">multichannel</span> <span style=\"background-color: #FFF6F6\">communications</span> <span style=\"background-color: #FFF6F6\">including</span> <span style=\"background-color: #FFFAFA\">email</span> <span style=\"background-color: #FCFCFF\">direct</span> <span style=\"background-color: #FFF2F2\">mail</span> <span style=\"background-color: #FFDADA\">sms</span> <span style=\"background-color: #E0E0FF\">and</span> <span style=\"background-color: #FFEEEE\">online</span> <span style=\"background-color: #FFF8F8\">marketing</span> <span style=\"background-color: #FFE2E2\">campaigns</span> <span style=\"background-color: #DEDEFF\">to</span> <span style=\"background-color: #F3F3FF\">drive</span> <span style=\"background-color: #FAFAFF\">high</span> <span style=\"background-color: #FFFCFC\">value</span> <span style=\"background-color: #FFECEC\">sales</span> <span style=\"background-color: #FFF2F2\">opportunities</span> <span style=\"background-color: #ECECFF\">that</span> <span style=\"background-color: #F0F0FF\">have</span> <span style=\"background-color: #E6E6FF\">the</span> <span style=\"background-color: #F3F3FF\">highest</span> <span style=\"background-color: #FCFCFF\">propensity</span> <span style=\"background-color: #DEDEFF\">to</span> <span style=\"background-color: #FFF6F6\">convert</span> <span style=\"background-color: #F2F2FF\">role</span> <span style=\"background-color: #FFEEEE\">lead</span> <span style=\"background-color: #FFFCFC\">generation</span> <span style=\"background-color: #F6F6FF\">executive</span> <span style=\"background-color: #FFD3D3\">channel</span> <span style=\"background-color: #FFE8E8\">manager</span> <span style=\"background-color: #FFFEFE\">job</span> <span style=\"background-color: #FFFAFA\">purpose</span> <span style=\"background-color: #DEDEFF\">to</span> <span style=\"background-color: #FCFCFF\">develop</span> <span style=\"background-color: #F8F8FF\">relationships</span> <span style=\"background-color: #E0E0FF\">with</span> <span style=\"background-color: #FFEAEA\">our</span> <span style=\"background-color: #FFF2F2\">clients</span> <span style=\"background-color: #EEEEFF\">prospect</span> <span style=\"background-color: #FEFEFF\">base</span> <span style=\"background-color: #FFE0E0\">ultimately</span> <span style=\"background-color: #FFFCFC\">delivering</span> <span style=\"background-color: #FAFAFF\">high</span> <span style=\"background-color: #FCFCFF\">quality</span> <span style=\"background-color: #FFECEC\">sales</span> <span style=\"background-color: #FFF2F2\">opportunities</span> <span style=\"background-color: #FFF8F8\">duties</span> <span style=\"background-color: #FFF6F6\">making</span> <span style=\"background-color: #FFDEDE\">outbound</span> <span style=\"background-color: #FFF4F4\">telephone</span> <span style=\"background-color: #FFFEFE\">calls</span> <span style=\"background-color: #FFE6E6\">on</span> <span style=\"background-color: #FFD6D6\">behalf</span> <span style=\"background-color: #DEDEFF\">of</span> <span style=\"background-color: #E6E6FF\">the</span> <span style=\"background-color: #FFE0E0\">client</span> <span style=\"background-color: #FEFEFF\">supported</span> <span style=\"background-color: #F0F0FF\">by</span> <span style=\"background-color: #FFFAFA\">email</span> <span style=\"background-color: #E0E0FF\">and</span> <span style=\"background-color: #FCFCFF\">direct</span> <span style=\"background-color: #FFF2F2\">mail</span> <span style=\"background-color: #FFE2E2\">campaigns</span> <span style=\"background-color: #FFFAFA\">produced</span> <span style=\"background-color: #F0F0FF\">by</span> <span style=\"background-color: #FFEAEA\">our</span> <span style=\"background-color: #FAFAFF\">inhouse</span> <span style=\"background-color: #FFFCFC\">creative</span> <span style=\"background-color: #EEEEFF\">team</span> <span style=\"background-color: #DEDEFF\">to</span> <span style=\"background-color: #FFE4E4\">generate</span> <span style=\"background-color: #FFFCFC\">appointments</span> <span style=\"background-color: #FFF8F8\">leads</span> <span style=\"background-color: #FFEEEE\">or</span> <span style=\"background-color: #FAFAFF\">attendees</span> <span style=\"background-color: #FFEEEE\">or</span> <span style=\"background-color: #DEDEFF\">to</span> <span style=\"background-color: #FFFAFA\">cleanse</span> <span style=\"background-color: #FFE8E8\">data</span> <span style=\"background-color: #FFF4F4\">records</span> <span style=\"background-color: #FFF8F8\">working</span> <span style=\"background-color: #E0E0FF\">with</span> <span style=\"background-color: #EEEEFF\">team</span> <span style=\"background-color: #FFFCFC\">leader</span> <span style=\"background-color: #DEDEFF\">to</span> <span style=\"background-color: #FCFCFF\">promote</span> <span style=\"background-color: #FFE8E8\">brand</span> <span style=\"background-color: #FFFAFA\">awareness</span> <span style=\"background-color: #FFEEEE\">so</span> <span style=\"background-color: #ECECFF\">that</span> <span style=\"background-color: #FFFAFA\">every</span> <span style=\"background-color: #FEFEFF\">opportunity</span> <span style=\"background-color: #DEDEFF\">to</span> <span style=\"background-color: #FFF8F8\">meet</span> <span style=\"background-color: #E6E6FF\">the</span> <span style=\"background-color: #FFE0E0\">client</span> <span style=\"background-color: #FFFCFC\">needs</span> <span style=\"background-color: #FEFEFF\">is</span> <span style=\"background-color: #FEFEFF\">taken</span> <span style=\"background-color: #FFFCFC\">keep</span> <span style=\"background-color: #FFF0F0\">abreast</span> <span style=\"background-color: #DEDEFF\">of</span> <span style=\"background-color: #E6E6FF\">the</span> <span style=\"background-color: #E3E3FF\">latest</span> <span style=\"background-color: #FFE0E0\">market</span> <span style=\"background-color: #FFFCFC\">information</span> <span style=\"background-color: #FFEEEE\">so</span> <span style=\"background-color: #ECECFF\">that</span> <span style=\"background-color: #F0F0FF\">you</span> <span style=\"background-color: #FFF0F0\">can</span> <span style=\"background-color: #FCFCFF\">promote</span> <span style=\"background-color: #E6E6FF\">the</span> <span style=\"background-color: #FFE8E8\">brand</span> <span style=\"background-color: #FFFEFE\">in</span> <span style=\"background-color: #E6E6FF\">the</span> <span style=\"background-color: #FFF8F8\">most</span> <span style=\"background-color: #EEEEFF\">accurate</span> <span style=\"background-color: #FAFAFF\">way</span> <span style=\"background-color: #FFF2F2\">ability</span> <span style=\"background-color: #DEDEFF\">to</span> <span style=\"background-color: #FFD6D6\">speak</span> <span style=\"background-color: #F6F6FF\">confidently</span> <span style=\"background-color: #E0E0FF\">and</span> <span style=\"background-color: #FFECEC\">accurately</span> <span style=\"background-color: #DEDEFF\">to</span> <span style=\"background-color: #F2F2FF\">a</span> <span style=\"background-color: #FFF8F8\">varying</span> <span style=\"background-color: #FFECEC\">degree</span> <span style=\"background-color: #DEDEFF\">of</span> <span style=\"background-color: #EEEEFF\">decision</span> <span style=\"background-color: #FFF2F2\">maker</span> <span style=\"background-color: #FFECEC\">accurately</span> <span style=\"background-color: #FFFAFA\">take</span> <span style=\"background-color: #FFE6E6\">down</span> <span style=\"background-color: #E0E0FF\">and</span> <span style=\"background-color: #FFE2E2\">pass</span> <span style=\"background-color: #FFE6E6\">on</span> <span style=\"background-color: #FCFCFF\">details</span> <span style=\"background-color: #DEDEFF\">of</span> <span style=\"background-color: #EEEEFF\">prospect</span> <span style=\"background-color: #FFF2F2\">customers</span> <span style=\"background-color: #DEDEFF\">to</span> <span style=\"background-color: #E6E6FF\">the</span> <span style=\"background-color: #FFDADA\">telemarketing</span> <span style=\"background-color: #EEEEFF\">team</span> <span style=\"background-color: #FFFCFC\">leader</span> <span style=\"background-color: #FCFCFF\">account</span> <span style=\"background-color: #FFE8E8\">manager</span> <span style=\"background-color: #DEDEFF\">to</span> <span style=\"background-color: #FEFEFF\">be</span> <span style=\"background-color: #F8F8FF\">sent</span> <span style=\"background-color: #F3F3FF\">through</span> <span style=\"background-color: #DEDEFF\">to</span> <span style=\"background-color: #E6E6FF\">the</span> <span style=\"background-color: #FFE0E0\">client</span> <span style=\"background-color: #FFFCFC\">keep</span> <span style=\"background-color: #F2F2FF\">a</span> <span style=\"background-color: #FCFCFF\">cleansed</span> <span style=\"background-color: #FFF4F4\">manageable</span> <span style=\"background-color: #E0E0FF\">and</span> <span style=\"background-color: #ECECFF\">up</span> <span style=\"background-color: #DEDEFF\">to</span> <span style=\"background-color: #FFFCFC\">date</span> <span style=\"background-color: #FFF2F2\">database</span> <span style=\"background-color: #FFEAEA\">effectively</span> <span style=\"background-color: #E0E0FF\">and</span> <span style=\"background-color: #FFF2F2\">efficiently</span> <span style=\"background-color: #FFECEC\">complete</span> <span style=\"background-color: #FFF4F4\">work</span> <span style=\"background-color: #FFECEC\">allocated</span> <span style=\"background-color: #F0F0FF\">by</span> <span style=\"background-color: #EEEEFF\">team</span> <span style=\"background-color: #FFFCFC\">leader</span> <span style=\"background-color: #FFF2F2\">build</span> <span style=\"background-color: #FFEAEA\">good</span> <span style=\"background-color: #F8F8FF\">relationships</span> <span style=\"background-color: #E0E0FF\">with</span> <span style=\"background-color: #FFF2F2\">clients</span> <span style=\"background-color: #FFECEC\">sales</span> <span style=\"background-color: #FAFAFF\">representatives</span> <span style=\"background-color: #E0E0FF\">and</span> <span style=\"background-color: #FFF2F2\">efficiently</span> <span style=\"background-color: #E0E0FF\">and</span> <span style=\"background-color: #FFEAEA\">effectively</span> <span style=\"background-color: #FEFEFF\">manage</span> <span style=\"background-color: #F2F2FF\">their</span> <span style=\"background-color: #FFFCFC\">time</span> <span style=\"background-color: #F8F8FF\">maintains</span> <span style=\"background-color: #F8F8FF\">relationships</span> <span style=\"background-color: #E0E0FF\">with</span> <span style=\"background-color: #FFF2F2\">clients</span> <span style=\"background-color: #F0F0FF\">by</span> <span style=\"background-color: #FFDCDC\">providing</span> <span style=\"background-color: #FFEEEE\">support</span> <span style=\"background-color: #FFFCFC\">information</span> <span style=\"background-color: #E0E0FF\">and</span> <span style=\"background-color: #FFE2E2\">guidance</span> <span style=\"background-color: #F2F2FF\">researching</span> <span style=\"background-color: #E0E0FF\">and</span> <span style=\"background-color: #F6F6FF\">recommending</span> <span style=\"background-color: #FFFCFC\">new</span> <span style=\"background-color: #FFF2F2\">opportunities</span> <span style=\"background-color: #F6F6FF\">recommending</span> <span style=\"background-color: #FFECEC\">profit</span> <span style=\"background-color: #E0E0FF\">and</span> <span style=\"background-color: #FFEAEA\">service</span> <span style=\"background-color: #FFF6F6\">improvements</span> <span style=\"background-color: #FFF4F4\">prepares</span> <span style=\"background-color: #FFE0E0\">reports</span> <span style=\"background-color: #F0F0FF\">by</span> <span style=\"background-color: #FFFEFE\">collecting</span> <span style=\"background-color: #FFF8F8\">analysing</span> <span style=\"background-color: #E0E0FF\">and</span> <span style=\"background-color: #F6F6FF\">summarising</span> <span style=\"background-color: #FFFCFC\">information</span> <span style=\"background-color: #FFFCFC\">deal</span> <span style=\"background-color: #E0E0FF\">with</span> <span style=\"background-color: #F3F3FF\">inbound</span> <span style=\"background-color: #EEEEFF\">prospect</span> <span style=\"background-color: #FFF0F0\">customer</span> <span style=\"background-color: #FEFEFF\">queries</span> <span style=\"background-color: #E0E0FF\">and</span> <span style=\"background-color: #FFEEEE\">if</span> <span style=\"background-color: #FFFAFA\">appropriate</span> <span style=\"background-color: #FFF2F2\">resolve</span> <span style=\"background-color: #EEEEFF\">prospect</span> <span style=\"background-color: #FFF0F0\">customer</span> <span style=\"background-color: #FFF8F8\">complaints</span> <span style=\"background-color: #FFFCFC\">ensure</span> <span style=\"background-color: #E6E6FF\">the</span> <span style=\"background-color: #FFFAFA\">timely</span> <span style=\"background-color: #FFFEFE\">escalation</span> <span style=\"background-color: #DEDEFF\">of</span> <span style=\"background-color: #FFF0F0\">issues</span> <span style=\"background-color: #DEDEFF\">to</span> <span style=\"background-color: #E6E6FF\">the</span> <span style=\"background-color: #EEEEFF\">team</span> <span style=\"background-color: #FFFCFC\">leader</span> <span style=\"background-color: #FFF8F8\">as</span> <span style=\"background-color: #FFFAFA\">appropriate</span> <span style=\"background-color: #FAFAFF\">proactively</span> <span style=\"background-color: #FFFEFE\">pursue</span> <span style=\"background-color: #FFFCFC\">selfdevelopment</span> <span style=\"background-color: #FFF2F2\">opportunities</span> <span style=\"background-color: #FEFEFF\">within</span> <span style=\"background-color: #E6E6FF\">the</span> <span style=\"background-color: #F2F2FF\">agency</span> <span style=\"background-color: #FFEAEA\">contributes</span> <span style=\"background-color: #DEDEFF\">to</span> <span style=\"background-color: #EEEEFF\">team</span> <span style=\"background-color: #FFE8E8\">effort</span> <span style=\"background-color: #F0F0FF\">by</span> <span style=\"background-color: #FEFEFF\">accomplishing</span> <span style=\"background-color: #FFFEFE\">related</span> <span style=\"background-color: #FFFCFC\">results</span> <span style=\"background-color: #FFF8F8\">as</span> <span style=\"background-color: #FFE4E4\">needed</span> <span style=\"background-color: #FFECEC\">assume</span> <span style=\"background-color: #FFF8F8\">joint</span> <span style=\"background-color: #FAFAFF\">responsibility</span> <span style=\"background-color: #FCFCFF\">for</span> <span style=\"background-color: #FFE6E6\">regularly</span> <span style=\"background-color: #FFF6F6\">reviewing</span> <span style=\"background-color: #FCFCFF\">performance</span> <span style=\"background-color: #E0E0FF\">and</span> <span style=\"background-color: #E8E8FF\">personal</span> <span style=\"background-color: #F6F6FF\">development</span> <span style=\"background-color: #FFFEFE\">discuss</span> <span style=\"background-color: #F8F8FF\">career</span> <span style=\"background-color: #FFF6F6\">aspirations</span> <span style=\"background-color: #E0E0FF\">and</span> <span style=\"background-color: #FCFCFF\">agree</span> <span style=\"background-color: #E8E8FF\">personal</span> <span style=\"background-color: #F6F6FF\">development</span> <span style=\"background-color: #FFF2F2\">plan</span> <span style=\"background-color: #E0E0FF\">with</span> <span style=\"background-color: #EEEEFF\">team</span> <span style=\"background-color: #FFFCFC\">leader</span> <span style=\"background-color: #FFFEFE\">in</span> <span style=\"background-color: #FFF4F4\">addition</span> <span style=\"background-color: #DEDEFF\">to</span> <span style=\"background-color: #E6E6FF\">the</span> <span style=\"background-color: #FFF8F8\">duties</span> <span style=\"background-color: #E0E0FF\">and</span> <span style=\"background-color: #FFF4F4\">responsibilities</span> <span style=\"background-color: #FFF2F2\">listed</span> <span style=\"background-color: #E6E6FF\">the</span> <span style=\"background-color: #FFFEFE\">job</span> <span style=\"background-color: #FEFEFF\">holder</span> <span style=\"background-color: #FEFEFF\">is</span> <span style=\"background-color: #FFF0F0\">required</span> <span style=\"background-color: #DEDEFF\">to</span> <span style=\"background-color: #FFE0E0\">perform</span> <span style=\"background-color: #FFE2E2\">other</span> <span style=\"background-color: #FFF8F8\">duties</span> <span style=\"background-color: #FFF8F8\">as</span> <span style=\"background-color: #ECECFF\">assigned</span> <span style=\"background-color: #F0F0FF\">by</span> <span style=\"background-color: #F2F2FF\">their</span> <span style=\"background-color: #FFE8E8\">manager</span> <span style=\"background-color: #FFECEC\">from</span> <span style=\"background-color: #FFFCFC\">time</span> <span style=\"background-color: #DEDEFF\">to</span> <span style=\"background-color: #FFFCFC\">time</span> <span style=\"background-color: #F0F0FF\">skills</span> <span style=\"background-color: #FFFCFC\">qualifications</span> <span style=\"background-color: #FFF8F8\">presentation</span> <span style=\"background-color: #F0F0FF\">skills</span> <span style=\"background-color: #FFE0E0\">client</span> <span style=\"background-color: #F8F8FF\">relationships</span> <span style=\"background-color: #FFF2F2\">emphasising</span> <span style=\"background-color: #FFE8E8\">excellence</span> <span style=\"background-color: #FFF4F4\">negotiation</span> <span style=\"background-color: #FFF2F2\">prospecting</span> <span style=\"background-color: #F0F0FF\">skills</span> <span style=\"background-color: #FFFAFA\">meeting</span> <span style=\"background-color: #FFECEC\">sales</span> <span style=\"background-color: #FFF0F0\">goals</span> <span style=\"background-color: #FFF0F0\">creativity</span> <span style=\"background-color: #FFECEC\">sales</span> <span style=\"background-color: #FFF2F2\">planning</span> <span style=\"background-color: #FFF4F4\">independence</span> <span style=\"background-color: #FFDCDC\">motivation</span> <span style=\"background-color: #FFFEFE\">for</span> <span style=\"background-color: #FFF4F4\">sales</span></p>"
      ]
     },
     "metadata": {},
     "output_type": "display_data"
    }
   ],
   "source": [
    "i = 12010\n",
    "tokens_and_weights = explain(model, data.loc[i:i], \"Title\")\n",
    "draw_html([(tok, weight * 5) for tok, weight in tokens_and_weights], font_style='font-size:20px;');\n",
    "\n",
    "tokens_and_weights = explain(model, data.loc[i:i], \"FullDescription\")\n",
    "draw_html([(tok, weight * 10) for tok, weight in tokens_and_weights]);"
   ]
  },
  {
   "cell_type": "code",
   "execution_count": 44,
   "metadata": {
    "colab": {
     "base_uri": "https://localhost:8080/",
     "height": 236
    },
    "id": "rhspbASduXMb",
    "outputId": "58d42183-3e46-42c5-f883-df20d6537f61"
   },
   "outputs": [
    {
     "name": "stdout",
     "output_type": "stream",
     "text": [
      "Index: 103610\n",
      "Salary (gbp): tensor(13913.7500)\n"
     ]
    },
    {
     "data": {
      "text/html": [
       "<p style=\"font-size:20px;\"><span style=\"background-color: #FFE6E6\">tool</span> <span style=\"background-color: #FFE4E4\">setter</span> <span style=\"background-color: #FF0404\">injection</span> <span style=\"background-color: #FFC3C3\">moulding</span></p>"
      ]
     },
     "metadata": {},
     "output_type": "display_data"
    },
    {
     "data": {
      "text/html": [
       "<p style=\"font-size:14px;\"><span style=\"background-color: #E8E8FF\">you</span> <span style=\"background-color: #FFFEFE\">must</span> <span style=\"background-color: #C6C6FF\">have</span> <span style=\"background-color: #FFB8B8\">worked</span> <span style=\"background-color: #FFFCFC\">in</span> <span style=\"background-color: #CECEFF\">this</span> <span style=\"background-color: #CECEFF\">role</span> <span style=\"background-color: #F8F8FF\">for</span> <span style=\"background-color: #FFC3C3\">2</span> <span style=\"background-color: #ACACFF\">years</span> <span style=\"background-color: #FFC2C2\">or</span> <span style=\"background-color: #FFACAC\">more</span> <span style=\"background-color: #C8C8FF\">you</span> <span style=\"background-color: #FFDEDE\">will</span> <span style=\"background-color: #C6C6FF\">have</span> <span style=\"background-color: #D0D0FF\">a</span> <span style=\"background-color: #FFC8C8\">full</span> <span style=\"background-color: #FFF2F2\">driving</span> <span style=\"background-color: #E3E3FF\">license</span> <span style=\"background-color: #9696FF\">and</span> <span style=\"background-color: #FFA3A3\">ideally</span> <span style=\"background-color: #D0D0FF\">a</span> <span style=\"background-color: #FFC2C2\">forklift</span> <span style=\"background-color: #F8F8FF\">truck</span> <span style=\"background-color: #E3E3FF\">license</span> <span style=\"background-color: #FFE4E4\">as</span> <span style=\"background-color: #FFCCCC\">well</span> <span style=\"background-color: #FFE4E4\">as</span> <span style=\"background-color: #A2A2FF\">the</span> <span style=\"background-color: #FFCECE\">ability</span> <span style=\"background-color: #8A8AFF\">to</span> <span style=\"background-color: #FFE4E4\">use</span> <span style=\"background-color: #FF9393\">power</span> <span style=\"background-color: #9696FF\">and</span> <span style=\"background-color: #FFA8A8\">hand</span> <span style=\"background-color: #BEBEFF\">tools</span> <span style=\"background-color: #C8C8FF\">you</span> <span style=\"background-color: #FFDEDE\">will</span> <span style=\"background-color: #FAFAFF\">be</span> <span style=\"background-color: #FFDEDE\">familiar</span> <span style=\"background-color: #9393FF\">with</span> <span style=\"background-color: #DADAFF\">basic</span> <span style=\"background-color: #F0F0FF\">quality</span> <span style=\"background-color: #FFB8B8\">control</span> <span style=\"background-color: #FFF4F4\">principles</span> <span style=\"background-color: #FFC3C3\">s</span> <span style=\"background-color: #FFD0D0\">kaizen</span> <span style=\"background-color: #FF9393\">techniques</span> <span style=\"background-color: #9696FF\">and</span> <span style=\"background-color: #FFDEDE\">will</span> <span style=\"background-color: #FAFAFF\">be</span> <span style=\"background-color: #D0D0FF\">a</span> <span style=\"background-color: #FFD0D0\">clear</span> <span style=\"background-color: #FFB3B3\">communicator</span> <span style=\"background-color: #C8C8FF\">you</span> <span style=\"background-color: #FFDEDE\">will</span> <span style=\"background-color: #FAFAFF\">be</span> <span style=\"background-color: #FFC8C8\">able</span> <span style=\"background-color: #8A8AFF\">to</span> <span style=\"background-color: #FFD6D6\">change</span> <span style=\"background-color: #D0D0FF\">a</span> <span style=\"background-color: #FFB8B8\">moulding</span> <span style=\"background-color: #E6E6FF\">tool</span> <span style=\"background-color: #9696FF\">and</span> <span style=\"background-color: #FAFAFF\">be</span> <span style=\"background-color: #FFC8C8\">able</span> <span style=\"background-color: #8A8AFF\">to</span> <span style=\"background-color: #F8F8FF\">adjust</span> <span style=\"background-color: #FFFEFE\">injection</span> <span style=\"background-color: #FFB8B8\">moulding</span> <span style=\"background-color: #FFECEC\">machines</span> <span style=\"background-color: #D0D0FF\">a</span> <span style=\"background-color: #FFE4E4\">rare</span> <span style=\"background-color: #FCFCFF\">opportunity</span> <span style=\"background-color: #8A8AFF\">to</span> <span style=\"background-color: #FFD3D3\">work</span> <span style=\"background-color: #FEFEFF\">within</span> <span style=\"background-color: #D0D0FF\">a</span> <span style=\"background-color: #B8B8FF\">closeknit</span> <span style=\"background-color: #C0C0FF\">team</span> <span style=\"background-color: #9393FF\">with</span> <span style=\"background-color: #FFCECE\">great</span> <span style=\"background-color: #FFC3C3\">morale</span> <span style=\"background-color: #FFA8A8\">on</span> <span style=\"background-color: #A2A2FF\">the</span> <span style=\"background-color: #FFEEEE\">shop</span> <span style=\"background-color: #FFE6E6\">floor</span> <span style=\"background-color: #FFB0B0\">shift</span> <span style=\"background-color: #ECECFF\">patterns</span> <span style=\"background-color: #D2D2FF\">apply</span> <span style=\"background-color: #9696FF\">and</span> <span style=\"background-color: #AAAAFF\">salary</span> <span style=\"background-color: #FAFAFF\">is</span> <span style=\"background-color: #FFEAEA\">negotiable</span> <span style=\"background-color: #FFF4F4\">depending</span> <span style=\"background-color: #FFA8A8\">on</span> <span style=\"background-color: #FFD6D6\">experience</span> <span style=\"background-color: #D8D8FF\">apply</span> <span style=\"background-color: #FFFCFC\">today</span></p>"
      ]
     },
     "metadata": {},
     "output_type": "display_data"
    }
   ],
   "source": [
    "i = np.random.randint(len(data))\n",
    "print(\"Index:\", i)\n",
    "with torch.no_grad():\n",
    "    print(\"Salary (gbp):\", np.expm1(model(make_batch(data.iloc[i: i+1], device=device)).cpu()))\n",
    "\n",
    "tokens_and_weights = explain(model, data.loc[i:i], \"Title\")\n",
    "draw_html([(tok, weight * 5) for tok, weight in tokens_and_weights], font_style='font-size:20px;');\n",
    "\n",
    "tokens_and_weights = explain(model, data.loc[i:i], \"FullDescription\")\n",
    "draw_html([(tok, weight * 10) for tok, weight in tokens_and_weights]);"
   ]
  },
  {
   "cell_type": "code",
   "execution_count": 46,
   "metadata": {},
   "outputs": [
    {
     "data": {
      "text/plain": [
       "SalaryPredictor(\n",
       "  (embeding): Embedding(33816, 64)\n",
       "  (title_conv): Conv1d(64, 64, kernel_size=(3,), stride=(1,))\n",
       "  (descr_conv): Conv1d(64, 64, kernel_size=(3,), stride=(1,))\n",
       "  (cat_fc): Linear(in_features=3768, out_features=64, bias=True)\n",
       "  (out_fc): Linear(in_features=192, out_features=1, bias=True)\n",
       ")"
      ]
     },
     "execution_count": 46,
     "metadata": {},
     "output_type": "execute_result"
    }
   ],
   "source": [
    "model"
   ]
  },
  {
   "cell_type": "code",
   "execution_count": 48,
   "metadata": {},
   "outputs": [
    {
     "data": {
      "text/plain": [
       "torch.Size([1, 192])"
      ]
     },
     "execution_count": 48,
     "metadata": {},
     "output_type": "execute_result"
    }
   ],
   "source": [
    "model.out_fc.weight.data.cpu().shape"
   ]
  },
  {
   "cell_type": "code",
   "execution_count": null,
   "metadata": {},
   "outputs": [],
   "source": []
  }
 ],
 "metadata": {
  "colab": {
   "gpuType": "T4",
   "provenance": []
  },
  "kernelspec": {
   "display_name": "Python 3 (ipykernel)",
   "language": "python",
   "name": "python3"
  },
  "language_info": {
   "codemirror_mode": {
    "name": "ipython",
    "version": 3
   },
   "file_extension": ".py",
   "mimetype": "text/x-python",
   "name": "python",
   "nbconvert_exporter": "python",
   "pygments_lexer": "ipython3",
   "version": "3.11.7"
  },
  "widgets": {
   "application/vnd.jupyter.widget-state+json": {
    "095c00c08f6d4d638ff986b700c9db2e": {
     "model_module": "@jupyter-widgets/controls",
     "model_module_version": "1.5.0",
     "model_name": "DescriptionStyleModel",
     "state": {
      "_model_module": "@jupyter-widgets/controls",
      "_model_module_version": "1.5.0",
      "_model_name": "DescriptionStyleModel",
      "_view_count": null,
      "_view_module": "@jupyter-widgets/base",
      "_view_module_version": "1.2.0",
      "_view_name": "StyleView",
      "description_width": ""
     }
    },
    "09b33174cc1545c58b4e1fdbcb61fc97": {
     "model_module": "@jupyter-widgets/controls",
     "model_module_version": "1.5.0",
     "model_name": "FloatProgressModel",
     "state": {
      "_dom_classes": [],
      "_model_module": "@jupyter-widgets/controls",
      "_model_module_version": "1.5.0",
      "_model_name": "FloatProgressModel",
      "_view_count": null,
      "_view_module": "@jupyter-widgets/controls",
      "_view_module_version": "1.5.0",
      "_view_name": "ProgressView",
      "bar_style": "success",
      "description": "",
      "description_tooltip": null,
      "layout": "IPY_MODEL_38952edf953849c6b0d9079e85dfbfa1",
      "max": 12238,
      "min": 0,
      "orientation": "horizontal",
      "style": "IPY_MODEL_871194afc27d4f9bbbe43858d7d788e4",
      "value": 12238
     }
    },
    "0a231bc0f5744d799ec2eb21538c7475": {
     "model_module": "@jupyter-widgets/controls",
     "model_module_version": "1.5.0",
     "model_name": "DescriptionStyleModel",
     "state": {
      "_model_module": "@jupyter-widgets/controls",
      "_model_module_version": "1.5.0",
      "_model_name": "DescriptionStyleModel",
      "_view_count": null,
      "_view_module": "@jupyter-widgets/base",
      "_view_module_version": "1.2.0",
      "_view_name": "StyleView",
      "description_width": ""
     }
    },
    "0cb4bd6bbe944ae88eff9733f2796699": {
     "model_module": "@jupyter-widgets/controls",
     "model_module_version": "1.5.0",
     "model_name": "HBoxModel",
     "state": {
      "_dom_classes": [],
      "_model_module": "@jupyter-widgets/controls",
      "_model_module_version": "1.5.0",
      "_model_name": "HBoxModel",
      "_view_count": null,
      "_view_module": "@jupyter-widgets/controls",
      "_view_module_version": "1.5.0",
      "_view_name": "HBoxView",
      "box_style": "",
      "children": [
       "IPY_MODEL_b00a4f5e8c7c4ea3829443e7ceee79fc",
       "IPY_MODEL_d6bc359288c1481abba36661bce52892",
       "IPY_MODEL_b26e8403ae9c43fa9a847fa9ab67f53b"
      ],
      "layout": "IPY_MODEL_1fbc9abf60ef4ef59e9795486618f2c7"
     }
    },
    "1fbc9abf60ef4ef59e9795486618f2c7": {
     "model_module": "@jupyter-widgets/base",
     "model_module_version": "1.2.0",
     "model_name": "LayoutModel",
     "state": {
      "_model_module": "@jupyter-widgets/base",
      "_model_module_version": "1.2.0",
      "_model_name": "LayoutModel",
      "_view_count": null,
      "_view_module": "@jupyter-widgets/base",
      "_view_module_version": "1.2.0",
      "_view_name": "LayoutView",
      "align_content": null,
      "align_items": null,
      "align_self": null,
      "border": null,
      "bottom": null,
      "display": null,
      "flex": null,
      "flex_flow": null,
      "grid_area": null,
      "grid_auto_columns": null,
      "grid_auto_flow": null,
      "grid_auto_rows": null,
      "grid_column": null,
      "grid_gap": null,
      "grid_row": null,
      "grid_template_areas": null,
      "grid_template_columns": null,
      "grid_template_rows": null,
      "height": null,
      "justify_content": null,
      "justify_items": null,
      "left": null,
      "margin": null,
      "max_height": null,
      "max_width": null,
      "min_height": null,
      "min_width": null,
      "object_fit": null,
      "object_position": null,
      "order": null,
      "overflow": null,
      "overflow_x": null,
      "overflow_y": null,
      "padding": null,
      "right": null,
      "top": null,
      "visibility": null,
      "width": null
     }
    },
    "22f29830dd5b49d7bd369b0452ea2138": {
     "model_module": "@jupyter-widgets/controls",
     "model_module_version": "1.5.0",
     "model_name": "HTMLModel",
     "state": {
      "_dom_classes": [],
      "_model_module": "@jupyter-widgets/controls",
      "_model_module_version": "1.5.0",
      "_model_name": "HTMLModel",
      "_view_count": null,
      "_view_module": "@jupyter-widgets/controls",
      "_view_module_version": "1.5.0",
      "_view_name": "HTMLView",
      "description": "",
      "description_tooltip": null,
      "layout": "IPY_MODEL_bd7d60c60eb14db39e4e82b2d309cb72",
      "placeholder": "​",
      "style": "IPY_MODEL_a7fb909097af4a8eb7ded942c3b0f688",
      "value": " 12239/? [01:41&lt;00:00, 106.82it/s]"
     }
    },
    "38952edf953849c6b0d9079e85dfbfa1": {
     "model_module": "@jupyter-widgets/base",
     "model_module_version": "1.2.0",
     "model_name": "LayoutModel",
     "state": {
      "_model_module": "@jupyter-widgets/base",
      "_model_module_version": "1.2.0",
      "_model_name": "LayoutModel",
      "_view_count": null,
      "_view_module": "@jupyter-widgets/base",
      "_view_module_version": "1.2.0",
      "_view_name": "LayoutView",
      "align_content": null,
      "align_items": null,
      "align_self": null,
      "border": null,
      "bottom": null,
      "display": null,
      "flex": null,
      "flex_flow": null,
      "grid_area": null,
      "grid_auto_columns": null,
      "grid_auto_flow": null,
      "grid_auto_rows": null,
      "grid_column": null,
      "grid_gap": null,
      "grid_row": null,
      "grid_template_areas": null,
      "grid_template_columns": null,
      "grid_template_rows": null,
      "height": null,
      "justify_content": null,
      "justify_items": null,
      "left": null,
      "margin": null,
      "max_height": null,
      "max_width": null,
      "min_height": null,
      "min_width": null,
      "object_fit": null,
      "object_position": null,
      "order": null,
      "overflow": null,
      "overflow_x": null,
      "overflow_y": null,
      "padding": null,
      "right": null,
      "top": null,
      "visibility": null,
      "width": null
     }
    },
    "38b2791ac6e74ec28d5b497ed464b1e7": {
     "model_module": "@jupyter-widgets/base",
     "model_module_version": "1.2.0",
     "model_name": "LayoutModel",
     "state": {
      "_model_module": "@jupyter-widgets/base",
      "_model_module_version": "1.2.0",
      "_model_name": "LayoutModel",
      "_view_count": null,
      "_view_module": "@jupyter-widgets/base",
      "_view_module_version": "1.2.0",
      "_view_name": "LayoutView",
      "align_content": null,
      "align_items": null,
      "align_self": null,
      "border": null,
      "bottom": null,
      "display": null,
      "flex": null,
      "flex_flow": null,
      "grid_area": null,
      "grid_auto_columns": null,
      "grid_auto_flow": null,
      "grid_auto_rows": null,
      "grid_column": null,
      "grid_gap": null,
      "grid_row": null,
      "grid_template_areas": null,
      "grid_template_columns": null,
      "grid_template_rows": null,
      "height": null,
      "justify_content": null,
      "justify_items": null,
      "left": null,
      "margin": null,
      "max_height": null,
      "max_width": null,
      "min_height": null,
      "min_width": null,
      "object_fit": null,
      "object_position": null,
      "order": null,
      "overflow": null,
      "overflow_x": null,
      "overflow_y": null,
      "padding": null,
      "right": null,
      "top": null,
      "visibility": null,
      "width": null
     }
    },
    "3bc5440ffea940bc879895e3975ffd27": {
     "model_module": "@jupyter-widgets/base",
     "model_module_version": "1.2.0",
     "model_name": "LayoutModel",
     "state": {
      "_model_module": "@jupyter-widgets/base",
      "_model_module_version": "1.2.0",
      "_model_name": "LayoutModel",
      "_view_count": null,
      "_view_module": "@jupyter-widgets/base",
      "_view_module_version": "1.2.0",
      "_view_name": "LayoutView",
      "align_content": null,
      "align_items": null,
      "align_self": null,
      "border": null,
      "bottom": null,
      "display": null,
      "flex": null,
      "flex_flow": null,
      "grid_area": null,
      "grid_auto_columns": null,
      "grid_auto_flow": null,
      "grid_auto_rows": null,
      "grid_column": null,
      "grid_gap": null,
      "grid_row": null,
      "grid_template_areas": null,
      "grid_template_columns": null,
      "grid_template_rows": null,
      "height": null,
      "justify_content": null,
      "justify_items": null,
      "left": null,
      "margin": null,
      "max_height": null,
      "max_width": null,
      "min_height": null,
      "min_width": null,
      "object_fit": null,
      "object_position": null,
      "order": null,
      "overflow": null,
      "overflow_x": null,
      "overflow_y": null,
      "padding": null,
      "right": null,
      "top": null,
      "visibility": null,
      "width": null
     }
    },
    "3de647bba6a94213b29d9f77c4ffe5b1": {
     "model_module": "@jupyter-widgets/controls",
     "model_module_version": "1.5.0",
     "model_name": "DescriptionStyleModel",
     "state": {
      "_model_module": "@jupyter-widgets/controls",
      "_model_module_version": "1.5.0",
      "_model_name": "DescriptionStyleModel",
      "_view_count": null,
      "_view_module": "@jupyter-widgets/base",
      "_view_module_version": "1.2.0",
      "_view_name": "StyleView",
      "description_width": ""
     }
    },
    "40041e6bdb7043e9a2030d5f1debe878": {
     "model_module": "@jupyter-widgets/controls",
     "model_module_version": "1.5.0",
     "model_name": "HTMLModel",
     "state": {
      "_dom_classes": [],
      "_model_module": "@jupyter-widgets/controls",
      "_model_module_version": "1.5.0",
      "_model_name": "HTMLModel",
      "_view_count": null,
      "_view_module": "@jupyter-widgets/controls",
      "_view_module_version": "1.5.0",
      "_view_name": "HTMLView",
      "description": "",
      "description_tooltip": null,
      "layout": "IPY_MODEL_8c76fe881c2741ceb1a9f11680091240",
      "placeholder": "​",
      "style": "IPY_MODEL_6c2695c6cb564a74a36a99f9dcc8580b",
      "value": " 12239/? [01:44&lt;00:00, 144.43it/s]"
     }
    },
    "402224c78991479e946dd1646b670388": {
     "model_module": "@jupyter-widgets/controls",
     "model_module_version": "1.5.0",
     "model_name": "ProgressStyleModel",
     "state": {
      "_model_module": "@jupyter-widgets/controls",
      "_model_module_version": "1.5.0",
      "_model_name": "ProgressStyleModel",
      "_view_count": null,
      "_view_module": "@jupyter-widgets/base",
      "_view_module_version": "1.2.0",
      "_view_name": "StyleView",
      "bar_color": null,
      "description_width": ""
     }
    },
    "423639141cef483e8a8bd0ce57a39828": {
     "model_module": "@jupyter-widgets/controls",
     "model_module_version": "1.5.0",
     "model_name": "DescriptionStyleModel",
     "state": {
      "_model_module": "@jupyter-widgets/controls",
      "_model_module_version": "1.5.0",
      "_model_name": "DescriptionStyleModel",
      "_view_count": null,
      "_view_module": "@jupyter-widgets/base",
      "_view_module_version": "1.2.0",
      "_view_name": "StyleView",
      "description_width": ""
     }
    },
    "49f63a0a54c546b98ca0f1363508ea8d": {
     "model_module": "@jupyter-widgets/controls",
     "model_module_version": "1.5.0",
     "model_name": "FloatProgressModel",
     "state": {
      "_dom_classes": [],
      "_model_module": "@jupyter-widgets/controls",
      "_model_module_version": "1.5.0",
      "_model_name": "FloatProgressModel",
      "_view_count": null,
      "_view_module": "@jupyter-widgets/controls",
      "_view_module_version": "1.5.0",
      "_view_name": "ProgressView",
      "bar_style": "success",
      "description": "",
      "description_tooltip": null,
      "layout": "IPY_MODEL_c8742f0927274f2d8a0deadf40e58f28",
      "max": 12238,
      "min": 0,
      "orientation": "horizontal",
      "style": "IPY_MODEL_ef1eaf6aa4ad43eb8af06775f762f31c",
      "value": 12238
     }
    },
    "4a066717312949749a7de4c1b2a7d58b": {
     "model_module": "@jupyter-widgets/controls",
     "model_module_version": "1.5.0",
     "model_name": "FloatProgressModel",
     "state": {
      "_dom_classes": [],
      "_model_module": "@jupyter-widgets/controls",
      "_model_module_version": "1.5.0",
      "_model_name": "FloatProgressModel",
      "_view_count": null,
      "_view_module": "@jupyter-widgets/controls",
      "_view_module_version": "1.5.0",
      "_view_name": "ProgressView",
      "bar_style": "success",
      "description": "",
      "description_tooltip": null,
      "layout": "IPY_MODEL_6ce32f68ce8a494ea20f75136f921fec",
      "max": 12238,
      "min": 0,
      "orientation": "horizontal",
      "style": "IPY_MODEL_402224c78991479e946dd1646b670388",
      "value": 12238
     }
    },
    "5187f6a52b4944eb830be4029cab74e2": {
     "model_module": "@jupyter-widgets/controls",
     "model_module_version": "1.5.0",
     "model_name": "DescriptionStyleModel",
     "state": {
      "_model_module": "@jupyter-widgets/controls",
      "_model_module_version": "1.5.0",
      "_model_name": "DescriptionStyleModel",
      "_view_count": null,
      "_view_module": "@jupyter-widgets/base",
      "_view_module_version": "1.2.0",
      "_view_name": "StyleView",
      "description_width": ""
     }
    },
    "581c452f3bbc4eaba78b6c312e524124": {
     "model_module": "@jupyter-widgets/base",
     "model_module_version": "1.2.0",
     "model_name": "LayoutModel",
     "state": {
      "_model_module": "@jupyter-widgets/base",
      "_model_module_version": "1.2.0",
      "_model_name": "LayoutModel",
      "_view_count": null,
      "_view_module": "@jupyter-widgets/base",
      "_view_module_version": "1.2.0",
      "_view_name": "LayoutView",
      "align_content": null,
      "align_items": null,
      "align_self": null,
      "border": null,
      "bottom": null,
      "display": null,
      "flex": null,
      "flex_flow": null,
      "grid_area": null,
      "grid_auto_columns": null,
      "grid_auto_flow": null,
      "grid_auto_rows": null,
      "grid_column": null,
      "grid_gap": null,
      "grid_row": null,
      "grid_template_areas": null,
      "grid_template_columns": null,
      "grid_template_rows": null,
      "height": null,
      "justify_content": null,
      "justify_items": null,
      "left": null,
      "margin": null,
      "max_height": null,
      "max_width": null,
      "min_height": null,
      "min_width": null,
      "object_fit": null,
      "object_position": null,
      "order": null,
      "overflow": null,
      "overflow_x": null,
      "overflow_y": null,
      "padding": null,
      "right": null,
      "top": null,
      "visibility": null,
      "width": null
     }
    },
    "6189596611a440c4a1042ba265e8a34e": {
     "model_module": "@jupyter-widgets/controls",
     "model_module_version": "1.5.0",
     "model_name": "DescriptionStyleModel",
     "state": {
      "_model_module": "@jupyter-widgets/controls",
      "_model_module_version": "1.5.0",
      "_model_name": "DescriptionStyleModel",
      "_view_count": null,
      "_view_module": "@jupyter-widgets/base",
      "_view_module_version": "1.2.0",
      "_view_name": "StyleView",
      "description_width": ""
     }
    },
    "6b58d25800954bb7a69d5d44442c0f17": {
     "model_module": "@jupyter-widgets/base",
     "model_module_version": "1.2.0",
     "model_name": "LayoutModel",
     "state": {
      "_model_module": "@jupyter-widgets/base",
      "_model_module_version": "1.2.0",
      "_model_name": "LayoutModel",
      "_view_count": null,
      "_view_module": "@jupyter-widgets/base",
      "_view_module_version": "1.2.0",
      "_view_name": "LayoutView",
      "align_content": null,
      "align_items": null,
      "align_self": null,
      "border": null,
      "bottom": null,
      "display": null,
      "flex": null,
      "flex_flow": null,
      "grid_area": null,
      "grid_auto_columns": null,
      "grid_auto_flow": null,
      "grid_auto_rows": null,
      "grid_column": null,
      "grid_gap": null,
      "grid_row": null,
      "grid_template_areas": null,
      "grid_template_columns": null,
      "grid_template_rows": null,
      "height": null,
      "justify_content": null,
      "justify_items": null,
      "left": null,
      "margin": null,
      "max_height": null,
      "max_width": null,
      "min_height": null,
      "min_width": null,
      "object_fit": null,
      "object_position": null,
      "order": null,
      "overflow": null,
      "overflow_x": null,
      "overflow_y": null,
      "padding": null,
      "right": null,
      "top": null,
      "visibility": null,
      "width": null
     }
    },
    "6c2695c6cb564a74a36a99f9dcc8580b": {
     "model_module": "@jupyter-widgets/controls",
     "model_module_version": "1.5.0",
     "model_name": "DescriptionStyleModel",
     "state": {
      "_model_module": "@jupyter-widgets/controls",
      "_model_module_version": "1.5.0",
      "_model_name": "DescriptionStyleModel",
      "_view_count": null,
      "_view_module": "@jupyter-widgets/base",
      "_view_module_version": "1.2.0",
      "_view_name": "StyleView",
      "description_width": ""
     }
    },
    "6ce32f68ce8a494ea20f75136f921fec": {
     "model_module": "@jupyter-widgets/base",
     "model_module_version": "1.2.0",
     "model_name": "LayoutModel",
     "state": {
      "_model_module": "@jupyter-widgets/base",
      "_model_module_version": "1.2.0",
      "_model_name": "LayoutModel",
      "_view_count": null,
      "_view_module": "@jupyter-widgets/base",
      "_view_module_version": "1.2.0",
      "_view_name": "LayoutView",
      "align_content": null,
      "align_items": null,
      "align_self": null,
      "border": null,
      "bottom": null,
      "display": null,
      "flex": null,
      "flex_flow": null,
      "grid_area": null,
      "grid_auto_columns": null,
      "grid_auto_flow": null,
      "grid_auto_rows": null,
      "grid_column": null,
      "grid_gap": null,
      "grid_row": null,
      "grid_template_areas": null,
      "grid_template_columns": null,
      "grid_template_rows": null,
      "height": null,
      "justify_content": null,
      "justify_items": null,
      "left": null,
      "margin": null,
      "max_height": null,
      "max_width": null,
      "min_height": null,
      "min_width": null,
      "object_fit": null,
      "object_position": null,
      "order": null,
      "overflow": null,
      "overflow_x": null,
      "overflow_y": null,
      "padding": null,
      "right": null,
      "top": null,
      "visibility": null,
      "width": null
     }
    },
    "6f03f29668a8401b885338319dd9a681": {
     "model_module": "@jupyter-widgets/base",
     "model_module_version": "1.2.0",
     "model_name": "LayoutModel",
     "state": {
      "_model_module": "@jupyter-widgets/base",
      "_model_module_version": "1.2.0",
      "_model_name": "LayoutModel",
      "_view_count": null,
      "_view_module": "@jupyter-widgets/base",
      "_view_module_version": "1.2.0",
      "_view_name": "LayoutView",
      "align_content": null,
      "align_items": null,
      "align_self": null,
      "border": null,
      "bottom": null,
      "display": null,
      "flex": null,
      "flex_flow": null,
      "grid_area": null,
      "grid_auto_columns": null,
      "grid_auto_flow": null,
      "grid_auto_rows": null,
      "grid_column": null,
      "grid_gap": null,
      "grid_row": null,
      "grid_template_areas": null,
      "grid_template_columns": null,
      "grid_template_rows": null,
      "height": null,
      "justify_content": null,
      "justify_items": null,
      "left": null,
      "margin": null,
      "max_height": null,
      "max_width": null,
      "min_height": null,
      "min_width": null,
      "object_fit": null,
      "object_position": null,
      "order": null,
      "overflow": null,
      "overflow_x": null,
      "overflow_y": null,
      "padding": null,
      "right": null,
      "top": null,
      "visibility": null,
      "width": null
     }
    },
    "76905ac44264454fb1880f59e0d6f271": {
     "model_module": "@jupyter-widgets/controls",
     "model_module_version": "1.5.0",
     "model_name": "HBoxModel",
     "state": {
      "_dom_classes": [],
      "_model_module": "@jupyter-widgets/controls",
      "_model_module_version": "1.5.0",
      "_model_name": "HBoxModel",
      "_view_count": null,
      "_view_module": "@jupyter-widgets/controls",
      "_view_module_version": "1.5.0",
      "_view_name": "HBoxView",
      "box_style": "",
      "children": [
       "IPY_MODEL_c891d0af2a6946009db858c9ec98d3a1",
       "IPY_MODEL_09b33174cc1545c58b4e1fdbcb61fc97",
       "IPY_MODEL_22f29830dd5b49d7bd369b0452ea2138"
      ],
      "layout": "IPY_MODEL_581c452f3bbc4eaba78b6c312e524124"
     }
    },
    "7859228813094b7fa4dd53b6ca41d458": {
     "model_module": "@jupyter-widgets/controls",
     "model_module_version": "1.5.0",
     "model_name": "FloatProgressModel",
     "state": {
      "_dom_classes": [],
      "_model_module": "@jupyter-widgets/controls",
      "_model_module_version": "1.5.0",
      "_model_name": "FloatProgressModel",
      "_view_count": null,
      "_view_module": "@jupyter-widgets/controls",
      "_view_module_version": "1.5.0",
      "_view_name": "ProgressView",
      "bar_style": "success",
      "description": "",
      "description_tooltip": null,
      "layout": "IPY_MODEL_a7bb293965d94d488664b6fb7290ead4",
      "max": 12238,
      "min": 0,
      "orientation": "horizontal",
      "style": "IPY_MODEL_dd03c2a1fcb247efb279243cdd0f454a",
      "value": 12238
     }
    },
    "790e80cb99c24293a1cfb64804b23b0a": {
     "model_module": "@jupyter-widgets/controls",
     "model_module_version": "1.5.0",
     "model_name": "HTMLModel",
     "state": {
      "_dom_classes": [],
      "_model_module": "@jupyter-widgets/controls",
      "_model_module_version": "1.5.0",
      "_model_name": "HTMLModel",
      "_view_count": null,
      "_view_module": "@jupyter-widgets/controls",
      "_view_module_version": "1.5.0",
      "_view_name": "HTMLView",
      "description": "",
      "description_tooltip": null,
      "layout": "IPY_MODEL_6f03f29668a8401b885338319dd9a681",
      "placeholder": "​",
      "style": "IPY_MODEL_a23f475aaafd48b2a87a6047bfbc39e6",
      "value": ""
     }
    },
    "871194afc27d4f9bbbe43858d7d788e4": {
     "model_module": "@jupyter-widgets/controls",
     "model_module_version": "1.5.0",
     "model_name": "ProgressStyleModel",
     "state": {
      "_model_module": "@jupyter-widgets/controls",
      "_model_module_version": "1.5.0",
      "_model_name": "ProgressStyleModel",
      "_view_count": null,
      "_view_module": "@jupyter-widgets/base",
      "_view_module_version": "1.2.0",
      "_view_name": "StyleView",
      "bar_color": null,
      "description_width": ""
     }
    },
    "8c76fe881c2741ceb1a9f11680091240": {
     "model_module": "@jupyter-widgets/base",
     "model_module_version": "1.2.0",
     "model_name": "LayoutModel",
     "state": {
      "_model_module": "@jupyter-widgets/base",
      "_model_module_version": "1.2.0",
      "_model_name": "LayoutModel",
      "_view_count": null,
      "_view_module": "@jupyter-widgets/base",
      "_view_module_version": "1.2.0",
      "_view_name": "LayoutView",
      "align_content": null,
      "align_items": null,
      "align_self": null,
      "border": null,
      "bottom": null,
      "display": null,
      "flex": null,
      "flex_flow": null,
      "grid_area": null,
      "grid_auto_columns": null,
      "grid_auto_flow": null,
      "grid_auto_rows": null,
      "grid_column": null,
      "grid_gap": null,
      "grid_row": null,
      "grid_template_areas": null,
      "grid_template_columns": null,
      "grid_template_rows": null,
      "height": null,
      "justify_content": null,
      "justify_items": null,
      "left": null,
      "margin": null,
      "max_height": null,
      "max_width": null,
      "min_height": null,
      "min_width": null,
      "object_fit": null,
      "object_position": null,
      "order": null,
      "overflow": null,
      "overflow_x": null,
      "overflow_y": null,
      "padding": null,
      "right": null,
      "top": null,
      "visibility": null,
      "width": null
     }
    },
    "9103da34bec44e3a9ac0a5cb752e5125": {
     "model_module": "@jupyter-widgets/base",
     "model_module_version": "1.2.0",
     "model_name": "LayoutModel",
     "state": {
      "_model_module": "@jupyter-widgets/base",
      "_model_module_version": "1.2.0",
      "_model_name": "LayoutModel",
      "_view_count": null,
      "_view_module": "@jupyter-widgets/base",
      "_view_module_version": "1.2.0",
      "_view_name": "LayoutView",
      "align_content": null,
      "align_items": null,
      "align_self": null,
      "border": null,
      "bottom": null,
      "display": null,
      "flex": null,
      "flex_flow": null,
      "grid_area": null,
      "grid_auto_columns": null,
      "grid_auto_flow": null,
      "grid_auto_rows": null,
      "grid_column": null,
      "grid_gap": null,
      "grid_row": null,
      "grid_template_areas": null,
      "grid_template_columns": null,
      "grid_template_rows": null,
      "height": null,
      "justify_content": null,
      "justify_items": null,
      "left": null,
      "margin": null,
      "max_height": null,
      "max_width": null,
      "min_height": null,
      "min_width": null,
      "object_fit": null,
      "object_position": null,
      "order": null,
      "overflow": null,
      "overflow_x": null,
      "overflow_y": null,
      "padding": null,
      "right": null,
      "top": null,
      "visibility": null,
      "width": null
     }
    },
    "947a9e20d7d54666b51bceebd8fac4d1": {
     "model_module": "@jupyter-widgets/controls",
     "model_module_version": "1.5.0",
     "model_name": "HBoxModel",
     "state": {
      "_dom_classes": [],
      "_model_module": "@jupyter-widgets/controls",
      "_model_module_version": "1.5.0",
      "_model_name": "HBoxModel",
      "_view_count": null,
      "_view_module": "@jupyter-widgets/controls",
      "_view_module_version": "1.5.0",
      "_view_name": "HBoxView",
      "box_style": "",
      "children": [
       "IPY_MODEL_f4f5fd6bfa1e4a9b8db2a3a2baf1330a",
       "IPY_MODEL_49f63a0a54c546b98ca0f1363508ea8d",
       "IPY_MODEL_ae76774099db48549376256139f7ff29"
      ],
      "layout": "IPY_MODEL_6b58d25800954bb7a69d5d44442c0f17"
     }
    },
    "99e42b716f8e4e599699b6116571780b": {
     "model_module": "@jupyter-widgets/controls",
     "model_module_version": "1.5.0",
     "model_name": "ProgressStyleModel",
     "state": {
      "_model_module": "@jupyter-widgets/controls",
      "_model_module_version": "1.5.0",
      "_model_name": "ProgressStyleModel",
      "_view_count": null,
      "_view_module": "@jupyter-widgets/base",
      "_view_module_version": "1.2.0",
      "_view_name": "StyleView",
      "bar_color": null,
      "description_width": ""
     }
    },
    "a23f475aaafd48b2a87a6047bfbc39e6": {
     "model_module": "@jupyter-widgets/controls",
     "model_module_version": "1.5.0",
     "model_name": "DescriptionStyleModel",
     "state": {
      "_model_module": "@jupyter-widgets/controls",
      "_model_module_version": "1.5.0",
      "_model_name": "DescriptionStyleModel",
      "_view_count": null,
      "_view_module": "@jupyter-widgets/base",
      "_view_module_version": "1.2.0",
      "_view_name": "StyleView",
      "description_width": ""
     }
    },
    "a6124e02aa8d48afa4eb8d9238db18bc": {
     "model_module": "@jupyter-widgets/base",
     "model_module_version": "1.2.0",
     "model_name": "LayoutModel",
     "state": {
      "_model_module": "@jupyter-widgets/base",
      "_model_module_version": "1.2.0",
      "_model_name": "LayoutModel",
      "_view_count": null,
      "_view_module": "@jupyter-widgets/base",
      "_view_module_version": "1.2.0",
      "_view_name": "LayoutView",
      "align_content": null,
      "align_items": null,
      "align_self": null,
      "border": null,
      "bottom": null,
      "display": null,
      "flex": null,
      "flex_flow": null,
      "grid_area": null,
      "grid_auto_columns": null,
      "grid_auto_flow": null,
      "grid_auto_rows": null,
      "grid_column": null,
      "grid_gap": null,
      "grid_row": null,
      "grid_template_areas": null,
      "grid_template_columns": null,
      "grid_template_rows": null,
      "height": null,
      "justify_content": null,
      "justify_items": null,
      "left": null,
      "margin": null,
      "max_height": null,
      "max_width": null,
      "min_height": null,
      "min_width": null,
      "object_fit": null,
      "object_position": null,
      "order": null,
      "overflow": null,
      "overflow_x": null,
      "overflow_y": null,
      "padding": null,
      "right": null,
      "top": null,
      "visibility": null,
      "width": null
     }
    },
    "a7188ebde28241c694e501121ecc3f8a": {
     "model_module": "@jupyter-widgets/controls",
     "model_module_version": "1.5.0",
     "model_name": "HBoxModel",
     "state": {
      "_dom_classes": [],
      "_model_module": "@jupyter-widgets/controls",
      "_model_module_version": "1.5.0",
      "_model_name": "HBoxModel",
      "_view_count": null,
      "_view_module": "@jupyter-widgets/controls",
      "_view_module_version": "1.5.0",
      "_view_name": "HBoxView",
      "box_style": "",
      "children": [
       "IPY_MODEL_790e80cb99c24293a1cfb64804b23b0a",
       "IPY_MODEL_7859228813094b7fa4dd53b6ca41d458",
       "IPY_MODEL_40041e6bdb7043e9a2030d5f1debe878"
      ],
      "layout": "IPY_MODEL_fae6f97c290a48eaa2be15f521acd45b"
     }
    },
    "a7bb293965d94d488664b6fb7290ead4": {
     "model_module": "@jupyter-widgets/base",
     "model_module_version": "1.2.0",
     "model_name": "LayoutModel",
     "state": {
      "_model_module": "@jupyter-widgets/base",
      "_model_module_version": "1.2.0",
      "_model_name": "LayoutModel",
      "_view_count": null,
      "_view_module": "@jupyter-widgets/base",
      "_view_module_version": "1.2.0",
      "_view_name": "LayoutView",
      "align_content": null,
      "align_items": null,
      "align_self": null,
      "border": null,
      "bottom": null,
      "display": null,
      "flex": null,
      "flex_flow": null,
      "grid_area": null,
      "grid_auto_columns": null,
      "grid_auto_flow": null,
      "grid_auto_rows": null,
      "grid_column": null,
      "grid_gap": null,
      "grid_row": null,
      "grid_template_areas": null,
      "grid_template_columns": null,
      "grid_template_rows": null,
      "height": null,
      "justify_content": null,
      "justify_items": null,
      "left": null,
      "margin": null,
      "max_height": null,
      "max_width": null,
      "min_height": null,
      "min_width": null,
      "object_fit": null,
      "object_position": null,
      "order": null,
      "overflow": null,
      "overflow_x": null,
      "overflow_y": null,
      "padding": null,
      "right": null,
      "top": null,
      "visibility": null,
      "width": null
     }
    },
    "a7fb909097af4a8eb7ded942c3b0f688": {
     "model_module": "@jupyter-widgets/controls",
     "model_module_version": "1.5.0",
     "model_name": "DescriptionStyleModel",
     "state": {
      "_model_module": "@jupyter-widgets/controls",
      "_model_module_version": "1.5.0",
      "_model_name": "DescriptionStyleModel",
      "_view_count": null,
      "_view_module": "@jupyter-widgets/base",
      "_view_module_version": "1.2.0",
      "_view_name": "StyleView",
      "description_width": ""
     }
    },
    "ae76774099db48549376256139f7ff29": {
     "model_module": "@jupyter-widgets/controls",
     "model_module_version": "1.5.0",
     "model_name": "HTMLModel",
     "state": {
      "_dom_classes": [],
      "_model_module": "@jupyter-widgets/controls",
      "_model_module_version": "1.5.0",
      "_model_name": "HTMLModel",
      "_view_count": null,
      "_view_module": "@jupyter-widgets/controls",
      "_view_module_version": "1.5.0",
      "_view_name": "HTMLView",
      "description": "",
      "description_tooltip": null,
      "layout": "IPY_MODEL_d3ca45bb799d4cfaaeaa7efa69aab106",
      "placeholder": "​",
      "style": "IPY_MODEL_6189596611a440c4a1042ba265e8a34e",
      "value": " 12239/? [01:44&lt;00:00, 150.47it/s]"
     }
    },
    "b00a4f5e8c7c4ea3829443e7ceee79fc": {
     "model_module": "@jupyter-widgets/controls",
     "model_module_version": "1.5.0",
     "model_name": "HTMLModel",
     "state": {
      "_dom_classes": [],
      "_model_module": "@jupyter-widgets/controls",
      "_model_module_version": "1.5.0",
      "_model_name": "HTMLModel",
      "_view_count": null,
      "_view_module": "@jupyter-widgets/controls",
      "_view_module_version": "1.5.0",
      "_view_name": "HTMLView",
      "description": "",
      "description_tooltip": null,
      "layout": "IPY_MODEL_c44cab0d828b475396873cf738ef16fc",
      "placeholder": "​",
      "style": "IPY_MODEL_fd736eef281c40d9ac3e0c958e083887",
      "value": ""
     }
    },
    "b214ec84efde46d792ff323a1488a079": {
     "model_module": "@jupyter-widgets/base",
     "model_module_version": "1.2.0",
     "model_name": "LayoutModel",
     "state": {
      "_model_module": "@jupyter-widgets/base",
      "_model_module_version": "1.2.0",
      "_model_name": "LayoutModel",
      "_view_count": null,
      "_view_module": "@jupyter-widgets/base",
      "_view_module_version": "1.2.0",
      "_view_name": "LayoutView",
      "align_content": null,
      "align_items": null,
      "align_self": null,
      "border": null,
      "bottom": null,
      "display": null,
      "flex": null,
      "flex_flow": null,
      "grid_area": null,
      "grid_auto_columns": null,
      "grid_auto_flow": null,
      "grid_auto_rows": null,
      "grid_column": null,
      "grid_gap": null,
      "grid_row": null,
      "grid_template_areas": null,
      "grid_template_columns": null,
      "grid_template_rows": null,
      "height": null,
      "justify_content": null,
      "justify_items": null,
      "left": null,
      "margin": null,
      "max_height": null,
      "max_width": null,
      "min_height": null,
      "min_width": null,
      "object_fit": null,
      "object_position": null,
      "order": null,
      "overflow": null,
      "overflow_x": null,
      "overflow_y": null,
      "padding": null,
      "right": null,
      "top": null,
      "visibility": null,
      "width": null
     }
    },
    "b26e8403ae9c43fa9a847fa9ab67f53b": {
     "model_module": "@jupyter-widgets/controls",
     "model_module_version": "1.5.0",
     "model_name": "HTMLModel",
     "state": {
      "_dom_classes": [],
      "_model_module": "@jupyter-widgets/controls",
      "_model_module_version": "1.5.0",
      "_model_name": "HTMLModel",
      "_view_count": null,
      "_view_module": "@jupyter-widgets/controls",
      "_view_module_version": "1.5.0",
      "_view_name": "HTMLView",
      "description": "",
      "description_tooltip": null,
      "layout": "IPY_MODEL_cc64ff02dd524a9e988487893730a3c6",
      "placeholder": "​",
      "style": "IPY_MODEL_423639141cef483e8a8bd0ce57a39828",
      "value": " 12239/? [01:49&lt;00:00, 153.25it/s]"
     }
    },
    "b37db1967b304f18ac8014de6c52e208": {
     "model_module": "@jupyter-widgets/controls",
     "model_module_version": "1.5.0",
     "model_name": "HTMLModel",
     "state": {
      "_dom_classes": [],
      "_model_module": "@jupyter-widgets/controls",
      "_model_module_version": "1.5.0",
      "_model_name": "HTMLModel",
      "_view_count": null,
      "_view_module": "@jupyter-widgets/controls",
      "_view_module_version": "1.5.0",
      "_view_name": "HTMLView",
      "description": "",
      "description_tooltip": null,
      "layout": "IPY_MODEL_9103da34bec44e3a9ac0a5cb752e5125",
      "placeholder": "​",
      "style": "IPY_MODEL_3de647bba6a94213b29d9f77c4ffe5b1",
      "value": ""
     }
    },
    "bd7d60c60eb14db39e4e82b2d309cb72": {
     "model_module": "@jupyter-widgets/base",
     "model_module_version": "1.2.0",
     "model_name": "LayoutModel",
     "state": {
      "_model_module": "@jupyter-widgets/base",
      "_model_module_version": "1.2.0",
      "_model_name": "LayoutModel",
      "_view_count": null,
      "_view_module": "@jupyter-widgets/base",
      "_view_module_version": "1.2.0",
      "_view_name": "LayoutView",
      "align_content": null,
      "align_items": null,
      "align_self": null,
      "border": null,
      "bottom": null,
      "display": null,
      "flex": null,
      "flex_flow": null,
      "grid_area": null,
      "grid_auto_columns": null,
      "grid_auto_flow": null,
      "grid_auto_rows": null,
      "grid_column": null,
      "grid_gap": null,
      "grid_row": null,
      "grid_template_areas": null,
      "grid_template_columns": null,
      "grid_template_rows": null,
      "height": null,
      "justify_content": null,
      "justify_items": null,
      "left": null,
      "margin": null,
      "max_height": null,
      "max_width": null,
      "min_height": null,
      "min_width": null,
      "object_fit": null,
      "object_position": null,
      "order": null,
      "overflow": null,
      "overflow_x": null,
      "overflow_y": null,
      "padding": null,
      "right": null,
      "top": null,
      "visibility": null,
      "width": null
     }
    },
    "bfdaa0b250ec4045a51c0a220e7d2934": {
     "model_module": "@jupyter-widgets/controls",
     "model_module_version": "1.5.0",
     "model_name": "HTMLModel",
     "state": {
      "_dom_classes": [],
      "_model_module": "@jupyter-widgets/controls",
      "_model_module_version": "1.5.0",
      "_model_name": "HTMLModel",
      "_view_count": null,
      "_view_module": "@jupyter-widgets/controls",
      "_view_module_version": "1.5.0",
      "_view_name": "HTMLView",
      "description": "",
      "description_tooltip": null,
      "layout": "IPY_MODEL_cd8de4a6c133450cabda0271ffe3f220",
      "placeholder": "​",
      "style": "IPY_MODEL_095c00c08f6d4d638ff986b700c9db2e",
      "value": " 12239/? [01:52&lt;00:00, 111.02it/s]"
     }
    },
    "c44cab0d828b475396873cf738ef16fc": {
     "model_module": "@jupyter-widgets/base",
     "model_module_version": "1.2.0",
     "model_name": "LayoutModel",
     "state": {
      "_model_module": "@jupyter-widgets/base",
      "_model_module_version": "1.2.0",
      "_model_name": "LayoutModel",
      "_view_count": null,
      "_view_module": "@jupyter-widgets/base",
      "_view_module_version": "1.2.0",
      "_view_name": "LayoutView",
      "align_content": null,
      "align_items": null,
      "align_self": null,
      "border": null,
      "bottom": null,
      "display": null,
      "flex": null,
      "flex_flow": null,
      "grid_area": null,
      "grid_auto_columns": null,
      "grid_auto_flow": null,
      "grid_auto_rows": null,
      "grid_column": null,
      "grid_gap": null,
      "grid_row": null,
      "grid_template_areas": null,
      "grid_template_columns": null,
      "grid_template_rows": null,
      "height": null,
      "justify_content": null,
      "justify_items": null,
      "left": null,
      "margin": null,
      "max_height": null,
      "max_width": null,
      "min_height": null,
      "min_width": null,
      "object_fit": null,
      "object_position": null,
      "order": null,
      "overflow": null,
      "overflow_x": null,
      "overflow_y": null,
      "padding": null,
      "right": null,
      "top": null,
      "visibility": null,
      "width": null
     }
    },
    "c8742f0927274f2d8a0deadf40e58f28": {
     "model_module": "@jupyter-widgets/base",
     "model_module_version": "1.2.0",
     "model_name": "LayoutModel",
     "state": {
      "_model_module": "@jupyter-widgets/base",
      "_model_module_version": "1.2.0",
      "_model_name": "LayoutModel",
      "_view_count": null,
      "_view_module": "@jupyter-widgets/base",
      "_view_module_version": "1.2.0",
      "_view_name": "LayoutView",
      "align_content": null,
      "align_items": null,
      "align_self": null,
      "border": null,
      "bottom": null,
      "display": null,
      "flex": null,
      "flex_flow": null,
      "grid_area": null,
      "grid_auto_columns": null,
      "grid_auto_flow": null,
      "grid_auto_rows": null,
      "grid_column": null,
      "grid_gap": null,
      "grid_row": null,
      "grid_template_areas": null,
      "grid_template_columns": null,
      "grid_template_rows": null,
      "height": null,
      "justify_content": null,
      "justify_items": null,
      "left": null,
      "margin": null,
      "max_height": null,
      "max_width": null,
      "min_height": null,
      "min_width": null,
      "object_fit": null,
      "object_position": null,
      "order": null,
      "overflow": null,
      "overflow_x": null,
      "overflow_y": null,
      "padding": null,
      "right": null,
      "top": null,
      "visibility": null,
      "width": null
     }
    },
    "c891d0af2a6946009db858c9ec98d3a1": {
     "model_module": "@jupyter-widgets/controls",
     "model_module_version": "1.5.0",
     "model_name": "HTMLModel",
     "state": {
      "_dom_classes": [],
      "_model_module": "@jupyter-widgets/controls",
      "_model_module_version": "1.5.0",
      "_model_name": "HTMLModel",
      "_view_count": null,
      "_view_module": "@jupyter-widgets/controls",
      "_view_module_version": "1.5.0",
      "_view_name": "HTMLView",
      "description": "",
      "description_tooltip": null,
      "layout": "IPY_MODEL_3bc5440ffea940bc879895e3975ffd27",
      "placeholder": "​",
      "style": "IPY_MODEL_0a231bc0f5744d799ec2eb21538c7475",
      "value": ""
     }
    },
    "cc64ff02dd524a9e988487893730a3c6": {
     "model_module": "@jupyter-widgets/base",
     "model_module_version": "1.2.0",
     "model_name": "LayoutModel",
     "state": {
      "_model_module": "@jupyter-widgets/base",
      "_model_module_version": "1.2.0",
      "_model_name": "LayoutModel",
      "_view_count": null,
      "_view_module": "@jupyter-widgets/base",
      "_view_module_version": "1.2.0",
      "_view_name": "LayoutView",
      "align_content": null,
      "align_items": null,
      "align_self": null,
      "border": null,
      "bottom": null,
      "display": null,
      "flex": null,
      "flex_flow": null,
      "grid_area": null,
      "grid_auto_columns": null,
      "grid_auto_flow": null,
      "grid_auto_rows": null,
      "grid_column": null,
      "grid_gap": null,
      "grid_row": null,
      "grid_template_areas": null,
      "grid_template_columns": null,
      "grid_template_rows": null,
      "height": null,
      "justify_content": null,
      "justify_items": null,
      "left": null,
      "margin": null,
      "max_height": null,
      "max_width": null,
      "min_height": null,
      "min_width": null,
      "object_fit": null,
      "object_position": null,
      "order": null,
      "overflow": null,
      "overflow_x": null,
      "overflow_y": null,
      "padding": null,
      "right": null,
      "top": null,
      "visibility": null,
      "width": null
     }
    },
    "cd8de4a6c133450cabda0271ffe3f220": {
     "model_module": "@jupyter-widgets/base",
     "model_module_version": "1.2.0",
     "model_name": "LayoutModel",
     "state": {
      "_model_module": "@jupyter-widgets/base",
      "_model_module_version": "1.2.0",
      "_model_name": "LayoutModel",
      "_view_count": null,
      "_view_module": "@jupyter-widgets/base",
      "_view_module_version": "1.2.0",
      "_view_name": "LayoutView",
      "align_content": null,
      "align_items": null,
      "align_self": null,
      "border": null,
      "bottom": null,
      "display": null,
      "flex": null,
      "flex_flow": null,
      "grid_area": null,
      "grid_auto_columns": null,
      "grid_auto_flow": null,
      "grid_auto_rows": null,
      "grid_column": null,
      "grid_gap": null,
      "grid_row": null,
      "grid_template_areas": null,
      "grid_template_columns": null,
      "grid_template_rows": null,
      "height": null,
      "justify_content": null,
      "justify_items": null,
      "left": null,
      "margin": null,
      "max_height": null,
      "max_width": null,
      "min_height": null,
      "min_width": null,
      "object_fit": null,
      "object_position": null,
      "order": null,
      "overflow": null,
      "overflow_x": null,
      "overflow_y": null,
      "padding": null,
      "right": null,
      "top": null,
      "visibility": null,
      "width": null
     }
    },
    "d3ca45bb799d4cfaaeaa7efa69aab106": {
     "model_module": "@jupyter-widgets/base",
     "model_module_version": "1.2.0",
     "model_name": "LayoutModel",
     "state": {
      "_model_module": "@jupyter-widgets/base",
      "_model_module_version": "1.2.0",
      "_model_name": "LayoutModel",
      "_view_count": null,
      "_view_module": "@jupyter-widgets/base",
      "_view_module_version": "1.2.0",
      "_view_name": "LayoutView",
      "align_content": null,
      "align_items": null,
      "align_self": null,
      "border": null,
      "bottom": null,
      "display": null,
      "flex": null,
      "flex_flow": null,
      "grid_area": null,
      "grid_auto_columns": null,
      "grid_auto_flow": null,
      "grid_auto_rows": null,
      "grid_column": null,
      "grid_gap": null,
      "grid_row": null,
      "grid_template_areas": null,
      "grid_template_columns": null,
      "grid_template_rows": null,
      "height": null,
      "justify_content": null,
      "justify_items": null,
      "left": null,
      "margin": null,
      "max_height": null,
      "max_width": null,
      "min_height": null,
      "min_width": null,
      "object_fit": null,
      "object_position": null,
      "order": null,
      "overflow": null,
      "overflow_x": null,
      "overflow_y": null,
      "padding": null,
      "right": null,
      "top": null,
      "visibility": null,
      "width": null
     }
    },
    "d6bc359288c1481abba36661bce52892": {
     "model_module": "@jupyter-widgets/controls",
     "model_module_version": "1.5.0",
     "model_name": "FloatProgressModel",
     "state": {
      "_dom_classes": [],
      "_model_module": "@jupyter-widgets/controls",
      "_model_module_version": "1.5.0",
      "_model_name": "FloatProgressModel",
      "_view_count": null,
      "_view_module": "@jupyter-widgets/controls",
      "_view_module_version": "1.5.0",
      "_view_name": "ProgressView",
      "bar_style": "success",
      "description": "",
      "description_tooltip": null,
      "layout": "IPY_MODEL_b214ec84efde46d792ff323a1488a079",
      "max": 12238,
      "min": 0,
      "orientation": "horizontal",
      "style": "IPY_MODEL_99e42b716f8e4e599699b6116571780b",
      "value": 12238
     }
    },
    "dd03c2a1fcb247efb279243cdd0f454a": {
     "model_module": "@jupyter-widgets/controls",
     "model_module_version": "1.5.0",
     "model_name": "ProgressStyleModel",
     "state": {
      "_model_module": "@jupyter-widgets/controls",
      "_model_module_version": "1.5.0",
      "_model_name": "ProgressStyleModel",
      "_view_count": null,
      "_view_module": "@jupyter-widgets/base",
      "_view_module_version": "1.2.0",
      "_view_name": "StyleView",
      "bar_color": null,
      "description_width": ""
     }
    },
    "ee5442849a22475a8dfabec35fe90ab9": {
     "model_module": "@jupyter-widgets/controls",
     "model_module_version": "1.5.0",
     "model_name": "HBoxModel",
     "state": {
      "_dom_classes": [],
      "_model_module": "@jupyter-widgets/controls",
      "_model_module_version": "1.5.0",
      "_model_name": "HBoxModel",
      "_view_count": null,
      "_view_module": "@jupyter-widgets/controls",
      "_view_module_version": "1.5.0",
      "_view_name": "HBoxView",
      "box_style": "",
      "children": [
       "IPY_MODEL_b37db1967b304f18ac8014de6c52e208",
       "IPY_MODEL_4a066717312949749a7de4c1b2a7d58b",
       "IPY_MODEL_bfdaa0b250ec4045a51c0a220e7d2934"
      ],
      "layout": "IPY_MODEL_a6124e02aa8d48afa4eb8d9238db18bc"
     }
    },
    "ef1eaf6aa4ad43eb8af06775f762f31c": {
     "model_module": "@jupyter-widgets/controls",
     "model_module_version": "1.5.0",
     "model_name": "ProgressStyleModel",
     "state": {
      "_model_module": "@jupyter-widgets/controls",
      "_model_module_version": "1.5.0",
      "_model_name": "ProgressStyleModel",
      "_view_count": null,
      "_view_module": "@jupyter-widgets/base",
      "_view_module_version": "1.2.0",
      "_view_name": "StyleView",
      "bar_color": null,
      "description_width": ""
     }
    },
    "f4f5fd6bfa1e4a9b8db2a3a2baf1330a": {
     "model_module": "@jupyter-widgets/controls",
     "model_module_version": "1.5.0",
     "model_name": "HTMLModel",
     "state": {
      "_dom_classes": [],
      "_model_module": "@jupyter-widgets/controls",
      "_model_module_version": "1.5.0",
      "_model_name": "HTMLModel",
      "_view_count": null,
      "_view_module": "@jupyter-widgets/controls",
      "_view_module_version": "1.5.0",
      "_view_name": "HTMLView",
      "description": "",
      "description_tooltip": null,
      "layout": "IPY_MODEL_38b2791ac6e74ec28d5b497ed464b1e7",
      "placeholder": "​",
      "style": "IPY_MODEL_5187f6a52b4944eb830be4029cab74e2",
      "value": ""
     }
    },
    "fae6f97c290a48eaa2be15f521acd45b": {
     "model_module": "@jupyter-widgets/base",
     "model_module_version": "1.2.0",
     "model_name": "LayoutModel",
     "state": {
      "_model_module": "@jupyter-widgets/base",
      "_model_module_version": "1.2.0",
      "_model_name": "LayoutModel",
      "_view_count": null,
      "_view_module": "@jupyter-widgets/base",
      "_view_module_version": "1.2.0",
      "_view_name": "LayoutView",
      "align_content": null,
      "align_items": null,
      "align_self": null,
      "border": null,
      "bottom": null,
      "display": null,
      "flex": null,
      "flex_flow": null,
      "grid_area": null,
      "grid_auto_columns": null,
      "grid_auto_flow": null,
      "grid_auto_rows": null,
      "grid_column": null,
      "grid_gap": null,
      "grid_row": null,
      "grid_template_areas": null,
      "grid_template_columns": null,
      "grid_template_rows": null,
      "height": null,
      "justify_content": null,
      "justify_items": null,
      "left": null,
      "margin": null,
      "max_height": null,
      "max_width": null,
      "min_height": null,
      "min_width": null,
      "object_fit": null,
      "object_position": null,
      "order": null,
      "overflow": null,
      "overflow_x": null,
      "overflow_y": null,
      "padding": null,
      "right": null,
      "top": null,
      "visibility": null,
      "width": null
     }
    },
    "fd736eef281c40d9ac3e0c958e083887": {
     "model_module": "@jupyter-widgets/controls",
     "model_module_version": "1.5.0",
     "model_name": "DescriptionStyleModel",
     "state": {
      "_model_module": "@jupyter-widgets/controls",
      "_model_module_version": "1.5.0",
      "_model_name": "DescriptionStyleModel",
      "_view_count": null,
      "_view_module": "@jupyter-widgets/base",
      "_view_module_version": "1.2.0",
      "_view_name": "StyleView",
      "description_width": ""
     }
    }
   }
  }
 },
 "nbformat": 4,
 "nbformat_minor": 4
}
